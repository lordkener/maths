{
 "cells": [
  {
   "cell_type": "markdown",
   "metadata": {
    "collapsed": true
   },
   "source": [
    "# Programming Exercise 8: Anomaly Detection and Recommender Systems"
   ]
  },
  {
   "cell_type": "code",
   "execution_count": 58,
   "metadata": {
    "collapsed": true
   },
   "outputs": [],
   "source": [
    "% matplotlib inline\n",
    "\n",
    "import matplotlib.pyplot as plt\n",
    "import numpy as np\n",
    "# Use to load the OCTAVE *.mat files\n",
    "from scipy.io import loadmat\n",
    "# Use for fmincg\n",
    "from scipy.optimize import minimize\n"
   ]
  },
  {
   "cell_type": "markdown",
   "metadata": {},
   "source": [
    "## 1 Anomaly detection"
   ]
  },
  {
   "cell_type": "code",
   "execution_count": 2,
   "metadata": {
    "collapsed": true
   },
   "outputs": [],
   "source": [
    "def load(datafile):\n",
    "    globals().update(loadmat(datafile))\n"
   ]
  },
  {
   "cell_type": "code",
   "execution_count": 3,
   "metadata": {
    "collapsed": true
   },
   "outputs": [],
   "source": [
    "load('machine-learning-ex8/ex8/ex8data1.mat')\n"
   ]
  },
  {
   "cell_type": "code",
   "execution_count": 4,
   "metadata": {
    "collapsed": true
   },
   "outputs": [],
   "source": [
    "def plotData(X):\n",
    "    plt.plot(X[:, 0], X[:, 1], 'b+')\n",
    "    plt.xlabel('Latency [ms]', fontsize=16)\n",
    "    plt.ylabel('Throughput [mb/s]', fontsize=16)\n"
   ]
  },
  {
   "cell_type": "code",
   "execution_count": 5,
   "metadata": {},
   "outputs": [
    {
     "data": {
      "image/png": "[encoded data removed]",
      "text/plain": [
       "<matplotlib.figure.Figure at 0x25696b2d7b8>"
      ]
     },
     "metadata": {},
     "output_type": "display_data"
    }
   ],
   "source": [
    "plotData(X)\n"
   ]
  },
  {
   "cell_type": "markdown",
   "metadata": {},
   "source": [
    "### 1.1 Gaussian distribution"
   ]
  },
  {
   "cell_type": "markdown",
   "metadata": {},
   "source": [
    "$$p(x;\\mu,\\sigma^{2}) = \\frac{1}{\\sqrt{2\\pi\\sigma^{2}}}e^{-\\frac{(x - \\mu)^{2}}{2\\sigma^{2}}}$$"
   ]
  },
  {
   "cell_type": "code",
   "execution_count": 6,
   "metadata": {
    "collapsed": true
   },
   "outputs": [],
   "source": [
    "def multivariateGaussian(X, mu, cov):\n",
    "    if np.ndim(cov) == 1:\n",
    "        cov = np.diag(cov)\n",
    "    norm = (np.linalg.det(2 * np.pi * cov)) ** (-1 / 2)\n",
    "    inv = np.linalg.inv(cov)\n",
    "    centered_X = X - mu\n",
    "    exp = np.exp(-0.5 * np.sum(centered_X.dot(inv) * centered_X, axis=1)).reshape((-1, 1))\n",
    "    return norm * exp\n"
   ]
  },
  {
   "cell_type": "markdown",
   "metadata": {},
   "source": [
    "### 1.2 Estimating parameters for a Gaussian"
   ]
  },
  {
   "cell_type": "markdown",
   "metadata": {},
   "source": [
    "$$\n",
    "\\begin{equation}\n",
    "\\begin{split}\n",
    "\\mu_{i} & = \\frac{1}{m}\\sum_{j=1}^{m}x_{i}^{(j)}\\\\\n",
    "\\sigma_{i}^{2} & = \\frac{1}{m}\\sum_{j=1}^{m}(x_{i}^{(j)} - \\mu_{i})^{2}\n",
    "\\end{split}\n",
    "\\end{equation}\n",
    "$$"
   ]
  },
  {
   "cell_type": "code",
   "execution_count": 7,
   "metadata": {
    "collapsed": true
   },
   "outputs": [],
   "source": [
    "def estimateGaussian(X, multivariate=True):\n",
    "    mu = X.mean(axis=0)\n",
    "    if multivariate:\n",
    "        return mu, np.cov(X.T)\n",
    "    else:\n",
    "        return mu, X.var(axis=0)\n"
   ]
  },
  {
   "cell_type": "code",
   "execution_count": 8,
   "metadata": {
    "collapsed": true
   },
   "outputs": [],
   "source": [
    "def visualizeFit(X):\n",
    "    plotData(X)\n",
    "    xx = np.linspace(0, 30)\n",
    "    X1, X2 = np.meshgrid(xx, xx)\n",
    "    XX = np.column_stack((X1.ravel(), X2.ravel()))\n",
    "    Z = multivariateGaussian(XX, *estimateGaussian(X)).reshape(X1.shape)\n",
    "    plt.contour(X1, X2, Z, levels=np.logspace(-20, 0, 10))\n"
   ]
  },
  {
   "cell_type": "code",
   "execution_count": 9,
   "metadata": {},
   "outputs": [],
   "source": [
    "visualizeFit(X)\n"
   ]
  },
  {
   "cell_type": "markdown",
   "metadata": {},
   "source": [
    "### 1.3    Selecting the threshold, ε"
   ]
  },
  {
   "cell_type": "markdown",
   "metadata": {},
   "source": [
    "$$\n",
    "\\begin{equation}\n",
    "\\begin{split}\n",
    "F_{1} & = \\frac{2 * prec * prec}{prec + rec}\\\\\n",
    "prec & = \\frac{tp}{tp + fp}\\\\\n",
    "rec & = \\frac{tp}{tp + fn}\n",
    "\\end{split}\n",
    "\\end{equation}\n",
    "$$"
   ]
  },
  {
   "cell_type": "markdown",
   "metadata": {},
   "source": [
    "* tp is the number of true positives: the ground truth label says it's an anomaly and our algorithm correctly classified it as an anomaly.\n",
    "* fp is the number of false positives: the ground truth label says it's not an anomaly, but our algorithm incorrectly classified it as an anomaly.\n",
    "* fn is the number of false negatives: the ground truth label says it's an anomaly, but our algorithm incorrectly classified it as not being anomalous"
   ]
  },
  {
   "cell_type": "code",
   "execution_count": 10,
   "metadata": {
    "collapsed": true
   },
   "outputs": [],
   "source": [
    "def F1_score(y_pred, y):\n",
    "    assert y_pred.shape == y.shape\n",
    "    tp = np.sum((y_pred == 1) & (y == 1))\n",
    "    fp = np.sum((y_pred == 1) & (y == 0))\n",
    "    fn = np.sum((y_pred == 0) & (y == 1))\n",
    "    prec = tp / (tp + fp)\n",
    "    rec = tp / (tp + fn)\n",
    "    return 2 * prec * rec / (prec + rec)\n"
   ]
  },
  {
   "cell_type": "code",
   "execution_count": 11,
   "metadata": {
    "collapsed": true
   },
   "outputs": [],
   "source": [
    "def selectThreshold(yval, pval):\n",
    "    bestF1, bestEpsilon = 0, 0\n",
    "    for epsilon in np.linspace(np.min(pval), np.max(pval), 1000):\n",
    "        y_pred = pval < epsilon\n",
    "        tmp = F1_score(y_pred, yval)\n",
    "        if tmp <= bestF1:\n",
    "            break\n",
    "        bestF1 = tmp\n",
    "        bestEpsilon = epsilon\n",
    "    return bestEpsilon, bestF1\n"
   ]
  },
  {
   "cell_type": "code",
   "execution_count": 12,
   "metadata": {},
   "outputs": [
    {
     "name": "stderr",
     "output_type": "stream",
     "text": [
      "C:\\Anaconda3\\lib\\site-packages\\ipykernel_launcher.py:6: RuntimeWarning: invalid value encountered in long_scalars\n  \n"
     ]
    }
   ],
   "source": [
    "# select using the parameters fited to original data, X, not Xval!!!\n",
    "pval = multivariateGaussian(Xval, *estimateGaussian(X))\n",
    "epsilon, f1 = selectThreshold(yval, pval)\n",
    "np.testing.assert_approx_equal(epsilon, 9 * 10 ** -5, significant=2)\n",
    "np.testing.assert_approx_equal(f1, 0.875)\n"
   ]
  },
  {
   "cell_type": "code",
   "execution_count": 13,
   "metadata": {},
   "outputs": [
    {
     "data": {
      "text/plain": [
       "<matplotlib.collections.PathCollection at 0x25699ef3400>"
      ]
     },
     "execution_count": 13,
     "metadata": {},
     "output_type": "execute_result"
    }
   ],
   "source": [
    "visualizeFit(X)\n",
    "anom = X[np.where(pval < epsilon)[0]]\n",
    "plt.scatter(anom[:, 0], anom[:, 1], s=80, facecolors='none', edgecolors='r')\n"
   ]
  },
  {
   "cell_type": "markdown",
   "metadata": {},
   "source": [
    "### 1.4 High dimensional dataset"
   ]
  },
  {
   "cell_type": "code",
   "execution_count": 14,
   "metadata": {
    "collapsed": true
   },
   "outputs": [],
   "source": [
    "load('machine-learning-ex8/ex8/ex8data2.mat')"
   ]
  },
  {
   "cell_type": "code",
   "execution_count": 15,
   "metadata": {},
   "outputs": [
    {
     "name": "stdout",
     "output_type": "stream",
     "text": [
      "Best epsilon found using cross-validation: 1.3786074982e-18\nBest F1 on Cross Validation Set:   0.615384615385\n   (you should see a value epsilon of about 1.38e-18)\n   (you should see a Best F1 value of 0.615385)\n# Outliers found: 117\n"
     ]
    },
    {
     "name": "stderr",
     "output_type": "stream",
     "text": [
      "C:\\Anaconda3\\lib\\site-packages\\ipykernel_launcher.py:6: RuntimeWarning: invalid value encountered in long_scalars\n  \n"
     ]
    }
   ],
   "source": [
    "mu, var = estimateGaussian(X, multivariate=False)\n",
    "p = multivariateGaussian(X, mu, var)\n",
    "pval = multivariateGaussian(Xval, mu, var)\n",
    "epsilon, F1 = selectThreshold(yval, pval)\n",
    "print('Best epsilon found using cross-validation:', epsilon)\n",
    "print('Best F1 on Cross Validation Set:  ', F1)\n",
    "print('   (you should see a value epsilon of about 1.38e-18)')\n",
    "print('   (you should see a Best F1 value of 0.615385)')\n",
    "print('# Outliers found:', np.sum(p < epsilon))\n"
   ]
  },
  {
   "cell_type": "markdown",
   "metadata": {},
   "source": [
    "## 2 Recommender Systems"
   ]
  },
  {
   "cell_type": "markdown",
   "metadata": {},
   "source": [
    "### 2.1 Movie ratings dataset"
   ]
  },
  {
   "cell_type": "code",
   "execution_count": 16,
   "metadata": {
    "collapsed": true
   },
   "outputs": [],
   "source": [
    "load('machine-learning-ex8/ex8/ex8_movies.mat')\n"
   ]
  },
  {
   "cell_type": "code",
   "execution_count": 17,
   "metadata": {},
   "outputs": [
    {
     "name": "stdout",
     "output_type": "stream",
     "text": [
      "Average rating for movie 1 (Toy Story): 3.8783185840707963\n"
     ]
    },
    {
     "data": {
      "text/plain": [
       "Text(0.5,0,'Users (943)')"
      ]
     },
     "execution_count": 17,
     "metadata": {},
     "output_type": "execute_result"
    },
    {
     "data": {
      "image/png": "[encoded data removed]",
      "text/plain": [
       "<matplotlib.figure.Figure at 0x25699efe6a0>"
      ]
     },
     "metadata": {},
     "output_type": "display_data"
    }
   ],
   "source": [
    "nm, nu = Y.shape\n",
    "print(f'Average rating for movie 1 (Toy Story): {np.mean(Y[0][np.where(R[0] == 1)[0]])}')\n",
    "fig = plt.figure(figsize=(6, 6 * (1682. / 943.)))\n",
    "plt.imshow(Y)\n",
    "plt.colorbar()\n",
    "plt.ylabel('Movies (%d)' % nm, fontsize=20)\n",
    "plt.xlabel('Users (%d)' % nu, fontsize=20)\n"
   ]
  },
  {
   "cell_type": "markdown",
   "metadata": {},
   "source": [
    "### 2.2 Collaborative filtering learning algorithm"
   ]
  },
  {
   "cell_type": "code",
   "execution_count": 18,
   "metadata": {},
   "outputs": [],
   "source": [
    "def unroll_params(params):\n",
    "    return np.concatenate([param.ravel() for param in params])\n"
   ]
  },
  {
   "cell_type": "code",
   "execution_count": 19,
   "metadata": {},
   "outputs": [],
   "source": [
    "def reshape_params(params, num_users, num_movies, num_features):\n",
    "    # Unfold the U and W matrices from params\n",
    "    X = params[:num_movies * num_features].reshape(num_movies, num_features)\n",
    "    Theta = params[num_movies * num_features:].reshape(num_users, num_features)\n",
    "    return X, Theta\n"
   ]
  },
  {
   "cell_type": "markdown",
   "metadata": {},
   "source": [
    "#### 2.2.1 Collaborative filtering cost function"
   ]
  },
  {
   "cell_type": "markdown",
   "metadata": {},
   "source": [
    "#### 2.2.3 Regularized cost function"
   ]
  },
  {
   "cell_type": "markdown",
   "metadata": {},
   "source": [
    "$$J(x^{(1)}, \\dots, x^{(n_{u})}, \\theta^{(1)}, \\dots, \\theta^{(n_{u})}) = \\frac{1}{2}\\sum_{(i, j):r(i, j) = 1}((\\theta^{(j)})^{T}x^{(i)} - y^{(i, j)})^{2} + \\bigg(\\frac{\\lambda}{2}\\sum_{j=1}^{n_{u}}\\sum_{k=1}^{n}(\\theta_{k}^{(j)})^{2}\\bigg) + \\bigg(\\frac{\\lambda}{2}\\sum_{i=1}^{n_{m}}\\sum_{k=1}^{n}(x_{k}^{(i)})^{2}\\bigg)$$"
   ]
  },
  {
   "cell_type": "markdown",
   "metadata": {},
   "source": [
    "#### 2.2.2 Collaborative filtering gradient"
   ]
  },
  {
   "cell_type": "markdown",
   "metadata": {},
   "source": [
    "#### 2.2.4 Regularized gradient"
   ]
  },
  {
   "cell_type": "markdown",
   "metadata": {},
   "source": [
    "$$\n",
    "\\begin{equation}\n",
    "\\begin{split}\n",
    "\\frac{\\partial J}{\\partial x_{k}^{(i)}} & = \\sum_{j:r(i,j)=1}((\\theta^{(j)})^{T}x^{(i)}-y^{(i,j)})\\theta_{k}^{(j)} + \\lambda x_{k}^{(i)}\\\\\n",
    "\\frac{\\partial J}{\\partial \\theta_{k}^{(j)}} & = \\sum_{i:r(i,j)=1}((\\theta^{(j)})^{T}x^{(i)}-y^{(i,j)})x_{k}^{(i)} + \\lambda \\theta_{k}^{(j)}\n",
    "\\end{split}\n",
    "\\end{equation}\n",
    "$$"
   ]
  },
  {
   "cell_type": "code",
   "execution_count": 41,
   "metadata": {
    "collapsed": true
   },
   "outputs": [],
   "source": [
    "def cofiCostFunc(params, Y, R, num_users, num_movies, num_features, lambda_):\n",
    "    X, Theta = reshape_params(params, num_users, num_movies, num_features)\n",
    "    estimation_error = (X.dot(Theta.T) - Y) * R\n",
    "    cost = np.sum(estimation_error ** 2) / 2\n",
    "    X_reg = lambda_ * np.sum(X ** 2) / 2\n",
    "    Theta_reg = lambda_ * np.sum(Theta ** 2) / 2\n",
    "    X_grad = estimation_error.dot(Theta) + lambda_ * X\n",
    "    Theta_grad = estimation_error.T.dot(X) + lambda_ * Theta\n",
    "    grad = unroll_params((X_grad, Theta_grad))\n",
    "    assert grad.shape == params.shape\n",
    "    return cost + X_reg + Theta_reg, grad\n"
   ]
  },
  {
   "cell_type": "code",
   "execution_count": 48,
   "metadata": {},
   "outputs": [],
   "source": [
    "def checkGradients(cost_func, params, _lambda):\n",
    "    # Short hand for cost function\n",
    "    costFunc = lambda p: cost_func(p, _lambda)\n",
    "    cost, grad = costFunc(params)\n",
    "\n",
    "    def computeNumericalGradient(J, theta):\n",
    "        # numerical estimate of the gradient\n",
    "        numgrad = np.zeros(theta.shape)\n",
    "        perturb = np.zeros(theta.shape)\n",
    "        e = 10 ** -4\n",
    "        for p in range(theta.size):\n",
    "            # Set perturbation vector\n",
    "            perturb[p] = e\n",
    "            loss1 = J(theta - perturb)[0]\n",
    "            loss2 = J(theta + perturb)[0]\n",
    "            # Compute Numerical Gradient\n",
    "            numgrad[p] = (loss2 - loss1) / (2 * e)\n",
    "            perturb[p] = 0\n",
    "        return numgrad\n",
    "\n",
    "    numgrad = computeNumericalGradient(costFunc, params)\n",
    "    diff = np.linalg.norm(numgrad - grad) / np.linalg.norm(numgrad + grad)\n",
    "    assert diff < 10 ** -9\n",
    "    return diff\n"
   ]
  },
  {
   "cell_type": "code",
   "execution_count": 196,
   "metadata": {},
   "outputs": [
    {
     "name": "stdout",
     "output_type": "stream",
     "text": [
      "Cost at loaded parameters:22.224603725685675 (this value should be about 22.22)\n8.94700050872e-13\nCost at loaded parameters (lambda = 1.5): {J[0]} (this value should be about 31.34)\n2.19310818329e-12\n"
     ]
    }
   ],
   "source": [
    "load('machine-learning-ex8/ex8/ex8_movieParams.mat')\n",
    "num_users = 4\n",
    "num_movies = 5\n",
    "num_features = 3;\n",
    "X = X[:num_movies, :num_features]\n",
    "Theta = Theta[:num_users, :num_features]\n",
    "Y = Y[:num_movies, :num_users]\n",
    "R = R[:num_movies, :num_users]\n",
    "params = unroll_params((X, Theta))\n",
    "cost_func = lambda p, lambd: cofiCostFunc(p, Y, R, num_users, num_movies, num_features, lambd)\n",
    "# Evaluate cost function\n",
    "J = cost_func(params, 0)\n",
    "np.testing.assert_approx_equal(J[0], 22.22, significant=4)\n",
    "print(f'Cost at loaded parameters:{J[0]} (this value should be about 22.22)')\n",
    "print(checkGradients(cost_func, params, 0))\n",
    "J = cost_func(params, 1.5)\n",
    "np.testing.assert_approx_equal(J[0], 31.34, significant=4)\n",
    "print('Cost at loaded parameters (lambda = 1.5): {J[0]} (this value should be about 31.34)')\n",
    "print(checkGradients(cost_func, params, 1.5))\n"
   ]
  },
  {
   "cell_type": "markdown",
   "metadata": {},
   "source": [
    "### 2.3 Learning movie recommendations"
   ]
  },
  {
   "cell_type": "code",
   "execution_count": 239,
   "metadata": {},
   "outputs": [],
   "source": [
    "load('machine-learning-ex8/ex8/ex8_movies.mat')\n",
    "movies = open('machine-learning-ex8/ex8/movie_ids.txt', \"rb\").read().split(b\"\\n\")\n"
   ]
  },
  {
   "cell_type": "markdown",
   "metadata": {},
   "source": [
    "#### 2.3.1 Recommendations"
   ]
  },
  {
   "cell_type": "code",
   "execution_count": 240,
   "metadata": {},
   "outputs": [
    {
     "name": "stdout",
     "output_type": "stream",
     "text": [
      "Original ratings provided:\nRated 4 for Toy Story (1995)\nRated 3 for Twelve Monkeys (1995)\nRated 5 for Usual Suspects, The (1995)\nRated 4 for Outbreak (1995)\nRated 5 for Shawshank Redemption, The (1994)\nRated 3 for While You Were Sleeping (1995)\nRated 5 for Forrest Gump (1994)\nRated 2 for Silence of the Lambs, The (1991)\nRated 4 for Alien (1979)\nRated 5 for Die Hard 2 (1990)\nRated 5 for Sphere (1998)\n"
     ]
    }
   ],
   "source": [
    "my_ratings = np.zeros((Y.shape[0], 1))\n",
    "my_R = np.zeros((R.shape[0], 1))\n",
    "my_ratings_dict = {\n",
    "    0  : 4,\n",
    "    6  : 3,\n",
    "    11 : 5,\n",
    "    53 : 4,\n",
    "    63 : 5,\n",
    "    65 : 3,\n",
    "    68 : 5,\n",
    "    97 : 2,\n",
    "    182: 4,\n",
    "    225: 5,\n",
    "    354: 5\n",
    "}\n",
    "print(\"Original ratings provided:\")\n",
    "for index, rating in my_ratings_dict.items():\n",
    "    my_ratings[index] = rating\n",
    "    my_R[index] = 1\n",
    "    print(f\"Rated {rating} for {' '.join(movies[index].decode('ascii').split(' ')[1:])}\")\n"
   ]
  },
  {
   "cell_type": "code",
   "execution_count": 241,
   "metadata": {},
   "outputs": [],
   "source": [
    "Y = np.column_stack((Y, my_ratings))\n",
    "R = np.column_stack((R, my_R))\n"
   ]
  },
  {
   "cell_type": "code",
   "execution_count": 242,
   "metadata": {},
   "outputs": [],
   "source": [
    "def normalizeRatings(Y, R):\n",
    "    Y_mean = (np.sum(Y * R, axis=1) / np.sum(R, axis=1)).reshape((-1, 1))\n",
    "    return Y - Y_mean, Y_mean\n"
   ]
  },
  {
   "cell_type": "code",
   "execution_count": 243,
   "metadata": {},
   "outputs": [],
   "source": [
    "Ynorm, Ymean = normalizeRatings(Y, R)\n",
    "assert (Ynorm.shape[0] == Ymean.shape[0])\n",
    "assert (Y.shape == Ynorm.shape)\n",
    "\n",
    "num_movies, num_users = Y.shape\n",
    "num_features = 10\n",
    "# Set Initial Parameters (Theta, X)\n",
    "X = np.random.randn(num_movies, num_features)\n",
    "Theta = np.random.randn(num_users, num_features)\n",
    "\n",
    "initial_parameters = unroll_params((X, Theta))\n"
   ]
  },
  {
   "cell_type": "code",
   "execution_count": 244,
   "metadata": {},
   "outputs": [
    {
     "data": {
      "text/plain": [
       "      fun: 72477.370954722268\n hess_inv: <26260x26260 LbfgsInvHessProduct with dtype=float64>\n      jac: array([ -0.90047988,  12.61802168, -36.24193959, ...,  -0.07780554,\n        -0.04337073,   0.59048571])\n  message: b'STOP: TOTAL NO. of ITERATIONS EXCEEDS LIMIT'\n     nfev: 58\n      nit: 51\n   status: 1\n  success: False\n        x: array([-0.19167426,  0.27759991,  1.29781931, ...,  0.68038109,\n       -0.05982536, -0.52787633])"
      ]
     },
     "execution_count": 244,
     "metadata": {},
     "output_type": "execute_result"
    }
   ],
   "source": [
    "cost_func = lambda p: cofiCostFunc(p, Y, R, num_users, num_movies, num_features, lambda_=10)\n",
    "result = minimize(cost_func, initial_parameters, method=\"L-BFGS-B\", jac=True, options={\n",
    "    \"maxiter\": 50\n",
    "})\n",
    "result\n"
   ]
  },
  {
   "cell_type": "code",
   "execution_count": 245,
   "metadata": {},
   "outputs": [],
   "source": [
    "# Unfold the returned theta back into U and W\n",
    "X, Theta = reshape_params(result.x, num_users, num_movies, num_features)\n"
   ]
  },
  {
   "cell_type": "code",
   "execution_count": 248,
   "metadata": {},
   "outputs": [],
   "source": [
    "# After training the model, you can now make recommendations \n",
    "# by computing the predictions matrix.\n",
    "p = X.dot(Theta.T)\n",
    "# my_predictions = p[:, -1] + Ymean.ravel()\n",
    "my_predictions = p[:, -1]\n",
    "assert p.shape == Y.shape\n"
   ]
  },
  {
   "cell_type": "code",
   "execution_count": 249,
   "metadata": {},
   "outputs": [
    {
     "name": "stdout",
     "output_type": "stream",
     "text": [
      "Predicting rating 4.314308639137451 for movie 313 Titanic (1997)\nPredicting rating 4.116974965066295 for movie 50 Star Wars (1977)\nPredicting rating 4.007571599160337 for movie 174 Raiders of the Lost Ark (1981)\nPredicting rating 3.9993037318315383 for movie 272 Good Will Hunting (1997)\nPredicting rating 3.960786584398742 for movie 181 Return of the Jedi (1983)\nPredicting rating 3.94493153836209 for movie 64 Shawshank Redemption, The (1994)\nPredicting rating 3.8912857315535394 for movie 22 Braveheart (1995)\nPredicting rating 3.873165363095644 for movie 172 Empire Strikes Back, The (1980)\nPredicting rating 3.8503449949229873 for movie 258 Contact (1997)\nPredicting rating 3.8078718950680543 for movie 318 Schindler's List (1993)\n"
     ]
    }
   ],
   "source": [
    "for i in my_predictions.ravel().argsort()[-10:][::-1]:\n",
    "    print(f\"Predicting rating {my_predictions[i]} for movie {movies[i].decode('ascii')}\")\n"
   ]
  },
  {
   "cell_type": "code",
   "execution_count": null,
   "metadata": {},
   "outputs": [],
   "source": [
    ""
   ]
  }
 ],
 "metadata": {
  "kernelspec": {
   "display_name": "Python 3",
   "language": "python",
   "name": "python3"
  },
  "language_info": {
   "codemirror_mode": {
    "name": "ipython",
    "version": 3
   },
   "file_extension": ".py",
   "mimetype": "text/x-python",
   "name": "python",
   "nbconvert_exporter": "python",
   "pygments_lexer": "ipython3",
   "version": "3.6.3"
  }
 },
 "nbformat": 4,
 "nbformat_minor": 1
}
