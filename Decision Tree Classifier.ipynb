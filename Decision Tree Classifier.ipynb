{
 "cells": [
  {
   "cell_type": "code",
   "execution_count": 1,
   "metadata": {},
   "outputs": [],
   "source": [
    "import numpy as np\n",
    "import pandas as pd\n",
    "from dtc import gini, DecisionTreeClassifier"
   ]
  },
  {
   "cell_type": "code",
   "execution_count": 2,
   "metadata": {
    "scrolled": true
   },
   "outputs": [
    {
     "name": "stdout",
     "output_type": "stream",
     "text": [
      "1.0\n"
     ]
    }
   ],
   "source": [
    "atributes = [\"Moroso\", \"Antiguedad\", \"Ingreso\", \"Trabajo fijo\"]\n",
    "X = np.array([\n",
    "    [1, 2, 1, 1],\n",
    "    [0, 0, 1, 1],\n",
    "    [1, 1, 2, 1],\n",
    "    [0, 2, 2, 0],\n",
    "    [0, 0, 2, 1],\n",
    "    [1, 1, 1, 1],\n",
    "    [0, 1, 2, 1],\n",
    "    [0, 0, 0, 1],\n",
    "    [0, 2, 1, 0],\n",
    "    [1, 1, 0, 0]\n",
    "])\n",
    "y = np.array([0, 1, 0, 1, 1, 0, 1, 0, 0, 0])\n",
    "model = DecisionTreeClassifier(atributes, criterion=gini)\n",
    "model.train(X, y)\n",
    "print(np.where(model.predict(X) == y)[0].size / y.size)"
   ]
  },
  {
   "cell_type": "code",
   "execution_count": 3,
   "metadata": {},
   "outputs": [],
   "source": [
    "df = pd.read_csv(\"heart.csv\")\n",
    "df[\"age\"] = pd.qcut(df[\"age\"], 5, labels=False)\n",
    "df[\"trestbps\"] = pd.qcut(df[\"trestbps\"], 5, labels=False)\n",
    "df[\"chol\"] = pd.qcut(df[\"chol\"], 5, labels=False)\n",
    "df[\"thalach\"] = pd.qcut(df[\"thalach\"], 5, labels=False)\n",
    "df[\"oldpeak\"] = pd.qcut(df[\"oldpeak\"], 3, labels=False)\n",
    "size = df.values.shape[0]\n",
    "samples = np.random.choice(range(size), 10, replace=False)\n",
    "select = np.in1d(np.arange(size), samples)\n",
    "X = df.values[~select, :-1]\n",
    "y = df.values[~select, -1]\n",
    "test_X = df.values[select, :-1]\n",
    "test_y = df.values[select, -1]\n",
    "atributes = list(df.columns.values)[:-1]"
   ]
  },
  {
   "cell_type": "code",
   "execution_count": 4,
   "metadata": {},
   "outputs": [
    {
     "name": "stdout",
     "output_type": "stream",
     "text": [
      "0.027303754266211604\n"
     ]
    }
   ],
   "source": [
    "model = DecisionTreeClassifier(atributes, criterion=gini)\n",
    "model.train(X, y)\n",
    "print(np.where(model.predict(test_X) == test_y)[0].size / y.size)"
   ]
  },
  {
   "cell_type": "code",
   "execution_count": 5,
   "metadata": {},
   "outputs": [
    {
     "name": "stdout",
     "output_type": "stream",
     "text": [
      "0.023890784982935155\n"
     ]
    }
   ],
   "source": [
    "from sklearn import tree\n",
    "clf = tree.DecisionTreeClassifier()\n",
    "clf = clf.fit(X, y)\n",
    "print(np.where(clf.predict(test_X) == test_y)[0].size / y.size)"
   ]
  }
 ],
 "metadata": {
  "kernelspec": {
   "display_name": "Python 3",
   "language": "python",
   "name": "python3"
  },
  "language_info": {
   "codemirror_mode": {
    "name": "ipython",
    "version": 3
   },
   "file_extension": ".py",
   "mimetype": "text/x-python",
   "name": "python",
   "nbconvert_exporter": "python",
   "pygments_lexer": "ipython3",
   "version": "3.6.6"
  }
 },
 "nbformat": 4,
 "nbformat_minor": 2
}
