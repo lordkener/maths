{
 "cells": [
  {
   "cell_type": "markdown",
   "metadata": {
    "collapsed": true
   },
   "source": [
    "# Programming Exercise 1 - Linear Regression\n",
    "\n",
    "1. [warmUpExercise](#1.-warmUpExercise)\n",
    "2. [Linear regression with one variable](#2.-Linear-regression-with-one-variable)\n",
    "    1. [Plotting the Data](#2.1-Plotting-the-Data)\n",
    "    2. [Gradient Descent](#2.2-Gradient-Descent)\n",
    "        1. [Update Equation](#2.2.1-Update-Equation)\n",
    "        2. [Computing the cost J](#2.2.3-Computing-the-cost-J)\n",
    "        3. [Implementation Of Gradient descent](#2.2.4-Gradient-descent)"
   ]
  },
  {
   "cell_type": "code",
   "execution_count": 12,
   "metadata": {
    "collapsed": true
   },
   "outputs": [],
   "source": [
    "import pandas as pd\n",
    "import numpy as np\n",
    "import matplotlib.pyplot as plt\n",
    "from sklearn.linear_model import LinearRegression\n",
    "% matplotlib inline\n"
   ]
  },
  {
   "cell_type": "markdown",
   "metadata": {},
   "source": [
    "## 1. warmUpExercise"
   ]
  },
  {
   "cell_type": "code",
   "execution_count": 13,
   "metadata": {
    "collapsed": true
   },
   "outputs": [],
   "source": [
    "def warmUpExercise():\n",
    "    return np.identity(5)"
   ]
  },
  {
   "cell_type": "code",
   "execution_count": 14,
   "metadata": {},
   "outputs": [
    {
     "data": {
      "text/plain": [
       "array([[ 1.,  0.,  0.,  0.,  0.],\n       [ 0.,  1.,  0.,  0.,  0.],\n       [ 0.,  0.,  1.,  0.,  0.],\n       [ 0.,  0.,  0.,  1.,  0.],\n       [ 0.,  0.,  0.,  0.,  1.]])"
      ]
     },
     "execution_count": 14,
     "metadata": {},
     "output_type": "execute_result"
    }
   ],
   "source": [
    "warmUpExercise()"
   ]
  },
  {
   "cell_type": "markdown",
   "metadata": {},
   "source": [
    "## 2. Linear regression with one variable"
   ]
  },
  {
   "cell_type": "markdown",
   "metadata": {},
   "source": [
    "### 2.1 Plotting the Data"
   ]
  },
  {
   "cell_type": "code",
   "execution_count": 15,
   "metadata": {
    "collapsed": true
   },
   "outputs": [],
   "source": [
    "# read comma separated data\n",
    "data = np.loadtxt(\"./1 Linear Regression/machine-learning-ex1/ex1/ex1data1.txt\", delimiter=\",\")\n",
    "\n",
    "X, Y = np.hsplit(data, 2)\n",
    "# number of training examples\n",
    "m = Y.size\n"
   ]
  },
  {
   "cell_type": "code",
   "execution_count": 16,
   "metadata": {},
   "outputs": [
    {
     "data": {
      "text/plain": [
       "<matplotlib.legend.Legend at 0x25895a2f5f8>"
      ]
     },
     "execution_count": 16,
     "metadata": {},
     "output_type": "execute_result"
    },
    {
     "data": {
      "image/png": "[encoded data removed]",
      "text/plain": [
       "<matplotlib.figure.Figure at 0x258959bb710>"
      ]
     },
     "metadata": {},
     "output_type": "display_data"
    }
   ],
   "source": [
    "# Plot the data\n",
    "figure = plt.figure()\n",
    "ax1 = figure.add_subplot(1, 1, 1)\n",
    "ax1.scatter(X, Y, c=\"r\", marker='x', label=\"Training data\")\n",
    "# Set the y-axis label\n",
    "ax1.set_ylabel('Profit in $10,000s')\n",
    "# Set the x-axis label\n",
    "ax1.set_xlabel('Population of City in 10,000s')\n",
    "\n",
    "# show label\n",
    "ax1.legend(loc='lower right')\n"
   ]
  },
  {
   "cell_type": "markdown",
   "metadata": {},
   "source": [
    "### 2.2 Gradient Descent"
   ]
  },
  {
   "cell_type": "markdown",
   "metadata": {},
   "source": [
    "#### 2.2.1 Update Equation"
   ]
  },
  {
   "cell_type": "code",
   "execution_count": 17,
   "metadata": {
    "collapsed": true
   },
   "outputs": [],
   "source": [
    "# Add a column of ones to x\n",
    "X = np.column_stack((np.ones(data.shape[0]), X))\n",
    "\n",
    "# initialize fitting parameters\n",
    "theta = np.zeros((2, 1))\n",
    "\n",
    "iteration = 1500\n",
    "alpha = 0.01\n"
   ]
  },
  {
   "cell_type": "markdown",
   "metadata": {},
   "source": [
    "#### 2.2.3 Computing the cost J"
   ]
  },
  {
   "cell_type": "markdown",
   "metadata": {},
   "source": [
    "\\begin{align}\n",
    "\\dot{x} & = \\sigma(y-x) \\ \\\n",
    "    \\dot{y} & = \\rho x - y - xz \\ \\\n",
    "    \\dot{z} & = -\\beta z + xy\n",
    "\\end{align}"
   ]
  },
  {
   "cell_type": "code",
   "execution_count": 18,
   "metadata": {
    "collapsed": true
   },
   "outputs": [],
   "source": [
    "def cost(theta, X, Y):\n",
    "    m = Y.size\n",
    "    return np.sum(np.square(X.dot(theta) - Y)) / (m * 2)\n",
    "\n",
    "# You should expect to see a cost of 32.07\n",
    "assert round(cost(theta, X, Y), 2) == 32.07\n"
   ]
  },
  {
   "cell_type": "markdown",
   "metadata": {
    "collapsed": true
   },
   "source": [
    "#### 2.2.4 Gradient descent"
   ]
  },
  {
   "cell_type": "code",
   "execution_count": 19,
   "metadata": {},
   "outputs": [],
   "source": [
    "def gradient_descent(theta, X, Y, iteration=1500, alpha=0.01):\n",
    "    m = Y.size\n",
    "    j_cost_history = np.empty((iteration,))\n",
    "    for i in np.arange(iteration):\n",
    "        theta = theta - (alpha / m) * X.T.dot((X.dot(theta) - Y))\n",
    "        j_cost_history[i] = cost(theta, X, Y)\n",
    "    return theta, j_cost_history\n"
   ]
  },
  {
   "cell_type": "code",
   "execution_count": 20,
   "metadata": {},
   "outputs": [
    {
     "name": "stdout",
     "output_type": "stream",
     "text": [
      "theta:  [-3.63029144  1.16636235]\n"
     ]
    },
    {
     "data": {
      "image/png": "[encoded data removed]",
      "text/plain": [
       "<matplotlib.figure.Figure at 0x258959af128>"
      ]
     },
     "metadata": {},
     "output_type": "display_data"
    }
   ],
   "source": [
    "theta, j_cost_history = gradient_descent(theta, X, Y, iteration, alpha=alpha)\n",
    "print('theta: ', theta.ravel())\n",
    "\n",
    "plt.plot(j_cost_history)\n",
    "plt.ylabel('Cost J')\n",
    "plt.xlabel('Iterations');\n"
   ]
  },
  {
   "cell_type": "code",
   "execution_count": 21,
   "metadata": {},
   "outputs": [
    {
     "data": {
      "image/png": "[encoded data removed]",
      "text/plain": [
       "<matplotlib.figure.Figure at 0x258959bb710>"
      ]
     },
     "metadata": {},
     "output_type": "display_data"
    }
   ],
   "source": [
    "# reuse the previous figure\n",
    "ax = figure.add_subplot(1, 1, 1)\n",
    "\n",
    "max_x, max_y = data.max(axis=0)\n",
    "min_x, min_y = data.min(axis=0)\n",
    "simulate_x = np.linspace(min_x, max_x)\n",
    "simulate_y = theta[0] + simulate_x * theta[1]\n",
    "ax.plot(simulate_x, simulate_y, label='Linear regression (Gradient descent)')\n",
    "\n",
    "# Compare with Scikit-learn Linear regression\n",
    "reg = LinearRegression()\n",
    "# LinearRegression will take in its fit method arrays X, y \n",
    "# and will store the coefficients w of the linear model in its coef_ member\n",
    "reg.fit(X[:, 1].reshape(-1, 1), Y.ravel())\n",
    "# the vector w = (w1,..., wj) as coef_and w_0 as intercept_.\n",
    "linear_aprox_skilearn_y = reg.intercept_ + reg.coef_ * simulate_x\n",
    "ax.plot(simulate_x, linear_aprox_skilearn_y, label='Linear regression (Scikit-learn GLM)')\n",
    "\n",
    "# Now add the legend with some customizations.\n",
    "ax.legend(loc='lower right')\n",
    "\n",
    "figure"
   ]
  },
  {
   "cell_type": "code",
   "execution_count": 22,
   "metadata": {
    "collapsed": true
   },
   "outputs": [
    {
     "name": "stdout",
     "output_type": "stream",
     "text": [
      "[ 0.45197679] [ 4.53424501]\n"
     ]
    }
   ],
   "source": [
    "# Predict profit for a city with population of 35000 and 70000\n",
    "predict1 = np.array([1, 3.5]).dot(theta)\n",
    "predict2 = np.array([1, 7]).dot(theta)\n",
    "print(predict1, predict2)"
   ]
  },
  {
   "cell_type": "markdown",
   "metadata": {},
   "source": [
    "### 2.4 Visualizing J"
   ]
  },
  {
   "cell_type": "code",
   "execution_count": 23,
   "metadata": {},
   "outputs": [],
   "source": [
    "# Create grid coordinates for plotting\n",
    "T0 = np.linspace(-10, 10)\n",
    "T1 = np.linspace(-1, 4)\n",
    "xx, yy = np.meshgrid(T0, T1, indexing='xy')\n"
   ]
  },
  {
   "cell_type": "code",
   "execution_count": 24,
   "metadata": {},
   "outputs": [
    {
     "data": {
      "text/plain": [
       "array([[-10.        ,  -9.59183673,  -9.18367347, ...,   9.18367347,\n          9.59183673,  10.        ],\n       [-10.        ,  -9.59183673,  -9.18367347, ...,   9.18367347,\n          9.59183673,  10.        ],\n       [-10.        ,  -9.59183673,  -9.18367347, ...,   9.18367347,\n          9.59183673,  10.        ],\n       ..., \n       [-10.        ,  -9.59183673,  -9.18367347, ...,   9.18367347,\n          9.59183673,  10.        ],\n       [-10.        ,  -9.59183673,  -9.18367347, ...,   9.18367347,\n          9.59183673,  10.        ],\n       [-10.        ,  -9.59183673,  -9.18367347, ...,   9.18367347,\n          9.59183673,  10.        ]])"
      ]
     },
     "execution_count": 24,
     "metadata": {},
     "output_type": "execute_result"
    }
   ],
   "source": [
    ""
   ]
  },
  {
   "cell_type": "code",
   "execution_count": null,
   "metadata": {},
   "outputs": [],
   "source": []
  }
 ],
 "metadata": {
  "kernelspec": {
   "display_name": "Python 3",
   "language": "python",
   "name": "python3"
  },
  "language_info": {
   "codemirror_mode": {
    "name": "ipython",
    "version": 3
   },
   "file_extension": ".py",
   "mimetype": "text/x-python",
   "name": "python",
   "nbconvert_exporter": "python",
   "pygments_lexer": "ipython3",
   "version": "3.6.2"
  }
 },
 "nbformat": 4,
 "nbformat_minor": 1
}
