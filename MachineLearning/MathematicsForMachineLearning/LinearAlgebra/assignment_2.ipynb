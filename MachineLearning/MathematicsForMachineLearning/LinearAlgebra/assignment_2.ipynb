{
 "cells": [
  {
   "cell_type": "markdown",
   "metadata": {},
   "source": [
    "# Solving Basic Algorithms - Jupyter Custom Grader Demo"
   ]
  },
  {
   "cell_type": "markdown",
   "metadata": {},
   "source": [
    "Welcome to this Jupyter Notebook, where we will create basic calculation functions in Python!"
   ]
  },
  {
   "cell_type": "markdown",
   "metadata": {},
   "source": [
    "Your mission, should you choose to accept it, is to complete all algorithms below. First let's get you oriented to the Jupyter System."
   ]
  },
  {
   "cell_type": "markdown",
   "metadata": {},
   "source": [
    "To run a cell select \"Shift + Enter\" or Cell -> Run Cells from your upper toolbar. Try this out in the cell below:"
   ]
  },
  {
   "cell_type": "code",
   "execution_count": 1,
   "metadata": {},
   "outputs": [
    {
     "name": "stdout",
     "output_type": "stream",
     "text": [
      "What is your name? Matthew\n"
     ]
    }
   ],
   "source": [
    "import sys\n",
    "import csv\n",
    "\n",
    "if sys.version_info[0] >= 3:\n",
    "    raw_input = input\n",
    "    \n",
    "name = raw_input(\"What is your name? \")"
   ]
  },
  {
   "cell_type": "markdown",
   "metadata": {},
   "source": [
    "Now run this next cell:"
   ]
  },
  {
   "cell_type": "code",
   "execution_count": 2,
   "metadata": {},
   "outputs": [
    {
     "name": "stdout",
     "output_type": "stream",
     "text": [
      "Hello Matthew!\n"
     ]
    }
   ],
   "source": [
    "print(\"Hello \" + name + \"!\")"
   ]
  },
  {
   "cell_type": "markdown",
   "metadata": {},
   "source": [
    "With your Python knowledge, let's create our own series of helper algorithms. We will create three algorithms total:\n",
    "<ul>\n",
    "    <li> Create a <b>get_max_value</b> function to get the maximum value in any provided list </li>\n",
    "    <li> Create an <b>is_palindrome</b> function to find if a given string is a palindrome. </li>\n",
    "    <li> Create a <b>count_data_rows</b> function to return total number of rows in a given dataset. </li>"
   ]
  },
  {
   "cell_type": "code",
   "execution_count": 22,
   "metadata": {
    "collapsed": true
   },
   "outputs": [],
   "source": [
    "# GRADED FUNCTION: get_max_value\n",
    "\n",
    "def get_max_value(list):\n",
    "    # YOUR STARTS HERE\n",
    "        max = 0\n",
    "        for x in list:\n",
    "            if x > max:\n",
    "                max = x\n",
    "        return max\n",
    "    # YOUR CODE ENDS HERE"
   ]
  },
  {
   "cell_type": "code",
   "execution_count": 23,
   "metadata": {
    "collapsed": true
   },
   "outputs": [],
   "source": [
    "# GRADED FUNCTION: is_palindrome\n",
    "# return a boolean for if a given string is a palindrome\n",
    "\n",
    "def is_palindrome(x):\n",
    "    # YOUR STARTS HERE\n",
    "    if x == str(x)[::-1]:\n",
    "        return True\n",
    "    else:\n",
    "        return False\n",
    "    # YOUR CODE ENDS HERE"
   ]
  },
  {
   "cell_type": "code",
   "execution_count": 19,
   "metadata": {
    "collapsed": true
   },
   "outputs": [],
   "source": [
    "# GRADED FUNCTION: count_data_rows\n",
    "\n",
    "def count_data_rows(file):\n",
    "    # YOUR CODE STARTS HERE\n",
    "    with open(file) as f:\n",
    "        num_rows = sum(1 for row in f)\n",
    "    #return a number of total rows in the dataset.\n",
    "    return num_rows\n",
    "    # YOUR CODE ENDS HERE"
   ]
  },
  {
   "cell_type": "code",
   "execution_count": null,
   "metadata": {
    "collapsed": true
   },
   "outputs": [],
   "source": []
  },
  {
   "cell_type": "code",
   "execution_count": null,
   "metadata": {
    "collapsed": true
   },
   "outputs": [],
   "source": []
  }
 ],
 "metadata": {
  "coursera": {
   "course_slug": "mlds-degree-gta-sandbox-b",
   "graded_item_id": "7OARa",
   "launcher_item_id": "AnzA0"
  },
  "kernelspec": {
   "display_name": "Python 3",
   "language": "python",
   "name": "python3"
  },
  "language_info": {
   "codemirror_mode": {
    "name": "ipython",
    "version": 3
   },
   "file_extension": ".py",
   "mimetype": "text/x-python",
   "name": "python",
   "nbconvert_exporter": "python",
   "pygments_lexer": "ipython3",
   "version": "3.6.2"
  }
 },
 "nbformat": 4,
 "nbformat_minor": 2
}
