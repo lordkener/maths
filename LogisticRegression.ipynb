{
 "cells": [
  {
   "cell_type": "markdown",
   "metadata": {
    "collapsed": true
   },
   "source": [
    "# Programming Exercise 2 - Logistic Regression\n",
    "\n",
    "1. [Logistic Regression](#1.-Logistic-Regression)\n",
    "    1. [Visualizing the data](#1.1-Visualizing-the-data)\n",
    "    2. [Implementation](#1.2-Implementation)\n",
    "        1. [Sigmoid function](#1.2.1-Sigmoid-function)\n",
    "        2. [Cost function and gradient](#1.2.2-Cost-function-and-gradient)\n",
    "        3. [Learning parameters using minimize functoin](#1.2.3-Learning-parameters-using-minimize-functoin)\n",
    "        4. [Evaluating logistic regression](#1.2.4-Evaluating-logistic-regression)\n",
    "2. [Regularized logistic regression](#2-Regularized-logistic-regression)\n",
    "    1. [Visualizing the data](#2.1-Visualizing-the-data)\n",
    "    2. [Feature mapping](#2.2-Feature-mapping)\n",
    "    3. [Cost function and gradient](#2.3-Cost-function-and-gradient)\n",
    "        1. [Learning parameters using minimize function](#2.3.1-Learning-parameters-using-minimize-function)\n",
    "    4. [Plotting the decision boundary](#2.4-Plotting-the-decision-boundary)\n",
    "    5. [Select regularization parameters](#2.5-Select-regularization-parameters)"
   ]
  },
  {
   "cell_type": "code",
   "execution_count": 1,
   "metadata": {
    "collapsed": true
   },
   "outputs": [],
   "source": [
    "import numpy as np\n",
    "import pandas as pd\n",
    "import sympy as sp\n",
    "import mpmath as mp\n",
    "import matplotlib.pyplot as plt\n",
    "from scipy.optimize import minimize\n",
    "from sklearn.preprocessing import PolynomialFeatures\n",
    "from mpl_toolkits.mplot3d import Axes3D\n",
    "from IPython.core.display import HTML, display\n",
    "% matplotlib inline\n"
   ]
  },
  {
   "cell_type": "code",
   "execution_count": 2,
   "metadata": {
    "collapsed": true
   },
   "outputs": [],
   "source": [
    "def loadData(file):\n",
    "    # load the dataset\n",
    "    dataframe = pd.read_csv(file, sep=\",\", header=None, names=[\"exam 1\", \"exam 2\", \"admissions decision\"])\n",
    "    X, y = np.hsplit(dataframe.values, (-1,))\n",
    "    # display data\n",
    "    display(HTML(dataframe.head().to_html()))\n",
    "    display(dataframe.describe())\n",
    "    return X, y\n"
   ]
  },
  {
   "cell_type": "code",
   "execution_count": 3,
   "metadata": {
    "collapsed": true
   },
   "outputs": [],
   "source": [
    "def plotData(X, y, x_label=None, y_label=None, pos_label=\"positive\", neg_label=\"negative\", ax=None):\n",
    "    # Find Indices of Positive and Negative Examples\n",
    "    pos = np.where(y == 1)\n",
    "    neg = np.where(y == 0)\n",
    "\n",
    "    # If no specific axes object has been passed, get the current axes.\n",
    "    if not ax:\n",
    "        # get current axes\n",
    "        ax = plt.gca()\n",
    "\n",
    "    # Plot Examples\n",
    "    ax.scatter(X[pos, 0], X[pos, 1], marker='+', c='black', label=pos_label)\n",
    "    ax.scatter(X[neg, 0], X[neg, 1], marker='o', c='y', label=neg_label)\n",
    "    ax.set_xlabel(x_label)\n",
    "    ax.set_ylabel(y_label)\n",
    "    ax.legend(loc=\"upper right\")\n"
   ]
  },
  {
   "cell_type": "code",
   "execution_count": 4,
   "metadata": {
    "collapsed": true
   },
   "outputs": [],
   "source": [
    "from math import factorial\n",
    "from itertools import combinations_with_replacement as comb_w_r\n",
    "from itertools import chain\n",
    "\n",
    "# Note that this function inserts a column with 'ones' in the design matrix for the intercept\n",
    "def featureMap(X, degree=2):\n",
    "    n_samples, n_features = X.shape\n",
    "    # generate combinations with repetitions\n",
    "    combinations = chain.from_iterable(comb_w_r(range(n_features), i) for i in range(0, degree + 1))\n",
    "    # calculate output shape\n",
    "    n_output_features = sum([(factorial(n_features + i - 1) // (factorial(i) * factorial(n_features - 1))) for i in range(0, degree + 1)])\n",
    "    # allocate output data\n",
    "    XP = np.empty((n_samples, n_output_features), dtype=X.dtype)\n",
    "    for i, c in enumerate(combinations):\n",
    "        XP[:, i] = X[:, c].prod(1)\n",
    "    return XP\n"
   ]
  },
  {
   "cell_type": "code",
   "execution_count": 5,
   "metadata": {
    "collapsed": true
   },
   "outputs": [],
   "source": [
    "# plot the decision boundary\n",
    "def plotDecisionBoundary(axes, X, theta, degree=1):\n",
    "    x1_min, x2_min = np.min(X, axis=0)\n",
    "    x1_max, x2_max = np.max(X, axis=0)\n",
    "    x1, x2 = np.meshgrid(np.linspace(x1_min, x1_max), np.linspace(x2_min, x2_max))\n",
    "    h = hypot(theta, featureMap(np.column_stack((x1.flatten(), x2.flatten())), degree))\n",
    "    h = h.reshape(x1.shape)\n",
    "    # draw the Decision Boundary where the probability is 0.5\n",
    "    axes.contour(x1, x2, h, levels=[0.5], linewidths=1, colors='b', label=\"Decision boundary\")\n"
   ]
  },
  {
   "cell_type": "markdown",
   "metadata": {},
   "source": [
    "## 1. Logistic Regression"
   ]
  },
  {
   "cell_type": "code",
   "execution_count": 6,
   "metadata": {
    "scrolled": false
   },
   "outputs": [
    {
     "data": {
      "text/html": [
       "<table border=\"1\" class=\"dataframe\">\n",
       "  <thead>\n",
       "    <tr style=\"text-align: right;\">\n",
       "      <th></th>\n",
       "      <th>exam 1</th>\n",
       "      <th>exam 2</th>\n",
       "      <th>admissions decision</th>\n",
       "    </tr>\n",
       "  </thead>\n",
       "  <tbody>\n",
       "    <tr>\n",
       "      <th>0</th>\n",
       "      <td>34.623660</td>\n",
       "      <td>78.024693</td>\n",
       "      <td>0</td>\n",
       "    </tr>\n",
       "    <tr>\n",
       "      <th>1</th>\n",
       "      <td>30.286711</td>\n",
       "      <td>43.894998</td>\n",
       "      <td>0</td>\n",
       "    </tr>\n",
       "    <tr>\n",
       "      <th>2</th>\n",
       "      <td>35.847409</td>\n",
       "      <td>72.902198</td>\n",
       "      <td>0</td>\n",
       "    </tr>\n",
       "    <tr>\n",
       "      <th>3</th>\n",
       "      <td>60.182599</td>\n",
       "      <td>86.308552</td>\n",
       "      <td>1</td>\n",
       "    </tr>\n",
       "    <tr>\n",
       "      <th>4</th>\n",
       "      <td>79.032736</td>\n",
       "      <td>75.344376</td>\n",
       "      <td>1</td>\n",
       "    </tr>\n",
       "  </tbody>\n",
       "</table>"
      ],
      "text/plain": [
       "<IPython.core.display.HTML object>"
      ]
     },
     "metadata": {},
     "output_type": "display_data"
    },
    {
     "data": {
      "text/html": [
       "<div>\n",
       "<style>\n",
       "    .dataframe thead tr:only-child th {\n",
       "        text-align: right;\n",
       "    }\n",
       "\n",
       "    .dataframe thead th {\n",
       "        text-align: left;\n",
       "    }\n",
       "\n",
       "    .dataframe tbody tr th {\n",
       "        vertical-align: top;\n",
       "    }\n",
       "</style>\n",
       "<table border=\"1\" class=\"dataframe\">\n",
       "  <thead>\n",
       "    <tr style=\"text-align: right;\">\n",
       "      <th></th>\n",
       "      <th>exam 1</th>\n",
       "      <th>exam 2</th>\n",
       "      <th>admissions decision</th>\n",
       "    </tr>\n",
       "  </thead>\n",
       "  <tbody>\n",
       "    <tr>\n",
       "      <th>count</th>\n",
       "      <td>100.000000</td>\n",
       "      <td>100.000000</td>\n",
       "      <td>100.000000</td>\n",
       "    </tr>\n",
       "    <tr>\n",
       "      <th>mean</th>\n",
       "      <td>65.644274</td>\n",
       "      <td>66.221998</td>\n",
       "      <td>0.600000</td>\n",
       "    </tr>\n",
       "    <tr>\n",
       "      <th>std</th>\n",
       "      <td>19.458222</td>\n",
       "      <td>18.582783</td>\n",
       "      <td>0.492366</td>\n",
       "    </tr>\n",
       "    <tr>\n",
       "      <th>min</th>\n",
       "      <td>30.058822</td>\n",
       "      <td>30.603263</td>\n",
       "      <td>0.000000</td>\n",
       "    </tr>\n",
       "    <tr>\n",
       "      <th>25%</th>\n",
       "      <td>50.919511</td>\n",
       "      <td>48.179205</td>\n",
       "      <td>0.000000</td>\n",
       "    </tr>\n",
       "    <tr>\n",
       "      <th>50%</th>\n",
       "      <td>67.032988</td>\n",
       "      <td>67.682381</td>\n",
       "      <td>1.000000</td>\n",
       "    </tr>\n",
       "    <tr>\n",
       "      <th>75%</th>\n",
       "      <td>80.212529</td>\n",
       "      <td>79.360605</td>\n",
       "      <td>1.000000</td>\n",
       "    </tr>\n",
       "    <tr>\n",
       "      <th>max</th>\n",
       "      <td>99.827858</td>\n",
       "      <td>98.869436</td>\n",
       "      <td>1.000000</td>\n",
       "    </tr>\n",
       "  </tbody>\n",
       "</table>\n",
       "</div>"
      ],
      "text/plain": [
       "           exam 1      exam 2  admissions decision\n",
       "count  100.000000  100.000000           100.000000\n",
       "mean    65.644274   66.221998             0.600000\n",
       "std     19.458222   18.582783             0.492366\n",
       "min     30.058822   30.603263             0.000000\n",
       "25%     50.919511   48.179205             0.000000\n",
       "50%     67.032988   67.682381             1.000000\n",
       "75%     80.212529   79.360605             1.000000\n",
       "max     99.827858   98.869436             1.000000"
      ]
     },
     "metadata": {},
     "output_type": "display_data"
    }
   ],
   "source": [
    "X, y = loadData(\"machine-learning-ex2\\ex2\\ex2data1.txt\")\n"
   ]
  },
  {
   "cell_type": "markdown",
   "metadata": {},
   "source": [
    "### 1.1 Visualizing the data"
   ]
  },
  {
   "cell_type": "code",
   "execution_count": 7,
   "metadata": {},
   "outputs": [
    {
     "data": {
      "image/png": "[encoded data removed]",
      "text/plain": [
       "<matplotlib.figure.Figure at 0x1a1717ecba8>"
      ]
     },
     "metadata": {},
     "output_type": "display_data"
    }
   ],
   "source": [
    "# Before starting to implement any learning algorithm,\n",
    "# it is always good to visualize the data if possible.\n",
    "plotData(X, y, x_label=\"Exam 1 score\", y_label=\"Exam 2 score\", pos_label=\"Admitted\", neg_label=\"Not Admitted\")\n"
   ]
  },
  {
   "cell_type": "markdown",
   "metadata": {},
   "source": [
    "### 1.2 Implementation"
   ]
  },
  {
   "cell_type": "markdown",
   "metadata": {},
   "source": [
    "#### 1.2.1 Sigmoid function"
   ]
  },
  {
   "cell_type": "markdown",
   "metadata": {},
   "source": [
    "$$\n",
    "\\begin{align}\n",
    "h_{\\theta}(x) &= g(\\theta^{\\mathbf{T}}x)\\\\\n",
    "g(z) &= \\frac{1}{1+e^{-z}}\\\\\n",
    "\\end{align}\n",
    "$$"
   ]
  },
  {
   "cell_type": "code",
   "execution_count": 8,
   "metadata": {
    "collapsed": true
   },
   "outputs": [],
   "source": [
    "x = sp.Symbol(\"x\")\n",
    "# sigmoid function\n",
    "expr = 1 / (1 + mp.e ** -x)\n",
    "# make it as functoin\n",
    "sigmoid = sp.lambdify(x, expr)\n"
   ]
  },
  {
   "cell_type": "code",
   "execution_count": 9,
   "metadata": {},
   "outputs": [
    {
     "data": {
      "image/png": "[encoded data removed]",
      "text/plain": [
       "<matplotlib.figure.Figure at 0x1a1717ec828>"
      ]
     },
     "metadata": {},
     "output_type": "display_data"
    }
   ],
   "source": [
    "# plot sigmoid function\n",
    "X_nums = np.linspace(-5, 5)\n",
    "plt.plot(X_nums, sigmoid(X_nums))\n",
    "plt.show()\n"
   ]
  },
  {
   "cell_type": "markdown",
   "metadata": {
    "collapsed": true
   },
   "source": [
    "#### 1.2.2 Cost function and gradient"
   ]
  },
  {
   "cell_type": "markdown",
   "metadata": {
    "collapsed": true
   },
   "source": [
    "$$\n",
    "\\begin{equation}\n",
    "\\begin{split}\n",
    "J(\\theta) & = \\frac{1}{m}\\sum_{i=1}^{m}\\big[-y^{(i)}log(h_{\\theta}(x^{(i)}))-(1-y^{(i)})log(1-h_{\\theta}(x^{(i)}))\\big]\\\\\n",
    "& = -\\frac{1}{m}\\big((log(g(X\\vec{\\theta}))^{\\mathbf{T}}\\vec{y}+(log(1-g(X\\vec{\\theta}))^{\\mathbf{T}}\\vec{(1-y)}\\big)\\\\\n",
    "\\end{split}\n",
    "\\end{equation}\n",
    "$$"
   ]
  },
  {
   "cell_type": "code",
   "execution_count": 10,
   "metadata": {
    "collapsed": true
   },
   "outputs": [],
   "source": [
    "def hypot(theta, X):\n",
    "    return sigmoid(X.dot(theta.reshape(-1, 1)))\n"
   ]
  },
  {
   "cell_type": "code",
   "execution_count": 11,
   "metadata": {
    "collapsed": true
   },
   "outputs": [],
   "source": [
    "def costFunction(theta, X, y):\n",
    "    h = hypot(theta, X)\n",
    "    return (-(np.log(h).T.dot(y) + np.log(1 - h).T.dot(1 - y)) / y.size).item()\n"
   ]
  },
  {
   "cell_type": "markdown",
   "metadata": {},
   "source": [
    "$$\n",
    "\\begin{gather*}\n",
    "\\frac{\\partial J(\\theta)}{\\partial\\theta_{j}} = \\frac{1}{m}\\sum_{i=1}^{m}(h_{\\theta}(x^{(i)})-y^{(i)})x_{j}^{(i)}\\\\\n",
    "\\frac{\\partial J(\\theta)}{\\partial\\theta} = \\frac{1}{m}X^{\\mathbf{T}}(g(X\\vec{\\theta})-\\vec{y})\\\\\n",
    "\\end{gather*}\n",
    "$$"
   ]
  },
  {
   "cell_type": "code",
   "execution_count": 12,
   "metadata": {
    "collapsed": true
   },
   "outputs": [],
   "source": [
    "def gradient(theta, X, y):\n",
    "    h = hypot(theta, X)\n",
    "    grad = X.T.dot(h - y) / y.size\n",
    "    return grad.flatten()\n"
   ]
  },
  {
   "cell_type": "code",
   "execution_count": 13,
   "metadata": {},
   "outputs": [
    {
     "name": "stdout",
     "output_type": "stream",
     "text": [
      "Cost: \n",
      " 0.6931471805599452\n",
      "Grad: \n",
      " [ -0.1        -12.00921659 -11.26284221]\n"
     ]
    }
   ],
   "source": [
    "X_with_ones = np.column_stack((np.ones(y.size), X))\n",
    "initial_theta = np.zeros((X_with_ones.shape[1], 1))\n",
    "cost = costFunction(initial_theta, X_with_ones, y)\n",
    "grad = gradient(initial_theta, X_with_ones, y)\n",
    "print('Cost: \\n', cost)\n",
    "print('Grad: \\n', grad)\n"
   ]
  },
  {
   "cell_type": "markdown",
   "metadata": {},
   "source": [
    "#### 1.2.3 Learning parameters using minimize functoin"
   ]
  },
  {
   "cell_type": "code",
   "execution_count": 14,
   "metadata": {},
   "outputs": [
    {
     "data": {
      "text/plain": [
       "     fun: 0.2034977176698254\n",
       "     jac: array([  1.00352564e-05,   4.45730944e-04,   4.17245170e-04])\n",
       " message: 'Optimization terminated successfully.'\n",
       "    nfev: 71\n",
       "    nhev: 0\n",
       "     nit: 28\n",
       "    njev: 242\n",
       "  status: 0\n",
       " success: True\n",
       "       x: array([-25.15093692,   0.20614871,   0.20138731])"
      ]
     },
     "execution_count": 14,
     "metadata": {},
     "output_type": "execute_result"
    }
   ],
   "source": [
    "# Set options for minimize function\n",
    "# Run minimize to obtain the optimal theta\n",
    "# This function will return theta and the cost\n",
    "res = minimize(costFunction, initial_theta, args=(X_with_ones, y), method=\"Newton-CG\", jac=gradient, options={\n",
    "    'maxiter': 400\n",
    "})\n",
    "\n",
    "# Onece it completes, you should see that the cost is about 0.203\n",
    "res\n"
   ]
  },
  {
   "cell_type": "markdown",
   "metadata": {},
   "source": [
    "#### 1.2.4 Evaluating logistic regression"
   ]
  },
  {
   "cell_type": "code",
   "execution_count": 15,
   "metadata": {
    "collapsed": true
   },
   "outputs": [],
   "source": [
    "# The predict function will produce \"1\" or \"0\" \n",
    "# given a dataset and a learned parameter vector theta\n",
    "def predict(theta, X, threshold=0.5):\n",
    "    p = hypot(theta, X)\n",
    "    return (p > threshold).astype(\"int\")\n",
    "\n",
    "def test_accuracy(theta, X, y):\n",
    "    r = predict(theta.reshape(-1, 1), X)\n",
    "    return np.where(r == y)[0].size / y.size\n"
   ]
  },
  {
   "cell_type": "code",
   "execution_count": 16,
   "metadata": {},
   "outputs": [
    {
     "data": {
      "text/plain": [
       "array([ 0.77620331])"
      ]
     },
     "execution_count": 16,
     "metadata": {},
     "output_type": "execute_result"
    }
   ],
   "source": [
    "# predict for a student with an Exam 1 score of 45 and an Exam 2 score of 85\n",
    "# you should expect to see an admission probability of 0.776\n",
    "hypot(res.x, np.array([1, 45, 85]))\n"
   ]
  },
  {
   "cell_type": "code",
   "execution_count": 17,
   "metadata": {
    "scrolled": true
   },
   "outputs": [
    {
     "name": "stdout",
     "output_type": "stream",
     "text": [
      "Train accuracy 0.89%\n"
     ]
    }
   ],
   "source": [
    "print('Train accuracy {}%'.format(test_accuracy(res.x, X_with_ones, y)))\n"
   ]
  },
  {
   "cell_type": "code",
   "execution_count": 18,
   "metadata": {},
   "outputs": [
    {
     "data": {
      "text/plain": [
       "<matplotlib.legend.Legend at 0x1a171dda5c0>"
      ]
     },
     "execution_count": 18,
     "metadata": {},
     "output_type": "execute_result"
    },
    {
     "data": {
      "image/png": "[encoded data removed]",
      "text/plain": [
       "<matplotlib.figure.Figure at 0x1a1717ec978>"
      ]
     },
     "metadata": {},
     "output_type": "display_data"
    }
   ],
   "source": [
    "fig = plt.figure()\n",
    "ax = fig.add_subplot(1, 1, 1)\n",
    "plotData(X, y, x_label=\"Exam 1 score\", y_label=\"Exam 2 score\", pos_label=\"Admitted\", neg_label=\"Not Admitted\", ax=ax)\n",
    "ax.scatter(45, 85, s=60, c='r', marker='v', label='(45, 85)')\n",
    "plotDecisionBoundary(ax, X, res.x)\n",
    "ax.legend()\n"
   ]
  },
  {
   "cell_type": "markdown",
   "metadata": {},
   "source": [
    "## 2 Regularized logistic regression"
   ]
  },
  {
   "cell_type": "code",
   "execution_count": 19,
   "metadata": {},
   "outputs": [
    {
     "data": {
      "text/html": [
       "<table border=\"1\" class=\"dataframe\">\n",
       "  <thead>\n",
       "    <tr style=\"text-align: right;\">\n",
       "      <th></th>\n",
       "      <th>exam 1</th>\n",
       "      <th>exam 2</th>\n",
       "      <th>admissions decision</th>\n",
       "    </tr>\n",
       "  </thead>\n",
       "  <tbody>\n",
       "    <tr>\n",
       "      <th>0</th>\n",
       "      <td>0.051267</td>\n",
       "      <td>0.69956</td>\n",
       "      <td>1</td>\n",
       "    </tr>\n",
       "    <tr>\n",
       "      <th>1</th>\n",
       "      <td>-0.092742</td>\n",
       "      <td>0.68494</td>\n",
       "      <td>1</td>\n",
       "    </tr>\n",
       "    <tr>\n",
       "      <th>2</th>\n",
       "      <td>-0.213710</td>\n",
       "      <td>0.69225</td>\n",
       "      <td>1</td>\n",
       "    </tr>\n",
       "    <tr>\n",
       "      <th>3</th>\n",
       "      <td>-0.375000</td>\n",
       "      <td>0.50219</td>\n",
       "      <td>1</td>\n",
       "    </tr>\n",
       "    <tr>\n",
       "      <th>4</th>\n",
       "      <td>-0.513250</td>\n",
       "      <td>0.46564</td>\n",
       "      <td>1</td>\n",
       "    </tr>\n",
       "  </tbody>\n",
       "</table>"
      ],
      "text/plain": [
       "<IPython.core.display.HTML object>"
      ]
     },
     "metadata": {},
     "output_type": "display_data"
    },
    {
     "data": {
      "text/html": [
       "<div>\n",
       "<style>\n",
       "    .dataframe thead tr:only-child th {\n",
       "        text-align: right;\n",
       "    }\n",
       "\n",
       "    .dataframe thead th {\n",
       "        text-align: left;\n",
       "    }\n",
       "\n",
       "    .dataframe tbody tr th {\n",
       "        vertical-align: top;\n",
       "    }\n",
       "</style>\n",
       "<table border=\"1\" class=\"dataframe\">\n",
       "  <thead>\n",
       "    <tr style=\"text-align: right;\">\n",
       "      <th></th>\n",
       "      <th>exam 1</th>\n",
       "      <th>exam 2</th>\n",
       "      <th>admissions decision</th>\n",
       "    </tr>\n",
       "  </thead>\n",
       "  <tbody>\n",
       "    <tr>\n",
       "      <th>count</th>\n",
       "      <td>118.000000</td>\n",
       "      <td>118.000000</td>\n",
       "      <td>118.000000</td>\n",
       "    </tr>\n",
       "    <tr>\n",
       "      <th>mean</th>\n",
       "      <td>0.054779</td>\n",
       "      <td>0.183102</td>\n",
       "      <td>0.491525</td>\n",
       "    </tr>\n",
       "    <tr>\n",
       "      <th>std</th>\n",
       "      <td>0.496654</td>\n",
       "      <td>0.519743</td>\n",
       "      <td>0.502060</td>\n",
       "    </tr>\n",
       "    <tr>\n",
       "      <th>min</th>\n",
       "      <td>-0.830070</td>\n",
       "      <td>-0.769740</td>\n",
       "      <td>0.000000</td>\n",
       "    </tr>\n",
       "    <tr>\n",
       "      <th>25%</th>\n",
       "      <td>-0.372120</td>\n",
       "      <td>-0.254385</td>\n",
       "      <td>0.000000</td>\n",
       "    </tr>\n",
       "    <tr>\n",
       "      <th>50%</th>\n",
       "      <td>-0.006336</td>\n",
       "      <td>0.213455</td>\n",
       "      <td>0.000000</td>\n",
       "    </tr>\n",
       "    <tr>\n",
       "      <th>75%</th>\n",
       "      <td>0.478970</td>\n",
       "      <td>0.646562</td>\n",
       "      <td>1.000000</td>\n",
       "    </tr>\n",
       "    <tr>\n",
       "      <th>max</th>\n",
       "      <td>1.070900</td>\n",
       "      <td>1.108900</td>\n",
       "      <td>1.000000</td>\n",
       "    </tr>\n",
       "  </tbody>\n",
       "</table>\n",
       "</div>"
      ],
      "text/plain": [
       "           exam 1      exam 2  admissions decision\n",
       "count  118.000000  118.000000           118.000000\n",
       "mean     0.054779    0.183102             0.491525\n",
       "std      0.496654    0.519743             0.502060\n",
       "min     -0.830070   -0.769740             0.000000\n",
       "25%     -0.372120   -0.254385             0.000000\n",
       "50%     -0.006336    0.213455             0.000000\n",
       "75%      0.478970    0.646562             1.000000\n",
       "max      1.070900    1.108900             1.000000"
      ]
     },
     "metadata": {},
     "output_type": "display_data"
    }
   ],
   "source": [
    "X2, y2 = loadData('machine-learning-ex2\\ex2\\ex2data2.txt')\n"
   ]
  },
  {
   "cell_type": "markdown",
   "metadata": {},
   "source": [
    "### 2.1 Visualizing the data"
   ]
  },
  {
   "cell_type": "code",
   "execution_count": 20,
   "metadata": {},
   "outputs": [
    {
     "data": {
      "image/png": "[encoded data removed]",
      "text/plain": [
       "<matplotlib.figure.Figure at 0x1a171ccb128>"
      ]
     },
     "metadata": {},
     "output_type": "display_data"
    }
   ],
   "source": [
    "plotData(X2, y2, x_label=\"Microchip Test 1\", y_label=\"Microchip Test 2\", pos_label=\"QA passed\", neg_label=\"not passed\")\n"
   ]
  },
  {
   "cell_type": "markdown",
   "metadata": {},
   "source": [
    "### 2.2 Feature mapping"
   ]
  },
  {
   "cell_type": "code",
   "execution_count": 21,
   "metadata": {},
   "outputs": [
    {
     "data": {
      "text/plain": [
       "(118, 28)"
      ]
     },
     "execution_count": 21,
     "metadata": {},
     "output_type": "execute_result"
    }
   ],
   "source": [
    "# One way to fit the data better is to create more features from each data point.\n",
    "mapFeatureX = featureMap(X2, 6)\n",
    "# As a result of this mapping, our vector of two features\n",
    "# has been transformed into a 28-dimensional vector.\n",
    "mapFeatureX.shape\n",
    "# While the feature mapping allows us to build a more expressive classifier,\n",
    "# it also more susceptible to overfitting\n"
   ]
  },
  {
   "cell_type": "markdown",
   "metadata": {},
   "source": [
    "### 2.3 Cost function and gradient"
   ]
  },
  {
   "cell_type": "markdown",
   "metadata": {},
   "source": [
    "$$\n",
    "\\begin{equation}\n",
    "J_{reg}(\\theta) = J(\\theta) + \\frac{\\lambda}{2m}\\sum_{j=1}^{n}\\theta_{j}^{2}\\\\\n",
    "\\end{equation}\n",
    "$$"
   ]
  },
  {
   "cell_type": "code",
   "execution_count": 22,
   "metadata": {
    "collapsed": true
   },
   "outputs": [],
   "source": [
    "def costFunctionReg(theta, X, y, _lambda=1):\n",
    "    reg_term = _lambda * np.sum(np.square(theta.flatten()[1:])) / y.size / 2\n",
    "    return costFunction(theta, X, y) + reg_term\n"
   ]
  },
  {
   "cell_type": "markdown",
   "metadata": {},
   "source": [
    "$$\n",
    "\\begin{equation}\n",
    "\\begin{split}\n",
    "\\frac{\\partial J_{reg}(\\theta)}{\\partial\\theta_{j}} = \\frac{\\partial J(\\theta)}{\\partial\\theta_{j}} + \\frac{\\lambda}{m}\\theta_{j}& \\text{ with }\\ j\\geq 1 \\\\\n",
    "\\end{split}\n",
    "\\end{equation}\n",
    "$$"
   ]
  },
  {
   "cell_type": "code",
   "execution_count": 23,
   "metadata": {
    "collapsed": true
   },
   "outputs": [],
   "source": [
    "def gradientReg(theta, X, y, _lambda=1):\n",
    "    grad = gradient(theta, X, y)\n",
    "    reg_grad = (theta * _lambda / y.size).flatten()\n",
    "    reg_grad[0] = 0\n",
    "    return grad + reg_grad\n"
   ]
  },
  {
   "cell_type": "code",
   "execution_count": 24,
   "metadata": {},
   "outputs": [
    {
     "data": {
      "text/plain": [
       "0.69314718055994529"
      ]
     },
     "execution_count": 24,
     "metadata": {},
     "output_type": "execute_result"
    }
   ],
   "source": [
    "initial_theta2 = np.zeros((mapFeatureX.shape[1], 1))\n",
    "costFunctionReg(initial_theta2, mapFeatureX, y2, 1)\n"
   ]
  },
  {
   "cell_type": "markdown",
   "metadata": {},
   "source": [
    "#### 2.3.1 Learning parameters using minimize function"
   ]
  },
  {
   "cell_type": "code",
   "execution_count": 25,
   "metadata": {
    "scrolled": false
   },
   "outputs": [
    {
     "name": "stdout",
     "output_type": "stream",
     "text": [
      "final cost of theta [ 1.27268739  0.62557016  1.1809665  -2.01919822 -0.91761468 -1.43194199\n",
      "  0.12375921 -0.36513086 -0.35703388 -0.17485805 -1.45843772 -0.05129676\n",
      " -0.61603963 -0.2746414  -1.19282569 -0.24270336 -0.20570022 -0.04499768\n",
      " -0.27782709 -0.29525851 -0.45613294 -1.04377851  0.02762813 -0.29265642\n",
      "  0.01543393 -0.32759318 -0.14389199 -0.92460119] is 0.5290027422869215\n"
     ]
    },
    {
     "data": {
      "text/plain": [
       "'Optimization terminated successfully.'"
      ]
     },
     "execution_count": 25,
     "metadata": {},
     "output_type": "execute_result"
    }
   ],
   "source": [
    "def min_logistic(theta, X, y, _lambda=1):\n",
    "    return minimize(costFunctionReg, theta, args=(mapFeatureX, y2, _lambda), method=None, jac=gradientReg, options={\n",
    "        'maxiter': 3000\n",
    "    })\n",
    "res2 = min_logistic(initial_theta2, mapFeatureX, y2)\n",
    "if res2.success:\n",
    "    print(f\"final cost of theta {res2.x} is {res2.fun}\")\n",
    "res2.message\n"
   ]
  },
  {
   "cell_type": "markdown",
   "metadata": {},
   "source": [
    "### 2.4 Plotting the decision boundary"
   ]
  },
  {
   "cell_type": "code",
   "execution_count": 26,
   "metadata": {},
   "outputs": [
    {
     "data": {
      "image/png": "[encoded data removed]",
      "text/plain": [
       "<matplotlib.figure.Figure at 0x1a171e46630>"
      ]
     },
     "metadata": {},
     "output_type": "display_data"
    }
   ],
   "source": [
    "fig = plt.figure()\n",
    "ax = fig.add_subplot(1, 1, 1)\n",
    "plotData(X2, y2, 'Microchip Test 1', 'Microchip Test 2', 'y = 1', 'y = 0', ax)\n",
    "plotDecisionBoundary(ax, X2, res2.x, 6)\n"
   ]
  },
  {
   "cell_type": "markdown",
   "metadata": {},
   "source": [
    "### 2.5 Select regularization parameters"
   ]
  },
  {
   "cell_type": "code",
   "execution_count": 27,
   "metadata": {},
   "outputs": [
    {
     "name": "stderr",
     "output_type": "stream",
     "text": [
      "C:\\Users\\vitam\\Anaconda3\\lib\\site-packages\\numpy\\__init__.py:1: RuntimeWarning: overflow encountered in power\n",
      "  \"\"\"\n"
     ]
    },
    {
     "data": {
      "image/png": "[encoded data removed]",
      "text/plain": [
       "<matplotlib.figure.Figure at 0x1a171f76278>"
      ]
     },
     "metadata": {},
     "output_type": "display_data"
    }
   ],
   "source": [
    "fig, axes = plt.subplots(1, 3, sharey=True, figsize=(17, 5))\n",
    "# try out different regularization parameters\n",
    "\n",
    "# Lambda = 0 : No regularization --> too flexible, overfitting the training data\n",
    "# With a small lambda, the classifier gets almost every training example correct\n",
    "# But draws a very complicated boundary, thus overfitting the data\n",
    "\n",
    "# Lambda = 1 : Looks about right\n",
    "# Lambda = 100 : Too much regularization --> high bias\n",
    "# if lambda is set to too high, \n",
    "# you will not get a good fit\n",
    "# thus underfitting the data\n",
    "\n",
    "for i, _lambda in enumerate([0, 1, 100]):\n",
    "    ax = axes.flatten()[i]\n",
    "    # Optimize costFunctionReg\n",
    "    res2 = min_logistic(initial_theta2, mapFeatureX, y2, _lambda)\n",
    "    # Accuracy\n",
    "    accuracy = 100 * test_accuracy(res2.x, mapFeatureX, y2)\n",
    "\n",
    "    # Scatter plot of X,y\n",
    "    plotData(X2, y2, 'Microchip Test 1', 'Microchip Test 2', 'y = 1', 'y = 0', ax)\n",
    "\n",
    "    # Plot decisionboundary\n",
    "    plotDecisionBoundary(ax, X2, res2.x, 6)\n",
    "    ax.set_title(f\"Train accuracy {np.round(accuracy, decimals=2)}% with Lambda = {_lambda}\")\n"
   ]
  },
  {
   "cell_type": "code",
   "execution_count": null,
   "metadata": {
    "collapsed": true
   },
   "outputs": [],
   "source": []
  }
 ],
 "metadata": {
  "kernelspec": {
   "display_name": "Python 3",
   "language": "python",
   "name": "python3"
  },
  "language_info": {
   "codemirror_mode": {
    "name": "ipython",
    "version": 3
   },
   "file_extension": ".py",
   "mimetype": "text/x-python",
   "name": "python",
   "nbconvert_exporter": "python",
   "pygments_lexer": "ipython3",
   "version": "3.6.1"
  }
 },
 "nbformat": 4,
 "nbformat_minor": 1
}
