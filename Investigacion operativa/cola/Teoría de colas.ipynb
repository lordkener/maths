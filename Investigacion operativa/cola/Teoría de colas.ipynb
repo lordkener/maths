{
 "cells": [
  {
   "cell_type": "code",
   "execution_count": 1,
   "metadata": {
    "scrolled": true
   },
   "outputs": [],
   "source": [
    "from math import *\n",
    "import numpy as np"
   ]
  },
  {
   "cell_type": "code",
   "execution_count": 2,
   "metadata": {},
   "outputs": [],
   "source": [
    "def cal_p(lambda_, mu, c=1):\n",
    "    p = lambda_ / mu / c\n",
    "    print(\"p is: \", p)\n",
    "    return p"
   ]
  },
  {
   "cell_type": "code",
   "execution_count": 3,
   "metadata": {},
   "outputs": [],
   "source": [
    "def cal_X2_exponential(mu):\n",
    "    X_2 = 2 / mu**2\n",
    "    print(\"X^2 is: \", X_2)\n",
    "    return X_2"
   ]
  },
  {
   "cell_type": "code",
   "execution_count": 4,
   "metadata": {},
   "outputs": [
    {
     "name": "stdout",
     "output_type": "stream",
     "text": [
      "p is:  0.6666666666666666\n"
     ]
    }
   ],
   "source": [
    "def cal_W_MG1(lambda_, mu, CX=1):\n",
    "    p = cal_p(lambda_, mu)\n",
    "    return p * (1 + CX**2) / (2 * mu * (1 - p))\n",
    "\n",
    "assert abs(cal_W_MG1(2, 3, 1/4) + 1/3 - 0.6875) < 0.001"
   ]
  },
  {
   "cell_type": "code",
   "execution_count": 5,
   "metadata": {},
   "outputs": [
    {
     "name": "stdout",
     "output_type": "stream",
     "text": [
      "p is:  0.8\n"
     ]
    }
   ],
   "source": [
    "def cal_R_MM1(lambda_, mu):\n",
    "    p = cal_p(lambda_, mu)\n",
    "    return 1 / (mu * (1 - p))\n",
    "\n",
    "assert abs(cal_R_MM1(8, 10) - 0.5) < 0.001"
   ]
  },
  {
   "cell_type": "code",
   "execution_count": 6,
   "metadata": {},
   "outputs": [
    {
     "name": "stdout",
     "output_type": "stream",
     "text": [
      "p is:  0.6666666666666666\n",
      "p0 is:  0.1111111111111111\n"
     ]
    }
   ],
   "source": [
    "def cal_p0_MMC_without_lost(lambda_, mu, c=1):\n",
    "    p = cal_p(lambda_, mu, c)\n",
    "    p0 = 1 / (np.sum([(c*p)**k/factorial(k) for k in range(c)]) + (c*p)**c/(factorial(c)*(1-p)))\n",
    "    print(\"p0 is: \", p0)\n",
    "    return p0\n",
    "\n",
    "assert abs(cal_p0_MMC_without_lost(20, 10, 3) - 1/9) < 0.001"
   ]
  },
  {
   "cell_type": "code",
   "execution_count": 7,
   "metadata": {},
   "outputs": [
    {
     "name": "stdout",
     "output_type": "stream",
     "text": [
      "p is:  0.6666666666666666\n",
      "p is:  0.6666666666666666\n",
      "p0 is:  0.1111111111111111\n",
      "The p serie is  [0.1111111111111111, 0.2222222222222222, 0.2222222222222222]\n"
     ]
    }
   ],
   "source": [
    "def cal_pk_serie_without_lost(lambda_, mu, c, k):\n",
    "    p = cal_p(lambda_, mu, c)\n",
    "    p0 = cal_p0_MMC_without_lost(lambda_, mu, c)\n",
    "    p_serie = [p0]\n",
    "    for i in range(1, k+1):\n",
    "        p_serie.append(p_serie[i-1] * c * p / i)\n",
    "    print(\"The p serie is \", p_serie)\n",
    "    return np.array(p_serie)\n",
    "\n",
    "def cal_pk_without_lost(lambda_, mu, c, k):\n",
    "    return cal_pk_serie_without_lost(lambda_, mu, c, k)[-1]\n",
    "\n",
    "assert abs(cal_pk_without_lost(20, 10, 3, 2) - 2/9) < 0.01"
   ]
  },
  {
   "cell_type": "code",
   "execution_count": 8,
   "metadata": {
    "scrolled": true
   },
   "outputs": [
    {
     "name": "stdout",
     "output_type": "stream",
     "text": [
      "p is:  0.6666666666666666\n",
      "p is:  0.6666666666666666\n",
      "p0 is:  0.1111111111111111\n",
      "The p serie is  [0.1111111111111111, 0.2222222222222222, 0.2222222222222222, 0.14814814814814814]\n",
      "p is:  0.6133333333333333\n",
      "p is:  0.6133333333333333\n",
      "p0 is:  0.3866666666666667\n",
      "The p serie is  [0.3866666666666667, 0.23715555555555556]\n"
     ]
    }
   ],
   "source": [
    "def cal_wait_probability_MMC_without_lost(lambda_, mu, c):\n",
    "    p_serie = cal_pk_serie_without_lost(lambda_, mu, c, c)\n",
    "    return 1 - np.sum(p_serie[:-1])\n",
    "\n",
    "assert abs(cal_wait_probability_MMC_without_lost(20, 10, 3) - 4/9) < 0.001\n",
    "assert abs(cal_wait_probability_MMC_without_lost(16 / 60, 1 / 2.3, 1) * 100 - 61.33) < 0.01"
   ]
  },
  {
   "cell_type": "code",
   "execution_count": 9,
   "metadata": {
    "scrolled": true
   },
   "outputs": [
    {
     "name": "stdout",
     "output_type": "stream",
     "text": [
      "p is:  0.6133333333333333\n",
      "p is:  0.6133333333333333\n",
      "p0 is:  0.3866666666666667\n",
      "Q is:  0.9728735632183904\n"
     ]
    }
   ],
   "source": [
    "def cal_Q_MMC(lambda_, mu, c):\n",
    "    p = cal_p(lambda_, mu, c)\n",
    "    p0 = cal_p0_MMC_without_lost(lambda_, mu, c)\n",
    "    return ((c*p)**c * lambda_ * mu * p0) / (factorial(c-1)*(c*mu-lambda_)**2)\n",
    "\n",
    "def cal_W_MMC(lambda_, mu, c):\n",
    "    Q = cal_Q_MMC(lambda_, mu, c)\n",
    "    print(\"Q is: \", Q)\n",
    "    return Q / lambda_\n",
    "\n",
    "def cal_R_MMC(lambda_, mu, c):\n",
    "    return cal_W_MMC(lambda_, mu, c) + 1 / mu\n",
    "\n",
    "assert abs(cal_R_MMC(16 / 60, 1 / 2.3, 1) - 5.948) < 0.001"
   ]
  },
  {
   "cell_type": "code",
   "execution_count": 10,
   "metadata": {},
   "outputs": [
    {
     "name": "stdout",
     "output_type": "stream",
     "text": [
      "S is:  0.4\n"
     ]
    }
   ],
   "source": [
    "def cal_S(lambdas, X_2):\n",
    "    S = np.sum(lambdas*X_2) / 2\n",
    "    print(\"S is: \", S)\n",
    "    return S\n",
    "\n",
    "assert abs(cal_S(np.array([0.8, 0.2]), np.array([0.5, 2])) - 0.4) < 0.001"
   ]
  },
  {
   "cell_type": "code",
   "execution_count": 11,
   "metadata": {},
   "outputs": [],
   "source": [
    "def cal_U(lambdas, mus):\n",
    "    p = cal_p(lambdas, mus)\n",
    "    U = np.array([np.sum(p[:i]) for i in range(p.size + 1)])\n",
    "    print(\"U is: \", U)\n",
    "    return U\n",
    "\n",
    "def cal_W_priority_nonpreemptive_MM1(lambdas, mus):\n",
    "    U = cal_U(lambdas, mus)\n",
    "    X_2 = cal_X2_exponential(mus)\n",
    "    S = cal_S(lambdas, X_2)\n",
    "    \n",
    "    W = S / ((1 - U[1:]) * (1 - U[:-1]))\n",
    "    print(\"W is: \", W)\n",
    "    return W\n",
    "\n",
    "def cal_R_priority_nonpreemptive_MM1(lambdas, mus):\n",
    "    R = cal_W_priority_nonpreemptive_MM1(lambdas, mus) + 1 / mus\n",
    "    print(\"R is: \", R)\n",
    "    return R"
   ]
  },
  {
   "cell_type": "code",
   "execution_count": 12,
   "metadata": {},
   "outputs": [],
   "source": [
    "def cal_weight(lambdas):\n",
    "    lambda_ = np.sum(lambdas)\n",
    "    weight = lambdas / lambda_\n",
    "    print(\"weights are :\", weight)\n",
    "    return weight"
   ]
  },
  {
   "cell_type": "code",
   "execution_count": 13,
   "metadata": {},
   "outputs": [
    {
     "name": "stdout",
     "output_type": "stream",
     "text": [
      "weights are : [0.15384615 0.84615385]\n",
      "p is:  [0.38       0.34833333]\n",
      "U is:  [0.         0.38       0.72833333]\n",
      "X^2 is:  [0.0722     0.00200556]\n",
      "S is:  0.08323055555555557\n",
      "W is:  [0.13424283 0.49414539]\n"
     ]
    }
   ],
   "source": [
    "def cal_total_W_priority_nonpreemptive_MM1(lambdas, mus):\n",
    "    weight = cal_weight(lambdas)\n",
    "    W = cal_W_priority_nonpreemptive_MM1(lambdas, mus)\n",
    "    return np.sum(weight * W)\n",
    "\n",
    "assert abs(cal_total_W_priority_nonpreemptive_MM1(np.array([2, 11]),np.array([60/11.4, 60/1.9])) * 13 - 5.704) < 0.001"
   ]
  },
  {
   "cell_type": "code",
   "execution_count": 14,
   "metadata": {
    "scrolled": true
   },
   "outputs": [
    {
     "name": "stdout",
     "output_type": "stream",
     "text": [
      "weights are : [0.8 0.2]\n",
      "p is:  [0.4 0.2]\n",
      "U is:  [0.  0.4 0.6]\n",
      "X^2 is:  [0.5 2. ]\n",
      "S is:  0.4\n",
      "W is:  [0.66666667 1.66666667]\n",
      "R is:  [1.16666667 2.66666667]\n",
      "weights are : [0.15384615 0.84615385]\n",
      "p is:  [0.38       0.34833333]\n",
      "U is:  [0.         0.38       0.72833333]\n",
      "X^2 is:  [0.0722     0.00200556]\n",
      "S is:  0.08323055555555557\n",
      "W is:  [0.13424283 0.49414539]\n",
      "R is:  [0.32424283 0.52581206]\n"
     ]
    }
   ],
   "source": [
    "def cal_total_R_priority_nonpreemptive_MM1(lambdas, mus):\n",
    "    weight = cal_weight(lambdas)\n",
    "    R = cal_R_priority_nonpreemptive_MM1(lambdas, mus)\n",
    "    return np.sum(weight * R)\n",
    "\n",
    "assert abs(cal_total_R_priority_nonpreemptive_MM1(np.array([0.8, 0.2]), np.array([1/0.5,1])) - 1.466) < 0.001\n",
    "assert abs(cal_total_R_priority_nonpreemptive_MM1(np.array([2, 11]), np.array([60/11.4,60/1.9])) * 60 - 29.688) < 0.001"
   ]
  },
  {
   "cell_type": "code",
   "execution_count": 15,
   "metadata": {},
   "outputs": [
    {
     "name": "stdout",
     "output_type": "stream",
     "text": [
      "p is:  0.8736111111111111\n",
      "p_ 4  is: 0.14988851075237297\n"
     ]
    }
   ],
   "source": [
    "def cal_pk_MM1m(lambda_, mu, m, k):\n",
    "    p = cal_p(lambda_, mu)\n",
    "    pk = p**k*(1-p)/(1-p**(m+1))\n",
    "    print(\"p_\", k, \" is:\", pk)\n",
    "    return pk\n",
    "\n",
    "assert abs(cal_pk_MM1m(85/60, 60/37, 4, 4) * 100 - 14.988851) < 0.001"
   ]
  },
  {
   "cell_type": "code",
   "execution_count": 16,
   "metadata": {},
   "outputs": [
    {
     "name": "stdout",
     "output_type": "stream",
     "text": [
      "p is:  0.8837209302325582\n",
      "J is:  2.8615254562386045\n"
     ]
    }
   ],
   "source": [
    "def cal_J_MM1m(lambda_, mu, m):\n",
    "    p = cal_p(lambda_, mu)\n",
    "    J = p / (1 - p)-(m + 1)*(p**(m+1))/(1-p**(m+1))\n",
    "    print(\"J is: \", J)\n",
    "    return J\n",
    "\n",
    "assert abs(cal_J_MM1m(1/17.2, 1/15.2, 7) - 2.8615254562386037) < 0.001"
   ]
  },
  {
   "cell_type": "code",
   "execution_count": 17,
   "metadata": {},
   "outputs": [
    {
     "name": "stdout",
     "output_type": "stream",
     "text": [
      "p is:  0.6666666666666666\n",
      "p0 is:  0.12796208530805686\n"
     ]
    }
   ],
   "source": [
    "def cal_p0_MMcm(lambda_, mu, c, m):\n",
    "    p = cal_p(lambda_, mu, c)\n",
    "    p0 = 1 / (np.sum([(c*p)**k/factorial(k) for k in range(c)]) + (1-p**(m+1-c))*lambda_**c/(factorial(c)*mu**c*(1-p)))\n",
    "    print(\"p0 is: \", p0)\n",
    "    return p0\n",
    "\n",
    "assert abs(cal_p0_MMcm(20, 10, 3, 5) - 0.128) < 0.001"
   ]
  },
  {
   "cell_type": "code",
   "execution_count": 18,
   "metadata": {},
   "outputs": [
    {
     "name": "stdout",
     "output_type": "stream",
     "text": [
      "p is:  0.8\n",
      "p_ 0  is: 0.5555555555555556\n",
      "p is:  0.8\n",
      "p is:  0.8\n",
      "p0 is:  0.5555555555555556\n",
      "p_ 0  is:  0.5555555555555556\n",
      "p is:  0.6666666666666666\n",
      "p is:  0.6666666666666666\n",
      "p0 is:  0.12796208530805686\n",
      "p_ 5  is:  0.0758293838862559\n"
     ]
    }
   ],
   "source": [
    "def cal_pk_MMcm(lambda_, mu, c, m, k):\n",
    "    p = cal_p(lambda_, mu, c)\n",
    "    p0 = cal_p0_MMcm(lambda_, mu, c, m)\n",
    "    pk = (c*p)**k/factorial(k)*p0 if k < c else c**c*p**k/factorial(c)*p0\n",
    "    print(\"p_\", k, \" is: \", pk)\n",
    "    return pk\n",
    "\n",
    "assert cal_pk_MM1m(12/60, 1/4, 1, 0) - cal_pk_MMcm(12/60, 1/4, 1, 1, 0) < 0.001\n",
    "assert abs(cal_pk_MMcm(20, 10, 3, 5, 5) - 0.0758) < 0.01"
   ]
  },
  {
   "cell_type": "code",
   "execution_count": 19,
   "metadata": {},
   "outputs": [
    {
     "name": "stdout",
     "output_type": "stream",
     "text": [
      "p is:  2.0\n",
      "p is:  2.0\n",
      "p0 is:  0.015873015873015872\n",
      "The p serie is  [0.01587302 0.03174603 0.06349206 0.12698413 0.25396825 0.50793651]\n",
      "J is:  4.095238095238095\n",
      "p is:  2.0\n",
      "J is:  4.095238095238095\n",
      "p is:  0.6666666666666666\n",
      "p is:  0.6666666666666666\n",
      "p0 is:  0.12796208530805686\n",
      "The p serie is  [0.12796209 0.25592417 0.25592417 0.17061611 0.11374408 0.07582938]\n",
      "J is:  2.1137440758293837\n"
     ]
    }
   ],
   "source": [
    "def cal_J_MMcm(lambda_, mu, c, m):\n",
    "    p = cal_p(lambda_, mu, c)\n",
    "    p0 = cal_p0_MMcm(lambda_, mu, c, m)\n",
    "    p_serie = np.array([c*p/max(k,1) if k < c else p for k in range(m+1)])\n",
    "    p_serie[0] = p0\n",
    "    p_serie = np.cumprod(p_serie)\n",
    "    print(\"The p serie is \", p_serie)\n",
    "    J = np.sum(p_serie * np.arange(p_serie.size))\n",
    "    print(\"J is: \", J)\n",
    "    return J\n",
    "\n",
    "assert abs(cal_J_MMcm(20, 10, 1, 5) - cal_J_MM1m(20, 10, 5)) < 0.000001\n",
    "assert abs(cal_J_MMcm(20, 10, 3, 5) - 2.1137) < 0.01"
   ]
  },
  {
   "cell_type": "code",
   "execution_count": 20,
   "metadata": {},
   "outputs": [
    {
     "name": "stdout",
     "output_type": "stream",
     "text": [
      "p is:  0.6666666666666666\n",
      "p is:  0.6666666666666666\n",
      "p0 is:  0.12796208530805686\n",
      "The p serie is  [0.12796209 0.25592417 0.25592417 0.17061611 0.11374408 0.07582938]\n",
      "J is:  2.1137440758293837\n",
      "R is:  0.10568720379146919\n"
     ]
    }
   ],
   "source": [
    "def cal_R_MMcm(lambda_, mu, c, m):\n",
    "    J = cal_J_MMcm(lambda_, mu, c, m)\n",
    "    R = J / lambda_\n",
    "    print(\"R is: \", R)\n",
    "    return R\n",
    "\n",
    "assert abs(cal_R_MMcm(20, 10, 3, 5) - 0.1056) < 0.01"
   ]
  },
  {
   "cell_type": "code",
   "execution_count": 21,
   "metadata": {
    "scrolled": true
   },
   "outputs": [
    {
     "name": "stdout",
     "output_type": "stream",
     "text": [
      "p is:  0.6666666666666666\n",
      "p is:  0.6666666666666666\n",
      "p0 is:  0.12796208530805686\n",
      "The p serie is  [0.12796209 0.25592417 0.25592417 0.17061611 0.11374408 0.07582938]\n",
      "J is:  2.1137440758293837\n",
      "R is:  0.10568720379146919\n",
      "W is:  0.005687203791469184\n"
     ]
    }
   ],
   "source": [
    "def cal_W_MMcm(lambda_, mu, c, m):\n",
    "    R = cal_R_MMcm(lambda_, mu, c, m)\n",
    "    W = R - 1/mu\n",
    "    print(\"W is: \", W)\n",
    "    return W\n",
    "\n",
    "assert abs(cal_W_MMcm(20, 10, 3, 5) * 60 - 0.34) < 0.01"
   ]
  },
  {
   "cell_type": "code",
   "execution_count": 22,
   "metadata": {},
   "outputs": [],
   "source": [
    "def cal_busy_server(lambda_, mu, c):\n",
    "    p = cal_p(lambda_, mu, c)\n",
    "    n = c * p\n",
    "    print(\"The average of working server is: \", n)\n",
    "    return n"
   ]
  },
  {
   "cell_type": "code",
   "execution_count": 23,
   "metadata": {
    "scrolled": false
   },
   "outputs": [
    {
     "name": "stdout",
     "output_type": "stream",
     "text": [
      "weights are : [0.13513514 0.81081081 0.05405405]\n",
      "p is:  [0.2 0.3 0.3]\n",
      "U is:  [0.  0.2 0.5 0.8]\n",
      "X^2 is:  [0.32 0.02 4.5 ]\n",
      "left is:  [0.4   0.125 3.   ]\n",
      "numerator is:  [0.08 0.11 0.56]\n",
      "denominator is:  [0.8 0.4 0.1]\n",
      "right is:  [0.8 0.4 0.1]\n",
      "R is:  [0.5 0.4 8.6]\n"
     ]
    }
   ],
   "source": [
    "def cal_R_MM1_preemptive(lambdas, mus):\n",
    "    U = cal_U(lambdas, mus)\n",
    "    X_2 = cal_X2_exponential(mus)\n",
    "    left = (1 / mus) / (1 - U[:-1])\n",
    "    print(\"left is: \", left)\n",
    "    numerator = np.cumsum(lambdas*X_2 / 2)\n",
    "    print(\"numerator is: \", numerator)\n",
    "    denominator = (1 - U[1:]) * (1 - U[:-1])\n",
    "    print(\"denominator is: \", denominator)\n",
    "    right = numerator / denominator\n",
    "    print(\"right is: \", denominator)\n",
    "    R = np.array(left + right)\n",
    "    print(\"R is: \", R)\n",
    "    return R\n",
    "\n",
    "def cal_R_total_MM1_preemptive(lambdas, mus):\n",
    "    weight = cal_weight(lambdas)\n",
    "    R = cal_R_MM1_preemptive(lambdas, mus)\n",
    "    return np.sum(weight * R)\n",
    "    \n",
    "assert abs(cal_R_total_MM1_preemptive(np.array([0.5, 3, 0.2]), 1 / np.array([0.4, 0.1, 1.5])) - 0.86) < 0.1"
   ]
  },
  {
   "cell_type": "code",
   "execution_count": 24,
   "metadata": {},
   "outputs": [
    {
     "name": "stdout",
     "output_type": "stream",
     "text": [
      "R is:  [0.00280112 0.00564972 0.01117318 0.00313234 0.00860215]\n"
     ]
    }
   ],
   "source": [
    "def cal_R_queueing_netowork_MM1(I, mu):\n",
    "    R = 1 / (mu - I)\n",
    "    print(\"R is: \", R)\n",
    "    return R\n",
    "\n",
    "def cal_R_total_queueing_network_MM1(I, mu, lambdas):\n",
    "    lambda_ = np.sum(lambdas)\n",
    "    R = cal_R_queueing_netowork_MM1(I, mu)\n",
    "    return np.sum(I / lambda_ * R)\n",
    "\n",
    "assert abs(cal_R_total_queueing_network_MM1(np.array([1000, 550, 285.5, 872.75, 549.75]), np.array([1357, 727, 375, 1192, 666]), 1550) * 60 - 0.641) < 0.001"
   ]
  },
  {
   "cell_type": "markdown",
   "metadata": {},
   "source": [
    "# Autoevaluación"
   ]
  },
  {
   "cell_type": "markdown",
   "metadata": {},
   "source": [
    "## Problema 1"
   ]
  },
  {
   "cell_type": "markdown",
   "metadata": {},
   "source": [
    "Un sistema de comunicaciones recibe mensajes con una tasa de 8 trabajos por segundo. Se sabe que tanto la llegada como el servicio son procesos de Poisson y que el sistema tiene un factor de utilización del 80%"
   ]
  },
  {
   "cell_type": "markdown",
   "metadata": {},
   "source": [
    "M/M/1 $\\in$ M/G/1"
   ]
  },
  {
   "cell_type": "code",
   "execution_count": 25,
   "metadata": {},
   "outputs": [],
   "source": [
    "lambda_ = 8"
   ]
  },
  {
   "cell_type": "code",
   "execution_count": 26,
   "metadata": {},
   "outputs": [],
   "source": [
    "p = 0.8"
   ]
  },
  {
   "cell_type": "code",
   "execution_count": 27,
   "metadata": {},
   "outputs": [],
   "source": [
    "X = p / lambda_"
   ]
  },
  {
   "cell_type": "code",
   "execution_count": 28,
   "metadata": {},
   "outputs": [],
   "source": [
    "mu = 1 / X"
   ]
  },
  {
   "cell_type": "code",
   "execution_count": 29,
   "metadata": {},
   "outputs": [],
   "source": [
    "X_square = 2 / mu**2"
   ]
  },
  {
   "cell_type": "markdown",
   "metadata": {},
   "source": [
    "Fórmula de Pollaxe-Khintchine"
   ]
  },
  {
   "cell_type": "markdown",
   "metadata": {},
   "source": [
    "¿Cuál es el tiempo medio de espera?"
   ]
  },
  {
   "cell_type": "code",
   "execution_count": 30,
   "metadata": {},
   "outputs": [
    {
     "data": {
      "text/plain": [
       "0.4000000000000001"
      ]
     },
     "execution_count": 30,
     "metadata": {},
     "output_type": "execute_result"
    }
   ],
   "source": [
    "W = (lambda_ * X_square) / (2 * (1 - p))\n",
    "W"
   ]
  },
  {
   "cell_type": "markdown",
   "metadata": {},
   "source": [
    "¿Cuál es el tiempo medio de respuesta? Respuesta"
   ]
  },
  {
   "cell_type": "code",
   "execution_count": 31,
   "metadata": {},
   "outputs": [
    {
     "data": {
      "text/plain": [
       "0.5000000000000001"
      ]
     },
     "execution_count": 31,
     "metadata": {},
     "output_type": "execute_result"
    }
   ],
   "source": [
    "R = W + X\n",
    "R"
   ]
  },
  {
   "cell_type": "markdown",
   "metadata": {},
   "source": [
    "¿Cuál es el número medio de mensajes en cola?"
   ]
  },
  {
   "cell_type": "code",
   "execution_count": 32,
   "metadata": {},
   "outputs": [
    {
     "data": {
      "text/plain": [
       "3.2000000000000006"
      ]
     },
     "execution_count": 32,
     "metadata": {},
     "output_type": "execute_result"
    }
   ],
   "source": [
    "Q = lambda_ * W\n",
    "Q"
   ]
  },
  {
   "cell_type": "markdown",
   "metadata": {},
   "source": [
    "¿Cuál es el número medio de mensajes en el sistema? Respuesta"
   ]
  },
  {
   "cell_type": "code",
   "execution_count": 33,
   "metadata": {},
   "outputs": [
    {
     "data": {
      "text/plain": [
       "4.000000000000001"
      ]
     },
     "execution_count": 33,
     "metadata": {},
     "output_type": "execute_result"
    }
   ],
   "source": [
    "J = lambda_ * R\n",
    "J"
   ]
  },
  {
   "cell_type": "markdown",
   "metadata": {},
   "source": [
    "## Problema 2"
   ]
  },
  {
   "cell_type": "markdown",
   "metadata": {},
   "source": [
    "Un centro de atención al cliente recibe llamadas de dos tipos: contratación de servicios y petición de información. Las llamadas se producen según procesos de Poisson con tasas de 2 y 11 llamadas por hora según sea de contratación o de petición de información, respectivamente. Las llamadas de contratación requieren una media de 11.4 minutos, mientras que las de petición de información se atienden en una media de 1.9 minutos. Actualmente no hay discriminaciónn en el servicio, pero se ha detectado que algunos clientes que llaman para contratar un servicio abandonan la llamada antes de ser atendidos. Por ello, se ha decidido que se va a implantar un sistema que dé prioridad a estas llamadas. Analizar el modelo que quedaría después de implantar el sistema de prioridades no expulsivas."
   ]
  },
  {
   "cell_type": "code",
   "execution_count": 34,
   "metadata": {},
   "outputs": [],
   "source": [
    "lambda1 = 2"
   ]
  },
  {
   "cell_type": "code",
   "execution_count": 35,
   "metadata": {},
   "outputs": [],
   "source": [
    "lambda2 = 11"
   ]
  },
  {
   "cell_type": "code",
   "execution_count": 36,
   "metadata": {},
   "outputs": [],
   "source": [
    "X1 = 11.4 / 60"
   ]
  },
  {
   "cell_type": "code",
   "execution_count": 37,
   "metadata": {},
   "outputs": [],
   "source": [
    "X2 = 1.9 / 60"
   ]
  },
  {
   "cell_type": "code",
   "execution_count": 38,
   "metadata": {},
   "outputs": [],
   "source": [
    "mu1 = 1 / X1"
   ]
  },
  {
   "cell_type": "code",
   "execution_count": 39,
   "metadata": {},
   "outputs": [],
   "source": [
    "mu2 = 1 / X2"
   ]
  },
  {
   "cell_type": "code",
   "execution_count": 40,
   "metadata": {},
   "outputs": [
    {
     "data": {
      "text/plain": [
       "0.38"
      ]
     },
     "execution_count": 40,
     "metadata": {},
     "output_type": "execute_result"
    }
   ],
   "source": [
    "p1 = lambda1 * X1\n",
    "p1"
   ]
  },
  {
   "cell_type": "code",
   "execution_count": 41,
   "metadata": {},
   "outputs": [
    {
     "data": {
      "text/plain": [
       "0.3483333333333333"
      ]
     },
     "execution_count": 41,
     "metadata": {},
     "output_type": "execute_result"
    }
   ],
   "source": [
    "p2 = lambda2 * X2\n",
    "p2"
   ]
  },
  {
   "cell_type": "markdown",
   "metadata": {},
   "source": [
    "El sistema actual (sin prioridades) se ajusta a un modelo M/M/1"
   ]
  },
  {
   "cell_type": "code",
   "execution_count": 42,
   "metadata": {},
   "outputs": [],
   "source": [
    "U1 = p1"
   ]
  },
  {
   "cell_type": "code",
   "execution_count": 43,
   "metadata": {},
   "outputs": [],
   "source": [
    "U2 = U1 + p2"
   ]
  },
  {
   "cell_type": "markdown",
   "metadata": {},
   "source": [
    "¿Cuál es el tiempo medio de espera de las llamadas de contratación de servicios?"
   ]
  },
  {
   "cell_type": "markdown",
   "metadata": {},
   "source": [
    "Sistema no expulsivos con distintas clases de prioridad"
   ]
  },
  {
   "cell_type": "code",
   "execution_count": 44,
   "metadata": {},
   "outputs": [
    {
     "data": {
      "text/plain": [
       "0.07219999999999999"
      ]
     },
     "execution_count": 44,
     "metadata": {},
     "output_type": "execute_result"
    }
   ],
   "source": [
    "X_square1 = 2 / mu1**2\n",
    "X_square1"
   ]
  },
  {
   "cell_type": "code",
   "execution_count": 45,
   "metadata": {},
   "outputs": [
    {
     "data": {
      "text/plain": [
       "0.0020055555555555547"
      ]
     },
     "execution_count": 45,
     "metadata": {},
     "output_type": "execute_result"
    }
   ],
   "source": [
    "X_square2 = 2 / mu2**2\n",
    "X_square2"
   ]
  },
  {
   "cell_type": "code",
   "execution_count": 46,
   "metadata": {},
   "outputs": [
    {
     "data": {
      "text/plain": [
       "0.08323055555555553"
      ]
     },
     "execution_count": 46,
     "metadata": {},
     "output_type": "execute_result"
    }
   ],
   "source": [
    "S = (lambda1 * X_square1 + lambda2 * X_square2) / 2\n",
    "S"
   ]
  },
  {
   "cell_type": "markdown",
   "metadata": {},
   "source": [
    "¿Cuál es el tiempo medio de espera de las llamadas de contratación de servicios? Respuesta"
   ]
  },
  {
   "cell_type": "code",
   "execution_count": 47,
   "metadata": {},
   "outputs": [
    {
     "data": {
      "text/plain": [
       "8.054569892473117"
      ]
     },
     "execution_count": 47,
     "metadata": {},
     "output_type": "execute_result"
    }
   ],
   "source": [
    "W1 = S / (1 - U1)\n",
    "W1 * 60"
   ]
  },
  {
   "cell_type": "markdown",
   "metadata": {},
   "source": [
    "¿Cuál es el tiempo medio de espera de las llamadas de solicitud de información? Respuesta"
   ]
  },
  {
   "cell_type": "code",
   "execution_count": 48,
   "metadata": {},
   "outputs": [
    {
     "data": {
      "text/plain": [
       "29.64872353057588"
      ]
     },
     "execution_count": 48,
     "metadata": {},
     "output_type": "execute_result"
    }
   ],
   "source": [
    "W2 = S / ((1 - U1) * (1 - U2))\n",
    "W2 * 60"
   ]
  },
  {
   "cell_type": "markdown",
   "metadata": {},
   "source": [
    "¿Cuál es el número medio de llamadas en cola? Respuesta"
   ]
  },
  {
   "cell_type": "code",
   "execution_count": 49,
   "metadata": {},
   "outputs": [
    {
     "data": {
      "text/plain": [
       "5.704084977021348"
      ]
     },
     "execution_count": 49,
     "metadata": {},
     "output_type": "execute_result"
    }
   ],
   "source": [
    "Q = lambda1 * W1 + lambda2 * W2\n",
    "Q"
   ]
  },
  {
   "cell_type": "markdown",
   "metadata": {},
   "source": [
    "¿Cuál es el tiempo medio de respuesta (tiempo que transcurre desde que se inicia hasta que finaliza la llamada)? Respuesta"
   ]
  },
  {
   "cell_type": "code",
   "execution_count": 50,
   "metadata": {},
   "outputs": [],
   "source": [
    "lambda_ = lambda1 + lambda2"
   ]
  },
  {
   "cell_type": "code",
   "execution_count": 51,
   "metadata": {},
   "outputs": [
    {
     "data": {
      "text/plain": [
       "29.688084509329297"
      ]
     },
     "execution_count": 51,
     "metadata": {},
     "output_type": "execute_result"
    }
   ],
   "source": [
    "R = ((lambda1 * (W1 + X1)) + (lambda2 * (W2 + X2))) / lambda_\n",
    "R * 60"
   ]
  },
  {
   "cell_type": "markdown",
   "metadata": {},
   "source": [
    "## Problema 3"
   ]
  },
  {
   "cell_type": "markdown",
   "metadata": {},
   "source": [
    "Una centralita de venta de entradas por teléfono está preparada atender 2 llamadas simultáneamente sin capacidad para mantener llamadas en espera, de forma que si se recibe una llamada y los 2 operadores están ocupados, la llamada se pierde. Las llamadas se producen según un proceso de Poisson con una tasa de 85 llamadas a la hora, con una duración media de 59 segundos (el proceso de servicio también se ajusta a un proceso de Poisson)"
   ]
  },
  {
   "cell_type": "code",
   "execution_count": 52,
   "metadata": {},
   "outputs": [],
   "source": [
    "c = 2"
   ]
  },
  {
   "cell_type": "code",
   "execution_count": 53,
   "metadata": {},
   "outputs": [],
   "source": [
    "lambda_ = 85 / 60"
   ]
  },
  {
   "cell_type": "code",
   "execution_count": 54,
   "metadata": {},
   "outputs": [],
   "source": [
    "X = 59 / 60"
   ]
  },
  {
   "cell_type": "code",
   "execution_count": 55,
   "metadata": {},
   "outputs": [],
   "source": [
    "p = lambda_ * X"
   ]
  },
  {
   "cell_type": "markdown",
   "metadata": {},
   "source": [
    "Este sistema se ajusta a un modelo M/M/m con perdida"
   ]
  },
  {
   "cell_type": "markdown",
   "metadata": {},
   "source": [
    "¿Qué porcentaje de tiempo la centralita llena?"
   ]
  },
  {
   "cell_type": "code",
   "execution_count": 56,
   "metadata": {},
   "outputs": [
    {
     "data": {
      "text/plain": [
       "28.849205177095538"
      ]
     },
     "execution_count": 56,
     "metadata": {},
     "output_type": "execute_result"
    }
   ],
   "source": [
    "p_c = p**c / factorial(c) * (1/(sum([p**j/factorial(j) for j in range(0, c+1)])))\n",
    "p_c * 100"
   ]
  },
  {
   "cell_type": "markdown",
   "metadata": {},
   "source": [
    "¿Qué porcentaje de llamadas se pierden?"
   ]
  },
  {
   "cell_type": "code",
   "execution_count": 57,
   "metadata": {},
   "outputs": [
    {
     "data": {
      "text/plain": [
       "28.849205177095538"
      ]
     },
     "execution_count": 57,
     "metadata": {},
     "output_type": "execute_result"
    }
   ],
   "source": [
    "p_c * 100"
   ]
  },
  {
   "cell_type": "markdown",
   "metadata": {},
   "source": [
    "La empresa se queda sólo con el operador más eficiente, que en promedio atiende las llamadas en sólo 37 segundos, y contrata un sistema de servicio en espera con capacidad para 3 llamadas, de forma que cuando se recibe una llamada, si el operador está ocupado y ya hay 3 llamadas en espera, la centralita emite la señal de línea ocupada, la llamada se pierde y el cliente se va a la competencia"
   ]
  },
  {
   "cell_type": "markdown",
   "metadata": {},
   "source": [
    "Este sistema se ajusta a un modelo M/M/1 con buffer limitado"
   ]
  },
  {
   "cell_type": "markdown",
   "metadata": {},
   "source": [
    "¿Qué porcentaje de llamadas se pierden?"
   ]
  },
  {
   "cell_type": "code",
   "execution_count": 58,
   "metadata": {},
   "outputs": [],
   "source": [
    "X = 37 / 60"
   ]
  },
  {
   "cell_type": "code",
   "execution_count": 59,
   "metadata": {},
   "outputs": [
    {
     "data": {
      "text/plain": [
       "0.8736111111111112"
      ]
     },
     "execution_count": 59,
     "metadata": {},
     "output_type": "execute_result"
    }
   ],
   "source": [
    "p = lambda_ * X\n",
    "p"
   ]
  },
  {
   "cell_type": "code",
   "execution_count": 60,
   "metadata": {},
   "outputs": [],
   "source": [
    "m = 3 + 1"
   ]
  },
  {
   "cell_type": "code",
   "execution_count": 61,
   "metadata": {},
   "outputs": [
    {
     "data": {
      "text/plain": [
       "14.988851075237305"
      ]
     },
     "execution_count": 61,
     "metadata": {},
     "output_type": "execute_result"
    }
   ],
   "source": [
    "p_m = p**m * (1 - p) / (1 - p**(m + 1))\n",
    "p_m * 100"
   ]
  },
  {
   "cell_type": "markdown",
   "metadata": {},
   "source": [
    "En esta nueva situación, ¿cuál es el la tasa efectiva de llegada?"
   ]
  },
  {
   "cell_type": "code",
   "execution_count": 62,
   "metadata": {},
   "outputs": [
    {
     "data": {
      "text/plain": [
       "1.2043246097674716"
      ]
     },
     "execution_count": 62,
     "metadata": {},
     "output_type": "execute_result"
    }
   ],
   "source": [
    "lambda_ * (1 - p_m)"
   ]
  },
  {
   "cell_type": "markdown",
   "metadata": {},
   "source": [
    "¿Cuál es el nivel medio de ocupación del buffer?"
   ]
  },
  {
   "cell_type": "code",
   "execution_count": 63,
   "metadata": {},
   "outputs": [
    {
     "data": {
      "text/plain": [
       "1.731875095426231"
      ]
     },
     "execution_count": 63,
     "metadata": {},
     "output_type": "execute_result"
    }
   ],
   "source": [
    "J = (p / (1 - p)) - (m + 1) * (p**(m+1) / (1 - p**(m+1)))\n",
    "J"
   ]
  },
  {
   "cell_type": "code",
   "execution_count": 64,
   "metadata": {},
   "outputs": [
    {
     "data": {
      "text/plain": [
       "0.43296877385655774"
      ]
     },
     "execution_count": 64,
     "metadata": {},
     "output_type": "execute_result"
    }
   ],
   "source": [
    "J / m"
   ]
  },
  {
   "cell_type": "markdown",
   "metadata": {},
   "source": [
    "## Problema 4"
   ]
  },
  {
   "cell_type": "markdown",
   "metadata": {},
   "source": [
    "Una ventanilla de un banco realiza operaciones en un tiempo medio de 2.3 minutos y los clientes llegan con una tasa media de 16 clientes a la hora. Si se supone que las llegadas siguen un proceso de Poisson y el tiempo de servicio es exponencial."
   ]
  },
  {
   "cell_type": "markdown",
   "metadata": {},
   "source": [
    "Este sistema se ajusta a un modelo Respuesta M/M/1"
   ]
  },
  {
   "cell_type": "code",
   "execution_count": 65,
   "metadata": {},
   "outputs": [],
   "source": [
    "X = 2.3"
   ]
  },
  {
   "cell_type": "code",
   "execution_count": 66,
   "metadata": {},
   "outputs": [
    {
     "data": {
      "text/plain": [
       "0.26666666666666666"
      ]
     },
     "execution_count": 66,
     "metadata": {},
     "output_type": "execute_result"
    }
   ],
   "source": [
    "lambda_ = 16 / 60\n",
    "lambda_"
   ]
  },
  {
   "cell_type": "markdown",
   "metadata": {},
   "source": [
    "¿Qué porcentaje de tiempo el cajero está ocioso? Respuesta"
   ]
  },
  {
   "cell_type": "code",
   "execution_count": 67,
   "metadata": {},
   "outputs": [],
   "source": [
    "p = lambda_* X"
   ]
  },
  {
   "cell_type": "code",
   "execution_count": 68,
   "metadata": {},
   "outputs": [
    {
     "data": {
      "text/plain": [
       "38.66666666666667"
      ]
     },
     "execution_count": 68,
     "metadata": {},
     "output_type": "execute_result"
    }
   ],
   "source": [
    "p0 = (1 - p)\n",
    "p0 * 100"
   ]
  },
  {
   "cell_type": "markdown",
   "metadata": {},
   "source": [
    "¿Qué porcentaje de clientes deben esperar en cola?"
   ]
  },
  {
   "cell_type": "code",
   "execution_count": 69,
   "metadata": {},
   "outputs": [
    {
     "data": {
      "text/plain": [
       "61.33333333333333"
      ]
     },
     "execution_count": 69,
     "metadata": {},
     "output_type": "execute_result"
    }
   ],
   "source": [
    "(1 - p0) * 100"
   ]
  },
  {
   "cell_type": "markdown",
   "metadata": {},
   "source": [
    "¿Cuál es el tiempo medio de estancia de los clientes en el banco"
   ]
  },
  {
   "cell_type": "code",
   "execution_count": 70,
   "metadata": {},
   "outputs": [
    {
     "data": {
      "text/plain": [
       "1.5862068965517238"
      ]
     },
     "execution_count": 70,
     "metadata": {},
     "output_type": "execute_result"
    }
   ],
   "source": [
    "J = p / (1 - p)\n",
    "J"
   ]
  },
  {
   "cell_type": "markdown",
   "metadata": {},
   "source": [
    "¿Cuál es el tiempo medio de estancia de los clientes en el banco?"
   ]
  },
  {
   "cell_type": "code",
   "execution_count": 71,
   "metadata": {},
   "outputs": [
    {
     "data": {
      "text/plain": [
       "5.948275862068964"
      ]
     },
     "execution_count": 71,
     "metadata": {},
     "output_type": "execute_result"
    }
   ],
   "source": [
    "R = J / lambda_\n",
    "R"
   ]
  },
  {
   "cell_type": "code",
   "execution_count": 72,
   "metadata": {},
   "outputs": [
    {
     "data": {
      "text/plain": [
       "3.6482758620689646"
      ]
     },
     "execution_count": 72,
     "metadata": {},
     "output_type": "execute_result"
    }
   ],
   "source": [
    "W = R - X\n",
    "W"
   ]
  },
  {
   "cell_type": "markdown",
   "metadata": {},
   "source": [
    "## Problema 5"
   ]
  },
  {
   "cell_type": "markdown",
   "metadata": {},
   "source": [
    "Una estación de ITV ha sufrido una avería y sólo dispone un equipo de inspección con espacio para 6 coches más en espera. El proceso de llegadas se puede considerar como un proceso de Poisson con una tasa media de un coche cada 17.2 minutos. El tiempo de servicio se puede aproximar mediante una variable aleatoria con distribución exponencial de media 15.2 minutos. Si un coche llega a la estación y esta está saturada, se marcha sin esperar a que quede una plaza libre."
   ]
  },
  {
   "cell_type": "markdown",
   "metadata": {},
   "source": [
    "Este sistema se ajusta a un modelo M/M/1 con buffer limitado"
   ]
  },
  {
   "cell_type": "code",
   "execution_count": 73,
   "metadata": {},
   "outputs": [],
   "source": [
    "m = 6 + 1"
   ]
  },
  {
   "cell_type": "code",
   "execution_count": 74,
   "metadata": {},
   "outputs": [],
   "source": [
    "lambda_ = 1 / 17.2"
   ]
  },
  {
   "cell_type": "code",
   "execution_count": 75,
   "metadata": {},
   "outputs": [],
   "source": [
    "X = 15.2"
   ]
  },
  {
   "cell_type": "markdown",
   "metadata": {},
   "source": [
    "¿Cuál es la probabilidad de que un coche llegue y se encuentre todos los puestos ocupados?"
   ]
  },
  {
   "cell_type": "code",
   "execution_count": 76,
   "metadata": {},
   "outputs": [],
   "source": [
    "p = lambda_ * X"
   ]
  },
  {
   "cell_type": "code",
   "execution_count": 77,
   "metadata": {},
   "outputs": [
    {
     "data": {
      "text/plain": [
       "0.07793543657502291"
      ]
     },
     "execution_count": 77,
     "metadata": {},
     "output_type": "execute_result"
    }
   ],
   "source": [
    "p_m = p**m * (1 - p) / (1 - p**(m + 1))\n",
    "p_m"
   ]
  },
  {
   "cell_type": "markdown",
   "metadata": {},
   "source": [
    "¿Cuál es la tasa efectiva de llegada?"
   ]
  },
  {
   "cell_type": "code",
   "execution_count": 78,
   "metadata": {},
   "outputs": [
    {
     "data": {
      "text/plain": [
       "3.216504291017362"
      ]
     },
     "execution_count": 78,
     "metadata": {},
     "output_type": "execute_result"
    }
   ],
   "source": [
    "tasa_efectiva = lambda_ * (1 - p_m) * 60\n",
    "tasa_efectiva"
   ]
  },
  {
   "cell_type": "markdown",
   "metadata": {},
   "source": [
    "¿Cuál es el número medio de coches en el sistema?"
   ]
  },
  {
   "cell_type": "code",
   "execution_count": 79,
   "metadata": {
    "scrolled": true
   },
   "outputs": [
    {
     "data": {
      "text/plain": [
       "2.8615254562386037"
      ]
     },
     "execution_count": 79,
     "metadata": {},
     "output_type": "execute_result"
    }
   ],
   "source": [
    "J = (p / (1 - p)) - (m + 1)*(p**(m+1)/(1-p**(m+1)))\n",
    "J"
   ]
  },
  {
   "cell_type": "markdown",
   "metadata": {},
   "source": [
    "La empresa ha calculado el beneficio por vehículo en 22 euros. Tiene la posibilidad de ampliar la capacidad de la zona de espera en un vehículo más, con lo que la proporción de tiempo en que la estación está saturada disminuye y puede atender a más vehículos Suponiendo que está abierta 8 horas al día, durante 22 días al mes y que el proceso de llegadas es el mismo durante todo el horario de apertura, ¿cuánto sería el incremento mensual en el beneficio esperado por poder atender a los nuevos coches?"
   ]
  },
  {
   "cell_type": "code",
   "execution_count": 80,
   "metadata": {},
   "outputs": [],
   "source": [
    "m = 6 + 2"
   ]
  },
  {
   "cell_type": "code",
   "execution_count": 81,
   "metadata": {},
   "outputs": [],
   "source": [
    "precio = 22"
   ]
  },
  {
   "cell_type": "code",
   "execution_count": 82,
   "metadata": {},
   "outputs": [],
   "source": [
    "hours = 8"
   ]
  },
  {
   "cell_type": "code",
   "execution_count": 83,
   "metadata": {},
   "outputs": [],
   "source": [
    "days = 22"
   ]
  },
  {
   "cell_type": "code",
   "execution_count": 84,
   "metadata": {
    "scrolled": true
   },
   "outputs": [
    {
     "data": {
      "text/plain": [
       "0.06443531189842146"
      ]
     },
     "execution_count": 84,
     "metadata": {},
     "output_type": "execute_result"
    }
   ],
   "source": [
    "p_m = p**m * (1 - p) / (1 - p**(m + 1))\n",
    "p_m"
   ]
  },
  {
   "cell_type": "code",
   "execution_count": 85,
   "metadata": {},
   "outputs": [
    {
     "data": {
      "text/plain": [
       "182.34587005046873"
      ]
     },
     "execution_count": 85,
     "metadata": {},
     "output_type": "execute_result"
    }
   ],
   "source": [
    "(lambda_ * (1 - p_m) * 60 - tasa_efectiva) * hours * days * precio"
   ]
  },
  {
   "cell_type": "markdown",
   "metadata": {},
   "source": [
    "## Problema 6"
   ]
  },
  {
   "cell_type": "markdown",
   "metadata": {},
   "source": [
    "Un call center ha recogido datos de las llamadas telefónicas recibidas en el último periodo durante la hora punta. El número de llamadas recibidas se puede aproximar mediante una variable aleatoria con distribución Poisson de media 51 llamadas a la hora. El análisis de las conversaciones revela que la duración media de las llamadas es de 2.5 minutos. Actualmente tiene 3 personas atendiendo el teléfono. Si cuando una persona llama, todos los operarios están ocupados, la llamada se pierde."
   ]
  },
  {
   "cell_type": "markdown",
   "metadata": {},
   "source": [
    "Este sistema se ajusta a un modelo M/M/m con pérdidas"
   ]
  },
  {
   "cell_type": "code",
   "execution_count": 86,
   "metadata": {},
   "outputs": [],
   "source": [
    "lambda_ = 51 / 60"
   ]
  },
  {
   "cell_type": "code",
   "execution_count": 87,
   "metadata": {},
   "outputs": [],
   "source": [
    "X = 2.5"
   ]
  },
  {
   "cell_type": "code",
   "execution_count": 88,
   "metadata": {},
   "outputs": [],
   "source": [
    "c = 3"
   ]
  },
  {
   "cell_type": "code",
   "execution_count": 89,
   "metadata": {},
   "outputs": [],
   "source": [
    "p = lambda_ * X"
   ]
  },
  {
   "cell_type": "markdown",
   "metadata": {},
   "source": [
    "¿Cuál es la probabilidad de que la llamada se pierda? "
   ]
  },
  {
   "cell_type": "code",
   "execution_count": 90,
   "metadata": {},
   "outputs": [
    {
     "data": {
      "text/plain": [
       "0.229054967597557"
      ]
     },
     "execution_count": 90,
     "metadata": {},
     "output_type": "execute_result"
    }
   ],
   "source": [
    "p_c = p**c/factorial(c)/(sum([p**j/factorial(j) for j in range(0, c+1)]))\n",
    "p_c"
   ]
  },
  {
   "cell_type": "markdown",
   "metadata": {},
   "source": [
    "¿Qué porcentaje de tiempo están todos los operarios ocupados?"
   ]
  },
  {
   "cell_type": "code",
   "execution_count": 91,
   "metadata": {},
   "outputs": [
    {
     "data": {
      "text/plain": [
       "22.9054967597557"
      ]
     },
     "execution_count": 91,
     "metadata": {},
     "output_type": "execute_result"
    }
   ],
   "source": [
    "p_c * 100"
   ]
  },
  {
   "cell_type": "markdown",
   "metadata": {},
   "source": [
    "¿Qué porcentaje de tiempo están todos los operarios libres?"
   ]
  },
  {
   "cell_type": "code",
   "execution_count": 92,
   "metadata": {},
   "outputs": [
    {
     "data": {
      "text/plain": [
       "14.322346030117952"
      ]
     },
     "execution_count": 92,
     "metadata": {},
     "output_type": "execute_result"
    }
   ],
   "source": [
    "p_empty = 1/sum([p**j/factorial(j) for j in range(0,c+1)])\n",
    "p_empty * 100"
   ]
  },
  {
   "cell_type": "markdown",
   "metadata": {},
   "source": [
    "La empresa quiere aumentar el nivel de servicio, reduciendo la probabilidad de que una llamada se encuentre a todos los operarios ocupados. ¿Cuál es el número mínimo de operarios que garantiza que esta probabilidad es inferior a 0.10? Respuesta operarios"
   ]
  },
  {
   "cell_type": "code",
   "execution_count": 93,
   "metadata": {
    "scrolled": true
   },
   "outputs": [
    {
     "data": {
      "text/plain": [
       "5"
      ]
     },
     "execution_count": 93,
     "metadata": {},
     "output_type": "execute_result"
    }
   ],
   "source": [
    "k = c\n",
    "p_k = p**k/factorial(k)/sum([p**j/factorial(j) for j in range(0, k+1)])\n",
    "while p_k > 0.1:\n",
    "    k += 1\n",
    "    p_k = p**k/factorial(k)/sum([p**j/factorial(j) for j in range(0, k+1)])\n",
    "k"
   ]
  },
  {
   "cell_type": "markdown",
   "metadata": {},
   "source": [
    "## Problema 7"
   ]
  },
  {
   "cell_type": "markdown",
   "metadata": {},
   "source": [
    "En un determinado se ha implantado un nuevo sistema para el control de seguridad de acceso de los viajeros al área de embarque. Se ha dispuesto una puerta que da acceso a dos arcos detectores de metales que deben superar todos los viajeros de la cola. En caso de que el arco detector no señale ninguna incidencia, el viajero pasa directamente a la zona de embarque. En caso de que detecte algo extraño, el viajero debe pasar a un escáner corporal 3D. Este escaner es el mismo para las dos puertas, de forma que hay una única cola con los viajeros precedentes de las dos puertas. En el caso en el que el escaner corporal 3D siga detectando algo extraño, el viajero debe pasar a un tercer control más exhaustivo, para lo que pasa a unas dependencias especiales del aeropuerto.\n",
    "\n",
    "Una vez en los viajeros traspasan la puerta de acceso, se reparten por igual entre los dos arcos de seguridad. El 83% de los viajeros que acceden a la zona de embarque, pasan sin problemas por primer arco detector, independientemente de la puerta que usen. El 11% de los viajeros que pasan por el escaner corporal 3D necesitan pasar por las dependencias especiales, mientras que el resto (89%) pasan directamente a la sala de embarque.\n",
    "\n",
    "Por tanto, se puede considerar que el sistema tiene cinco servidores:\n",
    "\n",
    "S1 : puerta de acceso a la que llegan todos los viajeros con una tasa λ=80 viajeros por minuto. Este servidor atiende a los viajeros con una tasa μ1 =107 viajeros por minuto.\n",
    "\n",
    "S2 : primer arco que recibe a la mitad de los viajeros de la puerta de acceso. Este arco tiene una tasa de inspección de μ2 =52 viajeros por minuto.\n",
    "\n",
    "S3 : segundo arco que recibe a la mitad de los viajeros de la puerta de acceso. Este arco tiene una tasa de inspección de μ3 =52 viajeros por minuto.\n",
    "\n",
    "S4 : escaner corporal 3D, que recibe a los viajeros a los que los arcos anteriores detectan algo extraño. Este escaner trabaja con una tasa de μ4 =18 viajeros por minuto.\n",
    "\n",
    "S5 : dependencias especiales, que recibe a todos los viajeros a los que el escaner visual 3D detecta algo extraño. Una vez que ha pasado por aquí, un viajero pasa a la zona de embarque. Cada viajero invierte un promedio de x5 =30 segundos en pasar este proceso."
   ]
  },
  {
   "cell_type": "markdown",
   "metadata": {},
   "source": [
    "![Diseño de redes](problema7.png)"
   ]
  },
  {
   "cell_type": "markdown",
   "metadata": {},
   "source": [
    "Denotamos por Ii la tasa de llegada al servidor i.\n",
    "Nota: a la hora de realizar los cálculos, es necesario tener en cuenta las unidades eque se utilizan para cada parámetro del problema y las unidades en las que se piden los resultados.\n",
    "Completa adecuadamente las ecuaciones de tráfico:"
   ]
  },
  {
   "cell_type": "code",
   "execution_count": 94,
   "metadata": {},
   "outputs": [],
   "source": [
    "lambda_ = 80\n",
    "mu = np.array([107, 52, 52, 18, 60/30])"
   ]
  },
  {
   "cell_type": "code",
   "execution_count": 95,
   "metadata": {},
   "outputs": [],
   "source": [
    "q12 = 0.5\n",
    "q13 = 0.5\n",
    "q24 = 0.17\n",
    "q34 = 0.17\n",
    "q45 = 0.11"
   ]
  },
  {
   "cell_type": "code",
   "execution_count": 96,
   "metadata": {
    "scrolled": true
   },
   "outputs": [
    {
     "name": "stdout",
     "output_type": "stream",
     "text": [
      "[80.    40.    40.    13.6    1.496]\n"
     ]
    }
   ],
   "source": [
    "I1 = lambda_\n",
    "I2 = q12 * I1\n",
    "I3 = q13 * I1\n",
    "I4 = q24 * I2 + q34 * I3\n",
    "I5 = q45 * I4\n",
    "I = np.array([I1, I2, I3, I4, I5])\n",
    "print(I)"
   ]
  },
  {
   "cell_type": "markdown",
   "metadata": {},
   "source": [
    "El número medio de viajeros en cada servidor Ji es:"
   ]
  },
  {
   "cell_type": "code",
   "execution_count": 97,
   "metadata": {},
   "outputs": [
    {
     "data": {
      "text/plain": [
       "array([2.96296296, 3.33333333, 3.33333333, 3.09090909, 2.96825397])"
      ]
     },
     "execution_count": 97,
     "metadata": {},
     "output_type": "execute_result"
    }
   ],
   "source": [
    "J = I/(mu-I)\n",
    "J"
   ]
  },
  {
   "cell_type": "markdown",
   "metadata": {},
   "source": [
    "Y el número medio de viajeros en todo el sistema J es Respuesta"
   ]
  },
  {
   "cell_type": "code",
   "execution_count": 98,
   "metadata": {},
   "outputs": [
    {
     "data": {
      "text/plain": [
       "15.688792688792692"
      ]
     },
     "execution_count": 98,
     "metadata": {},
     "output_type": "execute_result"
    }
   ],
   "source": [
    "np.sum(J)"
   ]
  },
  {
   "cell_type": "markdown",
   "metadata": {},
   "source": [
    "## Problema 8"
   ]
  },
  {
   "cell_type": "markdown",
   "metadata": {},
   "source": [
    "Una empresa recibe documentos de dos tipos, 1 y 2. Los documentos de tipo 1 deben pasar por el OCR número 1, mientras que los de tipo 2 pasan por el OCR 2. Como resultado de la lectura por el correspondiente OCR, cada documento puede: a) ser rechazado (si la lectura presentó ligeros errores) y sale del sistema, b) pasar a grabación manual (si la lectura fue imposible) o c) pasar directamente al proceso de almacenamiento (distinto para cada tipo de documento). Si un documento pasa por grabación manual, después pasa a cualquiera de los dos procesos de almacenamiento anteriores con la misma probabilidad. Se ha detectado que el 10% de los documentos de tipo 1 son rechazados, el 73% salen correctamente y el 17% restante deben pasar a grabación manual. En el OCR2 (documentos de tipo 2), estos porcentajes son 5%, 74% y 21%, respectivamente.\n",
    "\n",
    "Por tanto, se puede considerar que el sistema tiene cinco servidores:\n",
    "\n",
    "S1 : primer OCR, OCR1, que recibe documentos de tipo 1 sólo del exterior con una tasa λ1 =1000 documentos por hora. Los documentos rechazados en este punto, salen del sistema. Este sistema procesa documentos con una tasa μ1 =1357 documentos por hora.\n",
    "\n",
    "S2 : segundo OCR, OCR2, que recibe documentos de tipo 2 sólo del exterior con una tasa λ2 =550. Los documentos rechazados en este punto, salen del sistema. Este sistema procesa documentos con una tasa μ2 =727 documentos por hora.\n",
    "\n",
    "S3 : grabación manual, que recibe los documentos de tipo 1 y 2 cuya lectura ha resultado defectuosa. Este sistema procesa documentos con una tasa μ3 =375 documentos por hora.\n",
    "\n",
    "S4 : primer almacenamiento, que recibe los documentos de tipo 1 que han sido leídos correctamente en el OCR1 y la mitad de los documentos que han pasado por la grabación manual. Una vez que ha pasado por aquí, un documento sale del sistema. Este sistema procesa documentos con una tasa μ4 =1192 documentos por hora.\n",
    "\n",
    "S5 : primer almacenamiento, que recibe los documentos de tipo 2 que han sido leídos correctamente en el OCR1 y la mitad de los documentos que han pasado por la grabación manual. Una vez que ha pasado por aquí, un documento sale del sistema. Este sistema procesa documentos con una tasa μ5 =666 documentos por hora."
   ]
  },
  {
   "cell_type": "markdown",
   "metadata": {},
   "source": [
    "![Diseño de redes](problema8.png)"
   ]
  },
  {
   "cell_type": "code",
   "execution_count": 99,
   "metadata": {},
   "outputs": [],
   "source": [
    "lambda1 = 1000\n",
    "lambda2 = 550\n",
    "mu = np.array([1357, 727, 375, 1192, 666])\n",
    "q13 = 0.17\n",
    "q23 = 0.21\n",
    "q14 = 0.73\n",
    "q25 = 0.74\n",
    "q34 = 0.5\n",
    "q35 = 0.5"
   ]
  },
  {
   "cell_type": "markdown",
   "metadata": {},
   "source": [
    "Denotamos por Ii la tasa de llegada al servidor i.\n",
    "\n",
    "Nota: a la hora de realizar los cálculos, es necesario tener en cuenta las unidades eque se utilizan para cada parámetro del problema y las unidades en las que se piden los resultados.\n",
    "\n",
    "Completa adecuadamente las ecuaciones de tráfico:"
   ]
  },
  {
   "cell_type": "code",
   "execution_count": 100,
   "metadata": {},
   "outputs": [
    {
     "name": "stdout",
     "output_type": "stream",
     "text": [
      "[1000.    550.    285.5   872.75  549.75]\n"
     ]
    }
   ],
   "source": [
    "I1 = lambda1\n",
    "I2 = lambda2\n",
    "I3 = q13 * I1 + q23 * I2\n",
    "I4 = q14 * I1 + q34 * I3\n",
    "I5 = q25 * I2 + q35 * I3\n",
    "I = np.array([I1, I2, I3, I4, I5])\n",
    "print(I)"
   ]
  },
  {
   "cell_type": "markdown",
   "metadata": {},
   "source": [
    "El tiempo medio de respuesta de cada servidor es:"
   ]
  },
  {
   "cell_type": "code",
   "execution_count": 101,
   "metadata": {},
   "outputs": [
    {
     "data": {
      "text/plain": [
       "array([0.16806723, 0.33898305, 0.67039106, 0.18794049, 0.51612903])"
      ]
     },
     "execution_count": 101,
     "metadata": {},
     "output_type": "execute_result"
    }
   ],
   "source": [
    "R = 1/(mu-I)\n",
    "R * 60"
   ]
  },
  {
   "cell_type": "markdown",
   "metadata": {},
   "source": [
    "Y el tiempo medio de respuesta global es"
   ]
  },
  {
   "cell_type": "code",
   "execution_count": 102,
   "metadata": {},
   "outputs": [
    {
     "data": {
      "text/plain": [
       "0.6410784174947248"
      ]
     },
     "execution_count": 102,
     "metadata": {},
     "output_type": "execute_result"
    }
   ],
   "source": [
    "np.sum(I*R) / (lambda1 + lambda2) * 60"
   ]
  },
  {
   "cell_type": "markdown",
   "metadata": {},
   "source": [
    "# Serie de problemas y ejercicios de Teoría de Colas"
   ]
  },
  {
   "cell_type": "markdown",
   "metadata": {},
   "source": [
    "## Problema 1"
   ]
  },
  {
   "cell_type": "markdown",
   "metadata": {},
   "source": [
    "Una empresa dispone de dos impresoras y cada una atiende la demanda de un departamento. Ambas impresoras son iguales y trabajan a un ritmo promedio de 1.1 trabajos por minuto. El departamento A envía un promedio de 45 trabajos por hora y el departamento B un trabajo cada 90 segundos. Las impresoras tienen capacidad suficiente como para mantener en espera todos los trabajos que se reciban. Tanto las llegadas como el servicio se pueden considerar procesos de Poisson."
   ]
  },
  {
   "cell_type": "code",
   "execution_count": 103,
   "metadata": {},
   "outputs": [
    {
     "name": "stdout",
     "output_type": "stream",
     "text": [
      "0.75 0.6666666666666666 1.1\n"
     ]
    }
   ],
   "source": [
    "lambda1 = 45 / 60\n",
    "lambda2 = 60 / 90\n",
    "mu = 1.1\n",
    "print(lambda1, lambda2, mu)"
   ]
  },
  {
   "cell_type": "markdown",
   "metadata": {},
   "source": [
    "### ¿A qué modelo se ajustan los sistemas descritos? **M/M/1**"
   ]
  },
  {
   "cell_type": "markdown",
   "metadata": {},
   "source": [
    "### ¿Qué proporción de trabajos tienen que esperar para ser atendidos en cada departamento?"
   ]
  },
  {
   "cell_type": "markdown",
   "metadata": {},
   "source": [
    "#### Departamento A"
   ]
  },
  {
   "cell_type": "code",
   "execution_count": 104,
   "metadata": {
    "scrolled": true
   },
   "outputs": [
    {
     "name": "stdout",
     "output_type": "stream",
     "text": [
      "p is:  0.6818181818181818\n"
     ]
    },
    {
     "data": {
      "text/plain": [
       "0.6818181818181818"
      ]
     },
     "execution_count": 104,
     "metadata": {},
     "output_type": "execute_result"
    }
   ],
   "source": [
    "cal_p(lambda1, mu)"
   ]
  },
  {
   "cell_type": "markdown",
   "metadata": {},
   "source": [
    "#### Departamento B"
   ]
  },
  {
   "cell_type": "code",
   "execution_count": 105,
   "metadata": {},
   "outputs": [
    {
     "name": "stdout",
     "output_type": "stream",
     "text": [
      "p is:  0.606060606060606\n"
     ]
    },
    {
     "data": {
      "text/plain": [
       "0.606060606060606"
      ]
     },
     "execution_count": 105,
     "metadata": {},
     "output_type": "execute_result"
    }
   ],
   "source": [
    "cal_p(lambda2, mu)"
   ]
  },
  {
   "cell_type": "markdown",
   "metadata": {},
   "source": [
    "### ¿Cuál es el tiempo medio de respuesta en cada una de las dos alternativas?"
   ]
  },
  {
   "cell_type": "markdown",
   "metadata": {},
   "source": [
    "#### Departamento A:"
   ]
  },
  {
   "cell_type": "code",
   "execution_count": 106,
   "metadata": {},
   "outputs": [
    {
     "name": "stdout",
     "output_type": "stream",
     "text": [
      "p is:  0.6818181818181818\n"
     ]
    },
    {
     "data": {
      "text/plain": [
       "2.8571428571428563"
      ]
     },
     "execution_count": 106,
     "metadata": {},
     "output_type": "execute_result"
    }
   ],
   "source": [
    "cal_R_MM1(lambda1, mu)"
   ]
  },
  {
   "cell_type": "markdown",
   "metadata": {},
   "source": [
    "#### Departamento B:"
   ]
  },
  {
   "cell_type": "code",
   "execution_count": 107,
   "metadata": {},
   "outputs": [
    {
     "name": "stdout",
     "output_type": "stream",
     "text": [
      "p is:  0.606060606060606\n"
     ]
    },
    {
     "data": {
      "text/plain": [
       "2.307692307692307"
      ]
     },
     "execution_count": 107,
     "metadata": {},
     "output_type": "execute_result"
    }
   ],
   "source": [
    "cal_R_MM1(lambda2, mu)"
   ]
  },
  {
   "cell_type": "markdown",
   "metadata": {},
   "source": [
    "La empresa modifica el sistema, unificando las dos colas en una única, de forma que cuando una de las dos impresoras se queda libre, pasa a imprimir el primer trabajo de la cola, independientemente del departamento que lo envió."
   ]
  },
  {
   "cell_type": "markdown",
   "metadata": {},
   "source": [
    "### ¿A qué modelo se ajustan los sistemas descritos? **M/M/c**"
   ]
  },
  {
   "cell_type": "code",
   "execution_count": 108,
   "metadata": {},
   "outputs": [],
   "source": [
    "c = 2"
   ]
  },
  {
   "cell_type": "code",
   "execution_count": 109,
   "metadata": {},
   "outputs": [
    {
     "data": {
      "text/plain": [
       "1.4166666666666665"
      ]
     },
     "execution_count": 109,
     "metadata": {},
     "output_type": "execute_result"
    }
   ],
   "source": [
    "lambda_ = lambda1 + lambda2\n",
    "lambda_"
   ]
  },
  {
   "cell_type": "markdown",
   "metadata": {},
   "source": [
    "### ¿Cuál es el tiempo medio de respuesta de los trabajos de cada departamento en esta nueva situación?"
   ]
  },
  {
   "cell_type": "markdown",
   "metadata": {},
   "source": [
    "#### Departamento A:"
   ]
  },
  {
   "cell_type": "code",
   "execution_count": 110,
   "metadata": {},
   "outputs": [
    {
     "name": "stdout",
     "output_type": "stream",
     "text": [
      "p is:  0.6439393939393938\n",
      "p is:  0.6439393939393938\n",
      "p0 is:  0.21658986175115216\n",
      "Q is:  0.9123369195435075\n"
     ]
    },
    {
     "data": {
      "text/plain": [
       "1.553093440533385"
      ]
     },
     "execution_count": 110,
     "metadata": {},
     "output_type": "execute_result"
    }
   ],
   "source": [
    "cal_R_MMC(lambda_, mu, c)"
   ]
  },
  {
   "cell_type": "markdown",
   "metadata": {},
   "source": [
    "#### Departamento B:"
   ]
  },
  {
   "cell_type": "code",
   "execution_count": 111,
   "metadata": {},
   "outputs": [
    {
     "name": "stdout",
     "output_type": "stream",
     "text": [
      "p is:  0.6439393939393938\n",
      "p is:  0.6439393939393938\n",
      "p0 is:  0.21658986175115216\n",
      "Q is:  0.9123369195435075\n"
     ]
    },
    {
     "data": {
      "text/plain": [
       "1.553093440533385"
      ]
     },
     "execution_count": 111,
     "metadata": {},
     "output_type": "execute_result"
    }
   ],
   "source": [
    "cal_R_MMC(lambda_, mu, c)"
   ]
  },
  {
   "cell_type": "markdown",
   "metadata": {},
   "source": [
    "La empresa sustituye las dos impresoras por una única impresora el doble de rápido y da más prioridad a los trabajos del departamento A. Una vez iniciada la impresión de un trabajo, no se puede interrumpir."
   ]
  },
  {
   "cell_type": "code",
   "execution_count": 112,
   "metadata": {},
   "outputs": [],
   "source": [
    "mu *= 2"
   ]
  },
  {
   "cell_type": "markdown",
   "metadata": {},
   "source": [
    "### ¿Cuál es el tiempo medio de respuesta de los trabajos de cada departamento, A y B"
   ]
  },
  {
   "cell_type": "code",
   "execution_count": 113,
   "metadata": {},
   "outputs": [],
   "source": [
    "lambdas = np.array([lambda1, lambda2])\n",
    "mus = np.array([mu, mu])"
   ]
  },
  {
   "cell_type": "code",
   "execution_count": 114,
   "metadata": {},
   "outputs": [
    {
     "name": "stdout",
     "output_type": "stream",
     "text": [
      "p is:  [0.34090909 0.3030303 ]\n",
      "U is:  [0.         0.34090909 0.64393939]\n",
      "X^2 is:  [0.41322314 0.41322314]\n",
      "S is:  0.29269972451790627\n",
      "W is:  [0.44409613 1.24724872]\n",
      "R is:  [0.89864159 1.70179417]\n"
     ]
    }
   ],
   "source": [
    "R = cal_R_priority_nonpreemptive_MM1(lambdas, mus)"
   ]
  },
  {
   "cell_type": "markdown",
   "metadata": {},
   "source": [
    "#### Departamento A:"
   ]
  },
  {
   "cell_type": "code",
   "execution_count": 115,
   "metadata": {},
   "outputs": [
    {
     "data": {
      "text/plain": [
       "0.8986415882967606"
      ]
     },
     "execution_count": 115,
     "metadata": {},
     "output_type": "execute_result"
    }
   ],
   "source": [
    "R[0]"
   ]
  },
  {
   "cell_type": "markdown",
   "metadata": {},
   "source": [
    "#### Departamento B:"
   ]
  },
  {
   "cell_type": "code",
   "execution_count": 116,
   "metadata": {},
   "outputs": [
    {
     "data": {
      "text/plain": [
       "1.701794170612952"
      ]
     },
     "execution_count": 116,
     "metadata": {},
     "output_type": "execute_result"
    }
   ],
   "source": [
    "R[1]"
   ]
  },
  {
   "cell_type": "markdown",
   "metadata": {},
   "source": [
    "## Problema 2"
   ]
  },
  {
   "cell_type": "markdown",
   "metadata": {},
   "source": [
    "Una oficina bancaria tiene dos cajeros separados y con un funcionamiento independiente. Cada cajero recibe el 50% de los clientes que requieren este servicio en la oficina bancaria. El banco se está planteando sustituir la organización anterior (que llamaremos alternativa 1) por un sistema con una cola única que sirva a los dos cajeros (el primer cliente de la cola sería atendido por el primer cajero que quede libre), que llamaremos alternativa 2. El banco recibe un promedio de 38 clientes por hora que requieren servicios en el cajero por un promedio de 1.5 minutos para realizar sus gestiones. Tanto las llegadas como el servicio se pueden considerar procesos de Poisson y en todos los casos se puede suponer que las colas tienen capacidad ilimitada."
   ]
  },
  {
   "cell_type": "code",
   "execution_count": 117,
   "metadata": {},
   "outputs": [
    {
     "name": "stdout",
     "output_type": "stream",
     "text": [
      "0.6333333333333333 0.6666666666666666\n"
     ]
    }
   ],
   "source": [
    "lambda2 = 38 / 60\n",
    "mu = 1 / 1.5\n",
    "print(lambda2, mu)"
   ]
  },
  {
   "cell_type": "code",
   "execution_count": 118,
   "metadata": {},
   "outputs": [],
   "source": [
    "lambda1 = lambda2 / 2\n",
    "c = 2"
   ]
  },
  {
   "cell_type": "markdown",
   "metadata": {},
   "source": [
    "### ¿Qué modelos se ajustan a cada una de las dos alternativas?"
   ]
  },
  {
   "cell_type": "markdown",
   "metadata": {},
   "source": [
    "Alternativa 1: **M/M/1**"
   ]
  },
  {
   "cell_type": "markdown",
   "metadata": {},
   "source": [
    "Alternativa 2: **M/M/c**"
   ]
  },
  {
   "cell_type": "markdown",
   "metadata": {},
   "source": [
    "### ¿Cuál es la tasa de uso del sistema en cada una de las dos alternativas?"
   ]
  },
  {
   "cell_type": "markdown",
   "metadata": {},
   "source": [
    "#### Alternativa 1:"
   ]
  },
  {
   "cell_type": "code",
   "execution_count": 119,
   "metadata": {},
   "outputs": [
    {
     "name": "stdout",
     "output_type": "stream",
     "text": [
      "p is:  0.475\n"
     ]
    },
    {
     "data": {
      "text/plain": [
       "0.475"
      ]
     },
     "execution_count": 119,
     "metadata": {},
     "output_type": "execute_result"
    }
   ],
   "source": [
    "cal_p(lambda1, mu)"
   ]
  },
  {
   "cell_type": "markdown",
   "metadata": {},
   "source": [
    "#### Alternativa 2:"
   ]
  },
  {
   "cell_type": "code",
   "execution_count": 120,
   "metadata": {},
   "outputs": [
    {
     "name": "stdout",
     "output_type": "stream",
     "text": [
      "p is:  0.475\n"
     ]
    },
    {
     "data": {
      "text/plain": [
       "0.475"
      ]
     },
     "execution_count": 120,
     "metadata": {},
     "output_type": "execute_result"
    }
   ],
   "source": [
    "cal_p(lambda2, mu, c)"
   ]
  },
  {
   "cell_type": "markdown",
   "metadata": {},
   "source": [
    "### ¿Cuál es el tiempo medio de respuesta en cada una de las dos alternativas?"
   ]
  },
  {
   "cell_type": "markdown",
   "metadata": {},
   "source": [
    "#### Alternativa 1:"
   ]
  },
  {
   "cell_type": "code",
   "execution_count": 121,
   "metadata": {
    "scrolled": true
   },
   "outputs": [
    {
     "name": "stdout",
     "output_type": "stream",
     "text": [
      "p is:  0.475\n"
     ]
    },
    {
     "data": {
      "text/plain": [
       "2.857142857142857"
      ]
     },
     "execution_count": 121,
     "metadata": {},
     "output_type": "execute_result"
    }
   ],
   "source": [
    "cal_R_MM1(lambda1, mu)"
   ]
  },
  {
   "cell_type": "markdown",
   "metadata": {},
   "source": [
    "#### Alternativa 2:"
   ]
  },
  {
   "cell_type": "code",
   "execution_count": 122,
   "metadata": {},
   "outputs": [
    {
     "name": "stdout",
     "output_type": "stream",
     "text": [
      "p is:  0.475\n",
      "p is:  0.475\n",
      "p0 is:  0.35593220338983056\n",
      "Q is:  0.2767958030669896\n"
     ]
    },
    {
     "data": {
      "text/plain": [
       "1.9370460048426152"
      ]
     },
     "execution_count": 122,
     "metadata": {},
     "output_type": "execute_result"
    }
   ],
   "source": [
    "cal_R_MMC(lambda2, mu, c)"
   ]
  },
  {
   "cell_type": "markdown",
   "metadata": {},
   "source": [
    "### ¿Cuál es el tiempo medio de espera en cada una de las dos alternativas?"
   ]
  },
  {
   "cell_type": "markdown",
   "metadata": {},
   "source": [
    "#### Alternativa 1:"
   ]
  },
  {
   "cell_type": "code",
   "execution_count": 123,
   "metadata": {},
   "outputs": [
    {
     "name": "stdout",
     "output_type": "stream",
     "text": [
      "p is:  0.475\n"
     ]
    },
    {
     "data": {
      "text/plain": [
       "1.3571428571428572"
      ]
     },
     "execution_count": 123,
     "metadata": {},
     "output_type": "execute_result"
    }
   ],
   "source": [
    "cal_W_MG1(lambda1, mu)"
   ]
  },
  {
   "cell_type": "markdown",
   "metadata": {},
   "source": [
    "#### Alternativa 2:"
   ]
  },
  {
   "cell_type": "code",
   "execution_count": 124,
   "metadata": {},
   "outputs": [
    {
     "name": "stdout",
     "output_type": "stream",
     "text": [
      "p is:  0.475\n",
      "p is:  0.475\n",
      "p0 is:  0.35593220338983056\n",
      "Q is:  0.2767958030669896\n"
     ]
    },
    {
     "data": {
      "text/plain": [
       "0.43704600484261513"
      ]
     },
     "execution_count": 124,
     "metadata": {},
     "output_type": "execute_result"
    }
   ],
   "source": [
    "cal_W_MMC(lambda2, mu, c)"
   ]
  },
  {
   "cell_type": "markdown",
   "metadata": {},
   "source": [
    "### ¿Cuál es la probabilidad de que un cliente tenga que un esperar en cada una de las dos alternativas?"
   ]
  },
  {
   "cell_type": "markdown",
   "metadata": {},
   "source": [
    "#### Alternativa 1:"
   ]
  },
  {
   "cell_type": "code",
   "execution_count": 125,
   "metadata": {},
   "outputs": [
    {
     "name": "stdout",
     "output_type": "stream",
     "text": [
      "p is:  0.475\n",
      "p is:  0.475\n",
      "p0 is:  0.525\n",
      "The p serie is  [0.525, 0.24937499999999999]\n"
     ]
    },
    {
     "data": {
      "text/plain": [
       "0.475"
      ]
     },
     "execution_count": 125,
     "metadata": {},
     "output_type": "execute_result"
    }
   ],
   "source": [
    "cal_wait_probability_MMC_without_lost(lambda1, mu, 1)"
   ]
  },
  {
   "cell_type": "markdown",
   "metadata": {},
   "source": [
    "#### Alternativa 2:"
   ]
  },
  {
   "cell_type": "code",
   "execution_count": 126,
   "metadata": {},
   "outputs": [
    {
     "name": "stdout",
     "output_type": "stream",
     "text": [
      "p is:  0.475\n",
      "p is:  0.475\n",
      "p0 is:  0.35593220338983056\n",
      "The p serie is  [0.35593220338983056, 0.33813559322033904, 0.16061440677966105]\n"
     ]
    },
    {
     "data": {
      "text/plain": [
       "0.3059322033898304"
      ]
     },
     "execution_count": 126,
     "metadata": {},
     "output_type": "execute_result"
    }
   ],
   "source": [
    "cal_wait_probability_MMC_without_lost(lambda2, mu, c)"
   ]
  },
  {
   "cell_type": "markdown",
   "metadata": {},
   "source": [
    "Los cajeros funcionan 8 horas al día y el banco paga una penalización de 0.1 euros por cada minuto en el que en la cola hay al menos un cliente esperando. "
   ]
  },
  {
   "cell_type": "markdown",
   "metadata": {},
   "source": [
    "### ¿Cuál es el coste diario esperado de esta penalización en la alternativa 2?"
   ]
  },
  {
   "cell_type": "code",
   "execution_count": 127,
   "metadata": {},
   "outputs": [],
   "source": [
    "price = 0.1"
   ]
  },
  {
   "cell_type": "code",
   "execution_count": 128,
   "metadata": {
    "scrolled": true
   },
   "outputs": [
    {
     "name": "stdout",
     "output_type": "stream",
     "text": [
      "p is:  0.475\n",
      "p is:  0.475\n",
      "p0 is:  0.35593220338983056\n",
      "The p serie is  [0.35593220338983056, 0.33813559322033904, 0.16061440677966105]\n"
     ]
    },
    {
     "data": {
      "text/plain": [
       "6.9752542372881265"
      ]
     },
     "execution_count": 128,
     "metadata": {},
     "output_type": "execute_result"
    }
   ],
   "source": [
    "(1 - np.sum(cal_pk_serie_without_lost(lambda2, mu, c, c))) * price * 60 * 8"
   ]
  },
  {
   "cell_type": "markdown",
   "metadata": {},
   "source": [
    "## Problema 3"
   ]
  },
  {
   "cell_type": "markdown",
   "metadata": {},
   "source": [
    "Un sistema con dos procesadores recibe trabajos de dos tipos distintos, A y B, con una tasa de 46 y 56 trabajos a la hora, respectivamente. Cada trabajo, independientemente del tipo, tarda en procesarse una media de 50 segundos y es atendido por un único procesador. La cola de espera es suficientemente grande como para mantener en espera todos los trabajos que se reciban. Tanto las llegadas como el servicio se pueden considerar como un proceso de Poisson."
   ]
  },
  {
   "cell_type": "code",
   "execution_count": 129,
   "metadata": {
    "scrolled": true
   },
   "outputs": [
    {
     "name": "stdout",
     "output_type": "stream",
     "text": [
      "0.7666666666666667 0.9333333333333333 1.2\n"
     ]
    }
   ],
   "source": [
    "lambdaA = 46 / 60\n",
    "lambdaB = 56 / 60\n",
    "mu = 60 / 50\n",
    "print(lambdaA, lambdaB, mu)"
   ]
  },
  {
   "cell_type": "code",
   "execution_count": 130,
   "metadata": {},
   "outputs": [],
   "source": [
    "c = 2\n",
    "lambda_ = lambdaA + lambdaB"
   ]
  },
  {
   "cell_type": "markdown",
   "metadata": {},
   "source": [
    "### ¿A qué modelo se ajusta este sistema? M/M/c"
   ]
  },
  {
   "cell_type": "markdown",
   "metadata": {},
   "source": [
    "### ¿Qué proporción de trabajos tienen que esperar para ser atendidos?"
   ]
  },
  {
   "cell_type": "code",
   "execution_count": 131,
   "metadata": {},
   "outputs": [
    {
     "name": "stdout",
     "output_type": "stream",
     "text": [
      "p is:  0.7083333333333335\n",
      "p is:  0.7083333333333335\n",
      "p0 is:  0.17073170731707307\n",
      "The p serie is  [0.17073170731707307, 0.2418699186991869, 0.17132452574525742]\n"
     ]
    },
    {
     "data": {
      "text/plain": [
       "58.73983739837401"
      ]
     },
     "execution_count": 131,
     "metadata": {},
     "output_type": "execute_result"
    }
   ],
   "source": [
    "cal_wait_probability_MMC_without_lost(lambda_, mu, c) * 100"
   ]
  },
  {
   "cell_type": "markdown",
   "metadata": {},
   "source": [
    "### ¿Cuál es el tiempo medio de espera en el sistema?"
   ]
  },
  {
   "cell_type": "code",
   "execution_count": 132,
   "metadata": {},
   "outputs": [
    {
     "name": "stdout",
     "output_type": "stream",
     "text": [
      "p is:  0.7083333333333335\n",
      "p is:  0.7083333333333335\n",
      "p0 is:  0.17073170731707307\n",
      "Q is:  1.426538908246226\n"
     ]
    },
    {
     "data": {
      "text/plain": [
       "0.8391405342624858"
      ]
     },
     "execution_count": 132,
     "metadata": {},
     "output_type": "execute_result"
    }
   ],
   "source": [
    "cal_W_MMC(lambda_, mu, c)"
   ]
  },
  {
   "cell_type": "markdown",
   "metadata": {},
   "source": [
    "Uno de los procesadores se estropea y para paliar la situación, el gestor del sistema decide duplicar la velocidad de proceso de cada trabajo y dar más prioridad a los trabajos de tipo B (aunque en ningún caso se interrumpe el proceso de un trabajo ya en ejecución)."
   ]
  },
  {
   "cell_type": "code",
   "execution_count": 133,
   "metadata": {},
   "outputs": [],
   "source": [
    "mu *= 2"
   ]
  },
  {
   "cell_type": "markdown",
   "metadata": {},
   "source": [
    "### ¿Cuál es el tiempo medio de espera de cada uno de los trabajos, A y B?"
   ]
  },
  {
   "cell_type": "code",
   "execution_count": 134,
   "metadata": {},
   "outputs": [
    {
     "name": "stdout",
     "output_type": "stream",
     "text": [
      "p is:  [0.38888889 0.31944444]\n",
      "U is:  [0.         0.38888889 0.70833333]\n",
      "X^2 is:  [0.34722222 0.34722222]\n",
      "S is:  0.2951388888888889\n",
      "W is:  [0.48295455 1.65584416]\n"
     ]
    }
   ],
   "source": [
    "W_B, W_A = cal_W_priority_nonpreemptive_MM1(np.array([lambdaB, lambdaA]), np.array([mu]*2))"
   ]
  },
  {
   "cell_type": "markdown",
   "metadata": {},
   "source": [
    "#### Trabajos de tipo A:"
   ]
  },
  {
   "cell_type": "code",
   "execution_count": 135,
   "metadata": {},
   "outputs": [
    {
     "data": {
      "text/plain": [
       "1.655844155844156"
      ]
     },
     "execution_count": 135,
     "metadata": {},
     "output_type": "execute_result"
    }
   ],
   "source": [
    "W_A"
   ]
  },
  {
   "cell_type": "markdown",
   "metadata": {},
   "source": [
    "#### Trabajos de tipo B:"
   ]
  },
  {
   "cell_type": "code",
   "execution_count": 136,
   "metadata": {
    "scrolled": true
   },
   "outputs": [
    {
     "data": {
      "text/plain": [
       "0.4829545454545454"
      ]
     },
     "execution_count": 136,
     "metadata": {},
     "output_type": "execute_result"
    }
   ],
   "source": [
    "W_B"
   ]
  },
  {
   "cell_type": "markdown",
   "metadata": {},
   "source": [
    "### Promedio de ambos tipos de trabajo:"
   ]
  },
  {
   "cell_type": "code",
   "execution_count": 137,
   "metadata": {},
   "outputs": [
    {
     "name": "stdout",
     "output_type": "stream",
     "text": [
      "weights are : [0.54901961 0.45098039]\n",
      "p is:  [0.38888889 0.31944444]\n",
      "U is:  [0.         0.38888889 0.70833333]\n",
      "X^2 is:  [0.34722222 0.34722222]\n",
      "S is:  0.2951388888888889\n",
      "W is:  [0.48295455 1.65584416]\n"
     ]
    },
    {
     "data": {
      "text/plain": [
       "1.0119047619047619"
      ]
     },
     "execution_count": 137,
     "metadata": {},
     "output_type": "execute_result"
    }
   ],
   "source": [
    "cal_total_W_priority_nonpreemptive_MM1(np.array([lambdaB, lambdaA]), np.array([mu]*2))"
   ]
  },
  {
   "cell_type": "markdown",
   "metadata": {},
   "source": [
    "## Problema 4"
   ]
  },
  {
   "cell_type": "markdown",
   "metadata": {},
   "source": [
    "Un agente comercial recibe todas sus llamadas en el movil y, para no perder ninguna llamada, ha considerado adecuado desactivar el buzón de voz. De esta forma, cuando recibe una llamada y está ocupado, la llamada se pierde. Recibe un promedio de 12 llamadas a la hora, con una duración media de 4 minutos. Tanto la recepción de llamadas como el tiempo de llamada se pueden considerar procesos de Poisson."
   ]
  },
  {
   "cell_type": "code",
   "execution_count": 138,
   "metadata": {},
   "outputs": [
    {
     "name": "stdout",
     "output_type": "stream",
     "text": [
      "0.2 0.25\n"
     ]
    }
   ],
   "source": [
    "lambda_ = 12 / 60\n",
    "mu = 1/4\n",
    "print(lambda_, mu)"
   ]
  },
  {
   "cell_type": "code",
   "execution_count": 139,
   "metadata": {},
   "outputs": [],
   "source": [
    "m = 1"
   ]
  },
  {
   "cell_type": "markdown",
   "metadata": {},
   "source": [
    "### Este sistema se ajusta a un modelo M/M/1 con buffer limitado"
   ]
  },
  {
   "cell_type": "markdown",
   "metadata": {},
   "source": [
    "### ¿Que porcentaje de tiempo el agente está ocioso, esperando llamadas?"
   ]
  },
  {
   "cell_type": "code",
   "execution_count": 140,
   "metadata": {
    "scrolled": true
   },
   "outputs": [
    {
     "name": "stdout",
     "output_type": "stream",
     "text": [
      "p is:  0.8\n",
      "p_ 0  is: 0.5555555555555556\n"
     ]
    },
    {
     "data": {
      "text/plain": [
       "55.55555555555556"
      ]
     },
     "execution_count": 140,
     "metadata": {},
     "output_type": "execute_result"
    }
   ],
   "source": [
    "cal_pk_MM1m(lambda_, mu, m, 0) * 100"
   ]
  },
  {
   "cell_type": "markdown",
   "metadata": {},
   "source": [
    "### ¿Que porcentaje de tiempo el agente está ocupado, atendiendo llamadas?"
   ]
  },
  {
   "cell_type": "code",
   "execution_count": 141,
   "metadata": {},
   "outputs": [
    {
     "name": "stdout",
     "output_type": "stream",
     "text": [
      "p is:  0.8\n",
      "p_ 1  is: 0.44444444444444453\n"
     ]
    },
    {
     "data": {
      "text/plain": [
       "44.44444444444445"
      ]
     },
     "execution_count": 141,
     "metadata": {},
     "output_type": "execute_result"
    }
   ],
   "source": [
    "cal_pk_MM1m(lambda_, mu, m, 1) * 100"
   ]
  },
  {
   "cell_type": "markdown",
   "metadata": {},
   "source": [
    "### ¿Qué porcentaje de llamadas se pierden? Respuesta"
   ]
  },
  {
   "cell_type": "code",
   "execution_count": 142,
   "metadata": {},
   "outputs": [
    {
     "name": "stdout",
     "output_type": "stream",
     "text": [
      "p is:  0.8\n",
      "p_ 1  is: 0.44444444444444453\n"
     ]
    },
    {
     "data": {
      "text/plain": [
       "44.44444444444445"
      ]
     },
     "execution_count": 142,
     "metadata": {},
     "output_type": "execute_result"
    }
   ],
   "source": [
    "cal_pk_MM1m(lambda_, mu, m, 1) * 100"
   ]
  },
  {
   "cell_type": "markdown",
   "metadata": {},
   "source": [
    "Su compañía de teléfono le ofrece un servicio de llamada en espera de capacidad ilimitada. El agente ha calculado que cada llamada atendida le reporta un beneficio de 10 euros. "
   ]
  },
  {
   "cell_type": "code",
   "execution_count": 143,
   "metadata": {},
   "outputs": [],
   "source": [
    "profit = 10"
   ]
  },
  {
   "cell_type": "markdown",
   "metadata": {},
   "source": [
    "### ¿Cuál es el precio máximo por hora que tendría que estar dispuesto a pagar por el alquiler del servicio para que le resulte rentable contratarlo?"
   ]
  },
  {
   "cell_type": "code",
   "execution_count": 144,
   "metadata": {},
   "outputs": [
    {
     "name": "stdout",
     "output_type": "stream",
     "text": [
      "p is:  0.8\n",
      "p_ 1  is: 0.44444444444444453\n"
     ]
    },
    {
     "data": {
      "text/plain": [
       "53.33333333333334"
      ]
     },
     "execution_count": 144,
     "metadata": {},
     "output_type": "execute_result"
    }
   ],
   "source": [
    "lambda_ * cal_pk_MM1m(lambda_, mu, m, 1) * 60 * profit"
   ]
  },
  {
   "cell_type": "markdown",
   "metadata": {},
   "source": [
    "El sistema contratado, además, le permite clasificar los clientes y discriminar en función de esta clasificación. El agente ha detectado que el 20% de sus clientes son mejores que el resto y los ha clasificado como super cuquis ya que, a pesar de requerir el mismo tiempo de servicio, le proporcionan un beneficio medio de 30 euros. Por ello, ha decidido darles prioridad y si cuando termina una llamada, hay algún cliente super cuqui en espera, es atendido antes que el resto. "
   ]
  },
  {
   "cell_type": "code",
   "execution_count": 145,
   "metadata": {},
   "outputs": [],
   "source": [
    "p_super_cuquis = 0.2"
   ]
  },
  {
   "cell_type": "markdown",
   "metadata": {},
   "source": [
    "### ¿Cuál es el tiempo medio de respuesta de los clientes super cuquis en cada una de las tres situaciones descritas:"
   ]
  },
  {
   "cell_type": "markdown",
   "metadata": {},
   "source": [
    "#### Situación inicial:"
   ]
  },
  {
   "cell_type": "code",
   "execution_count": 146,
   "metadata": {
    "scrolled": false
   },
   "outputs": [
    {
     "data": {
      "text/plain": [
       "4.0"
      ]
     },
     "execution_count": 146,
     "metadata": {},
     "output_type": "execute_result"
    }
   ],
   "source": [
    "1 / mu"
   ]
  },
  {
   "cell_type": "markdown",
   "metadata": {},
   "source": [
    "#### Situación con servicio de llamada en espera:"
   ]
  },
  {
   "cell_type": "code",
   "execution_count": 147,
   "metadata": {},
   "outputs": [
    {
     "name": "stdout",
     "output_type": "stream",
     "text": [
      "p is:  0.8\n"
     ]
    },
    {
     "data": {
      "text/plain": [
       "20.000000000000004"
      ]
     },
     "execution_count": 147,
     "metadata": {},
     "output_type": "execute_result"
    }
   ],
   "source": [
    "cal_R_MM1(lambda_, mu)"
   ]
  },
  {
   "cell_type": "markdown",
   "metadata": {},
   "source": [
    "#### Situación con discriminación en las llamadas:"
   ]
  },
  {
   "cell_type": "code",
   "execution_count": 148,
   "metadata": {},
   "outputs": [
    {
     "name": "stdout",
     "output_type": "stream",
     "text": [
      "p is:  [0.16 0.64]\n",
      "U is:  [0.   0.16 0.8 ]\n",
      "X^2 is:  [32. 32.]\n",
      "S is:  3.2000000000000006\n",
      "W is:  [ 3.80952381 19.04761905]\n",
      "R is:  [ 7.80952381 23.04761905]\n"
     ]
    },
    {
     "data": {
      "text/plain": [
       "7.80952380952381"
      ]
     },
     "execution_count": 148,
     "metadata": {},
     "output_type": "execute_result"
    }
   ],
   "source": [
    "cal_R_priority_nonpreemptive_MM1(np.array([p_super_cuquis, 1-p_super_cuquis])*lambda_, np.array([mu]*2))[0]"
   ]
  },
  {
   "cell_type": "markdown",
   "metadata": {},
   "source": [
    "## Problema 5"
   ]
  },
  {
   "cell_type": "markdown",
   "metadata": {},
   "source": [
    "Una empresa ha recogido datos de las llamadas telefónicas recibidas en los últimos años en horas punta. El tiempo entre llamadas sigue una distribución exponencial con una frecuencia media de 22 llamadas a la hora. El análisis de las conversaciones revela que la duración media de las llamadas es de 4.9 minutos. La empresa tiene 3 operadores atendiendo el teléfono."
   ]
  },
  {
   "cell_type": "code",
   "execution_count": 149,
   "metadata": {},
   "outputs": [
    {
     "name": "stdout",
     "output_type": "stream",
     "text": [
      "0.36666666666666664 0.2040816326530612 3\n"
     ]
    }
   ],
   "source": [
    "lambda_ = 22 / 60\n",
    "mu = 1 / 4.9\n",
    "c = 3\n",
    "print(lambda_, mu, c)"
   ]
  },
  {
   "cell_type": "markdown",
   "metadata": {},
   "source": [
    "### Este sistema se ajusta a un modelo M/M/c"
   ]
  },
  {
   "cell_type": "markdown",
   "metadata": {},
   "source": [
    "### ¿Cuál es la probabilidad de que ningún operador esté ocupado?"
   ]
  },
  {
   "cell_type": "code",
   "execution_count": 150,
   "metadata": {},
   "outputs": [
    {
     "name": "stdout",
     "output_type": "stream",
     "text": [
      "p is:  0.5988888888888889\n",
      "p0 is:  0.1466167474773593\n"
     ]
    },
    {
     "data": {
      "text/plain": [
       "0.1466167474773593"
      ]
     },
     "execution_count": 150,
     "metadata": {},
     "output_type": "execute_result"
    }
   ],
   "source": [
    "cal_p0_MMC_without_lost(lambda_, mu, c)"
   ]
  },
  {
   "cell_type": "markdown",
   "metadata": {},
   "source": [
    "### ¿Cuál es la probabilidad de que una llamada tenga que esperar por encotnrar a los operadores atendiendo otra llamada? "
   ]
  },
  {
   "cell_type": "code",
   "execution_count": 151,
   "metadata": {
    "scrolled": true
   },
   "outputs": [
    {
     "name": "stdout",
     "output_type": "stream",
     "text": [
      "p is:  0.5988888888888889\n",
      "p is:  0.5988888888888889\n",
      "p0 is:  0.1466167474773593\n",
      "The p serie is  [0.1466167474773593, 0.2634214229676556, 0.23664024496594394, 0.14172121337404867]\n"
     ]
    },
    {
     "data": {
      "text/plain": [
       "0.35332158458904117"
      ]
     },
     "execution_count": 151,
     "metadata": {},
     "output_type": "execute_result"
    }
   ],
   "source": [
    "cal_wait_probability_MMC_without_lost(lambda_, mu, c)"
   ]
  },
  {
   "cell_type": "markdown",
   "metadata": {},
   "source": [
    "### ¿Cuál es el número medio de operadores ocupados?"
   ]
  },
  {
   "cell_type": "code",
   "execution_count": 152,
   "metadata": {},
   "outputs": [
    {
     "name": "stdout",
     "output_type": "stream",
     "text": [
      "p is:  0.5988888888888889\n",
      "The average of working server is:  1.7966666666666669\n"
     ]
    },
    {
     "data": {
      "text/plain": [
       "1.7966666666666669"
      ]
     },
     "execution_count": 152,
     "metadata": {},
     "output_type": "execute_result"
    }
   ],
   "source": [
    "cal_busy_server(lambda_, mu, c)"
   ]
  },
  {
   "cell_type": "markdown",
   "metadata": {},
   "source": [
    "### ¿Cuál es el número medio de llamadas en la cola"
   ]
  },
  {
   "cell_type": "code",
   "execution_count": 153,
   "metadata": {},
   "outputs": [
    {
     "name": "stdout",
     "output_type": "stream",
     "text": [
      "p is:  0.5988888888888889\n",
      "p is:  0.5988888888888889\n",
      "p0 is:  0.1466167474773593\n"
     ]
    },
    {
     "data": {
      "text/plain": [
       "0.5275355515055211"
      ]
     },
     "execution_count": 153,
     "metadata": {},
     "output_type": "execute_result"
    }
   ],
   "source": [
    "cal_Q_MMC(lambda_, mu, c)"
   ]
  },
  {
   "cell_type": "markdown",
   "metadata": {},
   "source": [
    "### ¿Cuál es el tiempo medio de espera?"
   ]
  },
  {
   "cell_type": "code",
   "execution_count": 154,
   "metadata": {},
   "outputs": [
    {
     "name": "stdout",
     "output_type": "stream",
     "text": [
      "p is:  0.5988888888888889\n",
      "p is:  0.5988888888888889\n",
      "p0 is:  0.1466167474773593\n"
     ]
    },
    {
     "data": {
      "text/plain": [
       "1.438733322287785"
      ]
     },
     "execution_count": 154,
     "metadata": {},
     "output_type": "execute_result"
    }
   ],
   "source": [
    "cal_Q_MMC(lambda_, mu, c) / lambda_"
   ]
  },
  {
   "cell_type": "markdown",
   "metadata": {},
   "source": [
    "## Problema 6"
   ]
  },
  {
   "cell_type": "markdown",
   "metadata": {},
   "source": [
    "Poisson con unas tasas de llegadas de 13 y 24 trabajos por hora, respectivamente. El tiempo de servicio es exponencial con una tasa de 30 y 72 trabajos por hora para los trabajos A y B, respectivamente. Se considera un modelo de prioridades expulsivas con mayor prioridad a los trabajos A"
   ]
  },
  {
   "cell_type": "code",
   "execution_count": 155,
   "metadata": {},
   "outputs": [
    {
     "name": "stdout",
     "output_type": "stream",
     "text": [
      "[13 24] [30 72]\n"
     ]
    }
   ],
   "source": [
    "lambdas = np.array([13, 24])\n",
    "mus = np.array([30, 72])\n",
    "print(lambdas, mus)"
   ]
  },
  {
   "cell_type": "markdown",
   "metadata": {},
   "source": [
    "### El modelo sin prioridades sistema se ajusta a un modelo M/M/1"
   ]
  },
  {
   "cell_type": "markdown",
   "metadata": {},
   "source": [
    "### ¿Cuál es el tiempo medio de respuesta de los trabajos de tipo A?"
   ]
  },
  {
   "cell_type": "code",
   "execution_count": 156,
   "metadata": {
    "scrolled": true
   },
   "outputs": [
    {
     "name": "stdout",
     "output_type": "stream",
     "text": [
      "p is:  [0.43333333 0.33333333]\n",
      "U is:  [0.         0.43333333 0.76666667]\n",
      "X^2 is:  [0.00222222 0.0003858 ]\n",
      "left is:  [0.03333333 0.0245098 ]\n",
      "numerator is:  [0.01444444 0.01907407]\n",
      "denominator is:  [0.56666667 0.13222222]\n",
      "right is:  [0.56666667 0.13222222]\n",
      "R is:  [0.05882353 0.16876751]\n"
     ]
    },
    {
     "data": {
      "text/plain": [
       "0.058823529411764705"
      ]
     },
     "execution_count": 156,
     "metadata": {},
     "output_type": "execute_result"
    }
   ],
   "source": [
    "cal_R_MM1_preemptive(lambdas, mus)[0]"
   ]
  },
  {
   "cell_type": "markdown",
   "metadata": {},
   "source": [
    "### ¿Cuál es el tiempo medio de respuesta de las trabajos de tipo B?"
   ]
  },
  {
   "cell_type": "code",
   "execution_count": 157,
   "metadata": {},
   "outputs": [
    {
     "name": "stdout",
     "output_type": "stream",
     "text": [
      "p is:  [0.43333333 0.33333333]\n",
      "U is:  [0.         0.43333333 0.76666667]\n",
      "X^2 is:  [0.00222222 0.0003858 ]\n",
      "left is:  [0.03333333 0.0245098 ]\n",
      "numerator is:  [0.01444444 0.01907407]\n",
      "denominator is:  [0.56666667 0.13222222]\n",
      "right is:  [0.56666667 0.13222222]\n",
      "R is:  [0.05882353 0.16876751]\n"
     ]
    },
    {
     "data": {
      "text/plain": [
       "0.16876750700280108"
      ]
     },
     "execution_count": 157,
     "metadata": {},
     "output_type": "execute_result"
    }
   ],
   "source": [
    "cal_R_MM1_preemptive(lambdas, mus)[1]"
   ]
  },
  {
   "cell_type": "markdown",
   "metadata": {},
   "source": [
    "### ¿Cuál es el tiempo medio de respuesta total?"
   ]
  },
  {
   "cell_type": "code",
   "execution_count": 158,
   "metadata": {
    "scrolled": true
   },
   "outputs": [
    {
     "name": "stdout",
     "output_type": "stream",
     "text": [
      "weights are : [0.35135135 0.64864865]\n",
      "p is:  [0.43333333 0.33333333]\n",
      "U is:  [0.         0.43333333 0.76666667]\n",
      "X^2 is:  [0.00222222 0.0003858 ]\n",
      "left is:  [0.03333333 0.0245098 ]\n",
      "numerator is:  [0.01444444 0.01907407]\n",
      "denominator is:  [0.56666667 0.13222222]\n",
      "right is:  [0.56666667 0.13222222]\n",
      "R is:  [0.05882353 0.16876751]\n"
     ]
    },
    {
     "data": {
      "text/plain": [
       "0.13013854190324775"
      ]
     },
     "execution_count": 158,
     "metadata": {},
     "output_type": "execute_result"
    }
   ],
   "source": [
    "cal_R_total_MM1_preemptive(lambdas, mus)"
   ]
  },
  {
   "cell_type": "markdown",
   "metadata": {},
   "source": [
    "## Problema 7"
   ]
  },
  {
   "cell_type": "markdown",
   "metadata": {},
   "source": [
    "Un taller de reparación de vehículos con un funcionamiento continuo (24 horas al día) recibe un promedio de 4 vehículos a la hora. Los vehículos que requieren reparaciones de motor, carrocería o ambas. Los vehículos que requieren simultáneamente a ambas reparaciones son enviados primero a reparación de motor. \n",
    "\n",
    "* Los vehículos siguen el siguiente flujo en la empresa: Un clasificador (S1) determina el tipo de avería: motor o carrocería o ambos y envía el vehículo al servicio adecuado. Esta tarea se realiza en un promedio de 6 minutos. Como resultado, se determina que el 10% de los trabajos no son realizables y se descartan; el 35% de los trabajos requieren sólo reparación de carrocería, el 45% sólo de motor y el 10% restante de los dos.\n",
    "\n",
    "* El servicio de reparación de motor (S2) invierte un promedio de 20 minutos en la reparación. Una vez finalizado el trabajo, los vehículos que requieren reparación de carrocería son enviados al sistema S3, mientras que el resto son enviados a un sistema de preparación del vehículos (S5) para devolvérselo a su propietario (lavado, facturación, etc.).\n",
    "\n",
    "* El servicio de reparación de carrocería (S3) requiere un promedio de 23 minutos en la reparación. Al final del proceso, los vehículos son enviados al sistema de secado (S4).\n",
    "\n",
    "* El sistema de secado (S4) requiere un promedio de 11 minutos. Como resultado de este proceso, el 9% de los trabajos son reenviados al sistema de reparación de carrocería, mientras que el resto son enviados al sistema de preparación del vehículo para devolvérselo a su propietario.\n",
    "\n",
    "* El sistema de preparación del vehículo para devolvérselo a su propietario (S5) requiere un promedio de 7 minutos.\n",
    "\n",
    "* Se considera que todos los tiempos de proceso de los sistemas se pueden aproximar a una distribución exponencial. El proceso de llegada se puede considerar de Poisson.\n",
    "\n",
    "Denotamos por $I_i$ la tasa de llegada al servidor i"
   ]
  },
  {
   "cell_type": "code",
   "execution_count": 159,
   "metadata": {},
   "outputs": [
    {
     "name": "stdout",
     "output_type": "stream",
     "text": [
      "4 [0.16666667 0.05       0.04347826 0.09090909 0.14285714]\n"
     ]
    }
   ],
   "source": [
    "lambda_ = 4\n",
    "mus = 1 / np.array([6, 20, 23, 11, 7])\n",
    "q12 = 0.45\n",
    "q13 = 0.35\n",
    "q123 = 0.1\n",
    "q43 = 0.09\n",
    "print(lambda_, mus)"
   ]
  },
  {
   "cell_type": "markdown",
   "metadata": {},
   "source": [
    "![Problema7](problema7.jpg)"
   ]
  },
  {
   "cell_type": "code",
   "execution_count": 160,
   "metadata": {},
   "outputs": [],
   "source": [
    "q23 = q123 / (q12 + q123)\n",
    "q25 = q12 / (q12 + q123)\n",
    "q45 = 1 - q43"
   ]
  },
  {
   "cell_type": "code",
   "execution_count": 161,
   "metadata": {},
   "outputs": [
    {
     "name": "stdout",
     "output_type": "stream",
     "text": [
      "I1=lambda\n",
      "I2= 0.55 *I1\n",
      "I3= 0.35 *I1 +  0.18181818181818182 *I2 +  0.09 *I4\n",
      "I4=I3\n",
      "I5= 0.8181818181818181 *I2 +  0.91 *I4\n",
      "[4.         2.2        1.97802198 1.97802198 3.6       ]\n"
     ]
    }
   ],
   "source": [
    "I1 = lambda_\n",
    "print(\"I1=lambda\")\n",
    "I2 = (q12 + q123) * I1\n",
    "print(\"I2=\", q12+q123, \"*I1\")\n",
    "I3 = (q13 * I1 + q23 * I2) / (1 - q43)\n",
    "print(\"I3=\", q13, \"*I1 + \", q23, \"*I2 + \", q43, \"*I4\")\n",
    "I4 = I3\n",
    "print(\"I4=I3\")\n",
    "I5 = q25 * I2 + q45 * I4\n",
    "print(\"I5=\", q25, \"*I2 + \", q45, \"*I4\")\n",
    "I = np.array([I1, I2, I3, I4, I5])\n",
    "print(I)"
   ]
  },
  {
   "cell_type": "code",
   "execution_count": 162,
   "metadata": {},
   "outputs": [
    {
     "name": "stdout",
     "output_type": "stream",
     "text": [
      "R is:  [10.         75.         95.13636364 17.25862069 12.06896552]\n"
     ]
    },
    {
     "data": {
      "text/plain": [
       "117.69200626959243"
      ]
     },
     "execution_count": 162,
     "metadata": {},
     "output_type": "execute_result"
    }
   ],
   "source": [
    "cal_R_total_queueing_network_MM1(I / 60, mus, np.array([lambda_ / 60]))"
   ]
  },
  {
   "cell_type": "markdown",
   "metadata": {},
   "source": [
    "## Problema 8"
   ]
  },
  {
   "cell_type": "markdown",
   "metadata": {},
   "source": [
    "Una empresa de reparación de aparatos electrónicos recibe un promedio de 17 aparatos por hora y tiene el siguiente esquema de funcionamiento:\n",
    "\n",
    "* Los clientes son atendidos en la recepción por una persona para una inspección básica del aparato y, si procede, tomar nota de los datos y recoger el aparato. Esta operación necesita un tiempo medio de 2.1 minutos. Como resultado, se determina que el 20% tienen daños de software, el 60% de los aparatos tienen daños en el hardware y el 20% restante no son reparables, por lo que son rechazados.\n",
    "\n",
    "* Los aparatos con daño de software son revisados por un experto en este tipo de daños que procede a un examen más detallado del aparato (para lo que necesita, en promedio, 10 minutos) y, con una descripción detallada de la reparación necesaria, pasa el aparato al taller de reparación de software.\n",
    "\n",
    "* Los aparatos con daño de hardware son revisados directamente por otro experto en este tipo de daños que procede a un examen más detallado del aparato (para lo que necesita, en promedio, 6 minutos). El 30% de los aparatos son descartados por irreparables, y, previo aviso al cliente, se destruyen; el 40% son sustituidos por un aparato nuevo, se da el aparato por reparado y se envía al departamento de atención al cliente; el 30% restante son enviados al taller de reparación de hardware.\n",
    "\n",
    "* El taller de software repara un promedio de 10 aparatos por hora y el taller de hardware repara un promedio de 6 aparatos por hora.\n",
    "\n",
    "* Una vez finalizada la reparación de un aparato, es enviado al departamento de atención al cliente.\n",
    "\n",
    "* El departamento de atención al cliente procesa el pago de la reparación y el envío del aparato al cliente. Esta operación requiere un tiempo promedio de 4 minutos.\n",
    "\n",
    "Por tanto, se puede considerar que el sistema tiene seis servidores:\n",
    "\n",
    "* S1 : servicio de recepción, que recibe los aparatos con una tasa λ=17 aparatos por hora y necesita un promedio de 2.1 minutos para hacer una revisión básica.\n",
    "\n",
    "* S2 : servicio de revisión de software, que recibe los aparatos que tienen una avería de software desde el servicio de recepción. Necesita un promedio de 10 minutos para revisar detenidamente cada aparato y lo envía directamente al taller de software.\n",
    "\n",
    "* S3 : servicio de revisión de hardware, que recibe los aparatos que tienen una avería de hadware desde el servicio de recepción. Necesita un promedio de 6 minutos para revisar detenidamente cada aparato y, según la avería, lo envía al taller de hadware, lo sustituye por uno nuevo o lo destruye por irreparable.\n",
    "\n",
    "* S4 : taller de software, que recibe los aparatos del servicio de revisión de software ( S2 ), después de repararlo (con una tasa μ4 =10), envía el aparato al servicio de atención al cliente.\n",
    "\n",
    "* S5 : taller de hadware, que recibe los aparatos del servicio de revisión de hadware ( S2 ), después de repararlo (con una tasa μ5 =6), envía el aparato al servicio de atención al cliente.\n",
    "\n",
    "* S6 : servicio de atención al cliente, que recibe aparatos del servicio de revisión del hadware ( S3 ) y de los dos talleres ( S4 y S5 ). Tramita el pago de la reparación en un promedio de 4 minutos por aparato."
   ]
  },
  {
   "cell_type": "code",
   "execution_count": 163,
   "metadata": {},
   "outputs": [
    {
     "name": "stdout",
     "output_type": "stream",
     "text": [
      "17 [0.47619048 0.1        0.16666667 0.16666667 0.1        0.25      ]\n"
     ]
    }
   ],
   "source": [
    "lambda_ = 17\n",
    "mus = 1 / np.array([2.1, 10, 6, 1/(10/60), 1/(6/60), 4])\n",
    "q12 = 0.2\n",
    "q13 = 0.6\n",
    "q35 = 0.3\n",
    "q36 = 0.4\n",
    "print(lambda_, mus)"
   ]
  },
  {
   "cell_type": "markdown",
   "metadata": {},
   "source": [
    "![Problema8](problema8.jpg)"
   ]
  },
  {
   "cell_type": "code",
   "execution_count": 164,
   "metadata": {},
   "outputs": [
    {
     "name": "stdout",
     "output_type": "stream",
     "text": [
      "I1=lambda\n",
      "I2= 0.2 *I1\n",
      "I3= 0.6 *I1\n",
      "I4=I2\n",
      "I5= 0.3 *I3\n",
      "I6= 0.4 *I3 + I4 + I5\n",
      "[17.    3.4  10.2   3.4   3.06 10.54]\n"
     ]
    }
   ],
   "source": [
    "I1 = lambda_\n",
    "print(\"I1=lambda\")\n",
    "I2 = q12 * I1\n",
    "print(\"I2=\", q12, \"*I1\")\n",
    "I3 = q13 * I1\n",
    "print(\"I3=\", q13, \"*I1\")\n",
    "I4 = I2\n",
    "print(\"I4=I2\")\n",
    "I5 = q35 * I3\n",
    "print(\"I5=\", q35, \"*I3\")\n",
    "I6 = q36 * I3 + I4 + I5\n",
    "print(\"I6=\", q36, \"*I3 + I4 + I5\")\n",
    "I = np.array([I1, I2, I3, I4, I5, I6])\n",
    "print(I)"
   ]
  },
  {
   "cell_type": "code",
   "execution_count": 165,
   "metadata": {},
   "outputs": [
    {
     "name": "stdout",
     "output_type": "stream",
     "text": [
      "R is:  [   5.18518519   23.07692308 -300.            9.09090909   20.40816327\n",
      "   13.4529148 ]\n"
     ]
    },
    {
     "data": {
      "text/plain": [
       "-156.36697181860575"
      ]
     },
     "execution_count": 165,
     "metadata": {},
     "output_type": "execute_result"
    }
   ],
   "source": [
    "cal_R_total_queueing_network_MM1(I / 60, mus, np.array([lambda_]) / 60)"
   ]
  }
 ],
 "metadata": {
  "kernelspec": {
   "display_name": "Python 3",
   "language": "python",
   "name": "python3"
  },
  "language_info": {
   "codemirror_mode": {
    "name": "ipython",
    "version": 3
   },
   "file_extension": ".py",
   "mimetype": "text/x-python",
   "name": "python",
   "nbconvert_exporter": "python",
   "pygments_lexer": "ipython3",
   "version": "3.6.7"
  }
 },
 "nbformat": 4,
 "nbformat_minor": 2
}
