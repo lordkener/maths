{
 "cells": [
  {
   "cell_type": "code",
   "execution_count": 1,
   "metadata": {},
   "outputs": [],
   "source": [
    "from math import *\n",
    "import numpy as np"
   ]
  },
  {
   "cell_type": "markdown",
   "metadata": {},
   "source": [
    "# Autoevaluación"
   ]
  },
  {
   "cell_type": "markdown",
   "metadata": {},
   "source": [
    "## Problema 1"
   ]
  },
  {
   "cell_type": "markdown",
   "metadata": {},
   "source": [
    "Un sistema de comunicaciones recibe mensajes con una tasa de 8 trabajos por segundo. Se sabe que tanto la llegada como el servicio son procesos de Poisson y que el sistema tiene un factor de utilización del 80%"
   ]
  },
  {
   "cell_type": "markdown",
   "metadata": {},
   "source": [
    "M/M/1 $\\in$ M/G/1"
   ]
  },
  {
   "cell_type": "code",
   "execution_count": 2,
   "metadata": {},
   "outputs": [],
   "source": [
    "lambda_ = 8"
   ]
  },
  {
   "cell_type": "code",
   "execution_count": 3,
   "metadata": {},
   "outputs": [],
   "source": [
    "p = 0.8"
   ]
  },
  {
   "cell_type": "code",
   "execution_count": 4,
   "metadata": {},
   "outputs": [],
   "source": [
    "X = p / lambda_"
   ]
  },
  {
   "cell_type": "code",
   "execution_count": 5,
   "metadata": {},
   "outputs": [],
   "source": [
    "mu = 1 / X"
   ]
  },
  {
   "cell_type": "code",
   "execution_count": 6,
   "metadata": {},
   "outputs": [],
   "source": [
    "X_square = 2 / mu**2"
   ]
  },
  {
   "cell_type": "markdown",
   "metadata": {},
   "source": [
    "Fórmula de Pollaxe-Khintchine"
   ]
  },
  {
   "cell_type": "markdown",
   "metadata": {},
   "source": [
    "¿Cuál es el tiempo medio de espera?"
   ]
  },
  {
   "cell_type": "code",
   "execution_count": 7,
   "metadata": {},
   "outputs": [
    {
     "data": {
      "text/plain": [
       "0.4000000000000001"
      ]
     },
     "execution_count": 7,
     "metadata": {},
     "output_type": "execute_result"
    }
   ],
   "source": [
    "W = (lambda_ * X_square) / (2 * (1 - p))\n",
    "W"
   ]
  },
  {
   "cell_type": "markdown",
   "metadata": {},
   "source": [
    "¿Cuál es el tiempo medio de respuesta? Respuesta"
   ]
  },
  {
   "cell_type": "code",
   "execution_count": 8,
   "metadata": {},
   "outputs": [
    {
     "data": {
      "text/plain": [
       "0.5000000000000001"
      ]
     },
     "execution_count": 8,
     "metadata": {},
     "output_type": "execute_result"
    }
   ],
   "source": [
    "R = W + X\n",
    "R"
   ]
  },
  {
   "cell_type": "markdown",
   "metadata": {},
   "source": [
    "¿Cuál es el número medio de mensajes en cola?"
   ]
  },
  {
   "cell_type": "code",
   "execution_count": 9,
   "metadata": {},
   "outputs": [
    {
     "data": {
      "text/plain": [
       "3.2000000000000006"
      ]
     },
     "execution_count": 9,
     "metadata": {},
     "output_type": "execute_result"
    }
   ],
   "source": [
    "Q = lambda_ * W\n",
    "Q"
   ]
  },
  {
   "cell_type": "markdown",
   "metadata": {},
   "source": [
    "¿Cuál es el número medio de mensajes en el sistema? Respuesta"
   ]
  },
  {
   "cell_type": "code",
   "execution_count": 10,
   "metadata": {},
   "outputs": [
    {
     "data": {
      "text/plain": [
       "4.000000000000001"
      ]
     },
     "execution_count": 10,
     "metadata": {},
     "output_type": "execute_result"
    }
   ],
   "source": [
    "J = lambda_ * R\n",
    "J"
   ]
  },
  {
   "cell_type": "markdown",
   "metadata": {},
   "source": [
    "## Problema 2"
   ]
  },
  {
   "cell_type": "markdown",
   "metadata": {},
   "source": [
    "Un centro de atención al cliente recibe llamadas de dos tipos: contratación de servicios y petición de información. Las llamadas se producen según procesos de Poisson con tasas de 2 y 11 llamadas por hora según sea de contratación o de petición de información, respectivamente. Las llamadas de contratación requieren una media de 11.4 minutos, mientras que las de petición de información se atienden en una media de 1.9 minutos. Actualmente no hay discriminaciónn en el servicio, pero se ha detectado que algunos clientes que llaman para contratar un servicio abandonan la llamada antes de ser atendidos. Por ello, se ha decidido que se va a implantar un sistema que dé prioridad a estas llamadas. Analizar el modelo que quedaría después de implantar el sistema de prioridades no expulsivas."
   ]
  },
  {
   "cell_type": "code",
   "execution_count": 11,
   "metadata": {},
   "outputs": [],
   "source": [
    "lambda1 = 2"
   ]
  },
  {
   "cell_type": "code",
   "execution_count": 12,
   "metadata": {},
   "outputs": [],
   "source": [
    "lambda2 = 11"
   ]
  },
  {
   "cell_type": "code",
   "execution_count": 13,
   "metadata": {},
   "outputs": [],
   "source": [
    "X1 = 11.4 / 60"
   ]
  },
  {
   "cell_type": "code",
   "execution_count": 14,
   "metadata": {},
   "outputs": [],
   "source": [
    "X2 = 1.9 / 60"
   ]
  },
  {
   "cell_type": "code",
   "execution_count": 15,
   "metadata": {},
   "outputs": [],
   "source": [
    "mu1 = 1 / X1"
   ]
  },
  {
   "cell_type": "code",
   "execution_count": 16,
   "metadata": {},
   "outputs": [],
   "source": [
    "mu2 = 1 / X2"
   ]
  },
  {
   "cell_type": "code",
   "execution_count": 17,
   "metadata": {},
   "outputs": [
    {
     "data": {
      "text/plain": [
       "0.38"
      ]
     },
     "execution_count": 17,
     "metadata": {},
     "output_type": "execute_result"
    }
   ],
   "source": [
    "p1 = lambda1 * X1\n",
    "p1"
   ]
  },
  {
   "cell_type": "code",
   "execution_count": 18,
   "metadata": {},
   "outputs": [
    {
     "data": {
      "text/plain": [
       "0.3483333333333333"
      ]
     },
     "execution_count": 18,
     "metadata": {},
     "output_type": "execute_result"
    }
   ],
   "source": [
    "p2 = lambda2 * X2\n",
    "p2"
   ]
  },
  {
   "cell_type": "markdown",
   "metadata": {},
   "source": [
    "El sistema actual (sin prioridades) se ajusta a un modelo M/M/1"
   ]
  },
  {
   "cell_type": "code",
   "execution_count": 19,
   "metadata": {},
   "outputs": [],
   "source": [
    "U1 = p1"
   ]
  },
  {
   "cell_type": "code",
   "execution_count": 20,
   "metadata": {},
   "outputs": [],
   "source": [
    "U2 = U1 + p2"
   ]
  },
  {
   "cell_type": "markdown",
   "metadata": {},
   "source": [
    "¿Cuál es el tiempo medio de espera de las llamadas de contratación de servicios?"
   ]
  },
  {
   "cell_type": "markdown",
   "metadata": {},
   "source": [
    "Sistema no expulsivos con distintas clases de prioridad"
   ]
  },
  {
   "cell_type": "code",
   "execution_count": 21,
   "metadata": {},
   "outputs": [
    {
     "data": {
      "text/plain": [
       "0.07219999999999999"
      ]
     },
     "execution_count": 21,
     "metadata": {},
     "output_type": "execute_result"
    }
   ],
   "source": [
    "X_square1 = 2 / mu1**2\n",
    "X_square1"
   ]
  },
  {
   "cell_type": "code",
   "execution_count": 22,
   "metadata": {},
   "outputs": [
    {
     "data": {
      "text/plain": [
       "0.0020055555555555547"
      ]
     },
     "execution_count": 22,
     "metadata": {},
     "output_type": "execute_result"
    }
   ],
   "source": [
    "X_square2 = 2 / mu2**2\n",
    "X_square2"
   ]
  },
  {
   "cell_type": "code",
   "execution_count": 23,
   "metadata": {},
   "outputs": [
    {
     "data": {
      "text/plain": [
       "0.08323055555555553"
      ]
     },
     "execution_count": 23,
     "metadata": {},
     "output_type": "execute_result"
    }
   ],
   "source": [
    "S = (lambda1 * X_square1 + lambda2 * X_square2) / 2\n",
    "S"
   ]
  },
  {
   "cell_type": "markdown",
   "metadata": {},
   "source": [
    "¿Cuál es el tiempo medio de espera de las llamadas de contratación de servicios? Respuesta"
   ]
  },
  {
   "cell_type": "code",
   "execution_count": 24,
   "metadata": {},
   "outputs": [
    {
     "data": {
      "text/plain": [
       "8.054569892473117"
      ]
     },
     "execution_count": 24,
     "metadata": {},
     "output_type": "execute_result"
    }
   ],
   "source": [
    "W1 = S / (1 - U1)\n",
    "W1 * 60"
   ]
  },
  {
   "cell_type": "markdown",
   "metadata": {},
   "source": [
    "¿Cuál es el tiempo medio de espera de las llamadas de solicitud de información? Respuesta"
   ]
  },
  {
   "cell_type": "code",
   "execution_count": 25,
   "metadata": {},
   "outputs": [
    {
     "data": {
      "text/plain": [
       "29.64872353057588"
      ]
     },
     "execution_count": 25,
     "metadata": {},
     "output_type": "execute_result"
    }
   ],
   "source": [
    "W2 = S / ((1 - U1) * (1 - U2))\n",
    "W2 * 60"
   ]
  },
  {
   "cell_type": "markdown",
   "metadata": {},
   "source": [
    "¿Cuál es el número medio de llamadas en cola? Respuesta"
   ]
  },
  {
   "cell_type": "code",
   "execution_count": 26,
   "metadata": {},
   "outputs": [
    {
     "data": {
      "text/plain": [
       "5.704084977021348"
      ]
     },
     "execution_count": 26,
     "metadata": {},
     "output_type": "execute_result"
    }
   ],
   "source": [
    "Q = lambda1 * W1 + lambda2 * W2\n",
    "Q"
   ]
  },
  {
   "cell_type": "markdown",
   "metadata": {},
   "source": [
    "¿Cuál es el tiempo medio de respuesta (tiempo que transcurre desde que se inicia hasta que finaliza la llamada)? Respuesta"
   ]
  },
  {
   "cell_type": "code",
   "execution_count": 27,
   "metadata": {},
   "outputs": [],
   "source": [
    "lambda_ = lambda1 + lambda2"
   ]
  },
  {
   "cell_type": "code",
   "execution_count": 28,
   "metadata": {},
   "outputs": [
    {
     "data": {
      "text/plain": [
       "29.688084509329297"
      ]
     },
     "execution_count": 28,
     "metadata": {},
     "output_type": "execute_result"
    }
   ],
   "source": [
    "R = ((lambda1 * (W1 + X1)) + (lambda2 * (W2 + X2))) / lambda_\n",
    "R * 60"
   ]
  },
  {
   "cell_type": "markdown",
   "metadata": {},
   "source": [
    "## Problema 3"
   ]
  },
  {
   "cell_type": "markdown",
   "metadata": {},
   "source": [
    "Una centralita de venta de entradas por teléfono está preparada atender 2 llamadas simultáneamente sin capacidad para mantener llamadas en espera, de forma que si se recibe una llamada y los 2 operadores están ocupados, la llamada se pierde. Las llamadas se producen según un proceso de Poisson con una tasa de 85 llamadas a la hora, con una duración media de 59 segundos (el proceso de servicio también se ajusta a un proceso de Poisson)"
   ]
  },
  {
   "cell_type": "code",
   "execution_count": 29,
   "metadata": {},
   "outputs": [],
   "source": [
    "c = 2"
   ]
  },
  {
   "cell_type": "code",
   "execution_count": 30,
   "metadata": {},
   "outputs": [],
   "source": [
    "lambda_ = 85 / 60"
   ]
  },
  {
   "cell_type": "code",
   "execution_count": 31,
   "metadata": {},
   "outputs": [],
   "source": [
    "X = 59 / 60"
   ]
  },
  {
   "cell_type": "code",
   "execution_count": 32,
   "metadata": {},
   "outputs": [],
   "source": [
    "p = lambda_ * X"
   ]
  },
  {
   "cell_type": "markdown",
   "metadata": {},
   "source": [
    "Este sistema se ajusta a un modelo M/M/m con perdida"
   ]
  },
  {
   "cell_type": "markdown",
   "metadata": {},
   "source": [
    "¿Qué porcentaje de tiempo la centralita llena?"
   ]
  },
  {
   "cell_type": "code",
   "execution_count": 33,
   "metadata": {},
   "outputs": [
    {
     "data": {
      "text/plain": [
       "28.849205177095538"
      ]
     },
     "execution_count": 33,
     "metadata": {},
     "output_type": "execute_result"
    }
   ],
   "source": [
    "p_c = p**c / factorial(c) * (1/(sum([p**j/factorial(j) for j in range(0, c+1)])))\n",
    "p_c * 100"
   ]
  },
  {
   "cell_type": "markdown",
   "metadata": {},
   "source": [
    "¿Qué porcentaje de llamadas se pierden?"
   ]
  },
  {
   "cell_type": "code",
   "execution_count": 34,
   "metadata": {},
   "outputs": [
    {
     "data": {
      "text/plain": [
       "28.849205177095538"
      ]
     },
     "execution_count": 34,
     "metadata": {},
     "output_type": "execute_result"
    }
   ],
   "source": [
    "p_c * 100"
   ]
  },
  {
   "cell_type": "markdown",
   "metadata": {},
   "source": [
    "La empresa se queda sólo con el operador más eficiente, que en promedio atiende las llamadas en sólo 37 segundos, y contrata un sistema de servicio en espera con capacidad para 3 llamadas, de forma que cuando se recibe una llamada, si el operador está ocupado y ya hay 3 llamadas en espera, la centralita emite la señal de línea ocupada, la llamada se pierde y el cliente se va a la competencia"
   ]
  },
  {
   "cell_type": "markdown",
   "metadata": {},
   "source": [
    "Este sistema se ajusta a un modelo M/M/1 con buffer limitado"
   ]
  },
  {
   "cell_type": "markdown",
   "metadata": {},
   "source": [
    "¿Qué porcentaje de llamadas se pierden?"
   ]
  },
  {
   "cell_type": "code",
   "execution_count": 35,
   "metadata": {},
   "outputs": [],
   "source": [
    "X = 37 / 60"
   ]
  },
  {
   "cell_type": "code",
   "execution_count": 36,
   "metadata": {},
   "outputs": [
    {
     "data": {
      "text/plain": [
       "0.8736111111111112"
      ]
     },
     "execution_count": 36,
     "metadata": {},
     "output_type": "execute_result"
    }
   ],
   "source": [
    "p = lambda_ * X\n",
    "p"
   ]
  },
  {
   "cell_type": "code",
   "execution_count": 37,
   "metadata": {},
   "outputs": [],
   "source": [
    "m = 3 + 1"
   ]
  },
  {
   "cell_type": "code",
   "execution_count": 38,
   "metadata": {},
   "outputs": [
    {
     "data": {
      "text/plain": [
       "14.988851075237305"
      ]
     },
     "execution_count": 38,
     "metadata": {},
     "output_type": "execute_result"
    }
   ],
   "source": [
    "p_m = p**m * (1 - p) / (1 - p**(m + 1))\n",
    "p_m * 100"
   ]
  },
  {
   "cell_type": "markdown",
   "metadata": {},
   "source": [
    "En esta nueva situación, ¿cuál es el la tasa efectiva de llegada?"
   ]
  },
  {
   "cell_type": "code",
   "execution_count": 39,
   "metadata": {},
   "outputs": [
    {
     "data": {
      "text/plain": [
       "1.2043246097674716"
      ]
     },
     "execution_count": 39,
     "metadata": {},
     "output_type": "execute_result"
    }
   ],
   "source": [
    "lambda_ * (1 - p_m)"
   ]
  },
  {
   "cell_type": "markdown",
   "metadata": {},
   "source": [
    "¿Cuál es el nivel medio de ocupación del buffer?"
   ]
  },
  {
   "cell_type": "code",
   "execution_count": 40,
   "metadata": {},
   "outputs": [
    {
     "data": {
      "text/plain": [
       "1.731875095426231"
      ]
     },
     "execution_count": 40,
     "metadata": {},
     "output_type": "execute_result"
    }
   ],
   "source": [
    "J = (p / (1 - p)) - (m + 1) * (p**(m+1) / (1 - p**(m+1)))\n",
    "J"
   ]
  },
  {
   "cell_type": "code",
   "execution_count": 41,
   "metadata": {},
   "outputs": [
    {
     "data": {
      "text/plain": [
       "0.43296877385655774"
      ]
     },
     "execution_count": 41,
     "metadata": {},
     "output_type": "execute_result"
    }
   ],
   "source": [
    "J / m"
   ]
  },
  {
   "cell_type": "markdown",
   "metadata": {},
   "source": [
    "## Problema 4"
   ]
  },
  {
   "cell_type": "markdown",
   "metadata": {},
   "source": [
    "Una ventanilla de un banco realiza operaciones en un tiempo medio de 2.3 minutos y los clientes llegan con una tasa media de 16 clientes a la hora. Si se supone que las llegadas siguen un proceso de Poisson y el tiempo de servicio es exponencial."
   ]
  },
  {
   "cell_type": "markdown",
   "metadata": {},
   "source": [
    "Este sistema se ajusta a un modelo Respuesta M/M/1"
   ]
  },
  {
   "cell_type": "code",
   "execution_count": 42,
   "metadata": {},
   "outputs": [],
   "source": [
    "X = 2.3"
   ]
  },
  {
   "cell_type": "code",
   "execution_count": 43,
   "metadata": {},
   "outputs": [
    {
     "data": {
      "text/plain": [
       "0.26666666666666666"
      ]
     },
     "execution_count": 43,
     "metadata": {},
     "output_type": "execute_result"
    }
   ],
   "source": [
    "lambda_ = 16 / 60\n",
    "lambda_"
   ]
  },
  {
   "cell_type": "markdown",
   "metadata": {},
   "source": [
    "¿Qué porcentaje de tiempo el cajero está ocioso? Respuesta"
   ]
  },
  {
   "cell_type": "code",
   "execution_count": 44,
   "metadata": {},
   "outputs": [],
   "source": [
    "p = lambda_* X"
   ]
  },
  {
   "cell_type": "code",
   "execution_count": 45,
   "metadata": {},
   "outputs": [
    {
     "data": {
      "text/plain": [
       "38.66666666666667"
      ]
     },
     "execution_count": 45,
     "metadata": {},
     "output_type": "execute_result"
    }
   ],
   "source": [
    "p0 = (1 - p)\n",
    "p0 * 100"
   ]
  },
  {
   "cell_type": "markdown",
   "metadata": {},
   "source": [
    "¿Qué porcentaje de clientes deben esperar en cola?"
   ]
  },
  {
   "cell_type": "code",
   "execution_count": 46,
   "metadata": {},
   "outputs": [
    {
     "data": {
      "text/plain": [
       "61.33333333333333"
      ]
     },
     "execution_count": 46,
     "metadata": {},
     "output_type": "execute_result"
    }
   ],
   "source": [
    "(1 - p0) * 100"
   ]
  },
  {
   "cell_type": "markdown",
   "metadata": {},
   "source": [
    "¿Cuál es el tiempo medio de estancia de los clientes en el banco"
   ]
  },
  {
   "cell_type": "code",
   "execution_count": 47,
   "metadata": {},
   "outputs": [
    {
     "data": {
      "text/plain": [
       "1.5862068965517238"
      ]
     },
     "execution_count": 47,
     "metadata": {},
     "output_type": "execute_result"
    }
   ],
   "source": [
    "J = p / (1 - p)\n",
    "J"
   ]
  },
  {
   "cell_type": "markdown",
   "metadata": {},
   "source": [
    "¿Cuál es el tiempo medio de estancia de los clientes en el banco?"
   ]
  },
  {
   "cell_type": "code",
   "execution_count": 48,
   "metadata": {},
   "outputs": [
    {
     "data": {
      "text/plain": [
       "5.948275862068964"
      ]
     },
     "execution_count": 48,
     "metadata": {},
     "output_type": "execute_result"
    }
   ],
   "source": [
    "R = J / lambda_\n",
    "R"
   ]
  },
  {
   "cell_type": "code",
   "execution_count": 49,
   "metadata": {},
   "outputs": [
    {
     "data": {
      "text/plain": [
       "3.6482758620689646"
      ]
     },
     "execution_count": 49,
     "metadata": {},
     "output_type": "execute_result"
    }
   ],
   "source": [
    "W = R - X\n",
    "W"
   ]
  },
  {
   "cell_type": "markdown",
   "metadata": {},
   "source": [
    "## Problema 5"
   ]
  },
  {
   "cell_type": "markdown",
   "metadata": {},
   "source": [
    "Una estación de ITV ha sufrido una avería y sólo dispone un equipo de inspección con espacio para 6 coches más en espera. El proceso de llegadas se puede considerar como un proceso de Poisson con una tasa media de un coche cada 17.2 minutos. El tiempo de servicio se puede aproximar mediante una variable aleatoria con distribución exponencial de media 15.2 minutos. Si un coche llega a la estación y esta está saturada, se marcha sin esperar a que quede una plaza libre."
   ]
  },
  {
   "cell_type": "markdown",
   "metadata": {},
   "source": [
    "Este sistema se ajusta a un modelo M/M/1 con buffer limitado"
   ]
  },
  {
   "cell_type": "code",
   "execution_count": 50,
   "metadata": {},
   "outputs": [],
   "source": [
    "m = 6 + 1"
   ]
  },
  {
   "cell_type": "code",
   "execution_count": 51,
   "metadata": {},
   "outputs": [],
   "source": [
    "lambda_ = 1 / 17.2"
   ]
  },
  {
   "cell_type": "code",
   "execution_count": 52,
   "metadata": {},
   "outputs": [],
   "source": [
    "X = 15.2"
   ]
  },
  {
   "cell_type": "markdown",
   "metadata": {},
   "source": [
    "¿Cuál es la probabilidad de que un coche llegue y se encuentre todos los puestos ocupados?"
   ]
  },
  {
   "cell_type": "code",
   "execution_count": 53,
   "metadata": {},
   "outputs": [],
   "source": [
    "p = lambda_ * X"
   ]
  },
  {
   "cell_type": "code",
   "execution_count": 54,
   "metadata": {},
   "outputs": [
    {
     "data": {
      "text/plain": [
       "0.07793543657502291"
      ]
     },
     "execution_count": 54,
     "metadata": {},
     "output_type": "execute_result"
    }
   ],
   "source": [
    "p_m = p**m * (1 - p) / (1 - p**(m + 1))\n",
    "p_m"
   ]
  },
  {
   "cell_type": "markdown",
   "metadata": {},
   "source": [
    "¿Cuál es la tasa efectiva de llegada?"
   ]
  },
  {
   "cell_type": "code",
   "execution_count": 55,
   "metadata": {},
   "outputs": [
    {
     "data": {
      "text/plain": [
       "3.216504291017362"
      ]
     },
     "execution_count": 55,
     "metadata": {},
     "output_type": "execute_result"
    }
   ],
   "source": [
    "tasa_efectiva = lambda_ * (1 - p_m) * 60\n",
    "tasa_efectiva"
   ]
  },
  {
   "cell_type": "markdown",
   "metadata": {},
   "source": [
    "¿Cuál es el número medio de coches en el sistema?"
   ]
  },
  {
   "cell_type": "code",
   "execution_count": 56,
   "metadata": {
    "scrolled": true
   },
   "outputs": [
    {
     "data": {
      "text/plain": [
       "2.8615254562386037"
      ]
     },
     "execution_count": 56,
     "metadata": {},
     "output_type": "execute_result"
    }
   ],
   "source": [
    "J = (p / (1 - p)) - (m + 1)*(p**(m+1)/(1-p**(m+1)))\n",
    "J"
   ]
  },
  {
   "cell_type": "markdown",
   "metadata": {},
   "source": [
    "La empresa ha calculado el beneficio por vehículo en 22 euros. Tiene la posibilidad de ampliar la capacidad de la zona de espera en un vehículo más, con lo que la proporción de tiempo en que la estación está saturada disminuye y puede atender a más vehículos Suponiendo que está abierta 8 horas al día, durante 22 días al mes y que el proceso de llegadas es el mismo durante todo el horario de apertura, ¿cuánto sería el incremento mensual en el beneficio esperado por poder atender a los nuevos coches?"
   ]
  },
  {
   "cell_type": "code",
   "execution_count": 57,
   "metadata": {},
   "outputs": [],
   "source": [
    "m = 6 + 2"
   ]
  },
  {
   "cell_type": "code",
   "execution_count": 58,
   "metadata": {},
   "outputs": [],
   "source": [
    "precio = 22"
   ]
  },
  {
   "cell_type": "code",
   "execution_count": 59,
   "metadata": {},
   "outputs": [],
   "source": [
    "hours = 8"
   ]
  },
  {
   "cell_type": "code",
   "execution_count": 60,
   "metadata": {},
   "outputs": [],
   "source": [
    "days = 22"
   ]
  },
  {
   "cell_type": "code",
   "execution_count": 61,
   "metadata": {
    "scrolled": true
   },
   "outputs": [
    {
     "data": {
      "text/plain": [
       "0.06443531189842146"
      ]
     },
     "execution_count": 61,
     "metadata": {},
     "output_type": "execute_result"
    }
   ],
   "source": [
    "p_m = p**m * (1 - p) / (1 - p**(m + 1))\n",
    "p_m"
   ]
  },
  {
   "cell_type": "code",
   "execution_count": 62,
   "metadata": {},
   "outputs": [
    {
     "data": {
      "text/plain": [
       "182.34587005046873"
      ]
     },
     "execution_count": 62,
     "metadata": {},
     "output_type": "execute_result"
    }
   ],
   "source": [
    "(lambda_ * (1 - p_m) * 60 - tasa_efectiva) * hours * days * precio"
   ]
  },
  {
   "cell_type": "markdown",
   "metadata": {},
   "source": [
    "## Problema 6"
   ]
  },
  {
   "cell_type": "markdown",
   "metadata": {},
   "source": [
    "Un call center ha recogido datos de las llamadas telefónicas recibidas en el último periodo durante la hora punta. El número de llamadas recibidas se puede aproximar mediante una variable aleatoria con distribución Poisson de media 51 llamadas a la hora. El análisis de las conversaciones revela que la duración media de las llamadas es de 2.5 minutos. Actualmente tiene 3 personas atendiendo el teléfono. Si cuando una persona llama, todos los operarios están ocupados, la llamada se pierde."
   ]
  },
  {
   "cell_type": "markdown",
   "metadata": {},
   "source": [
    "Este sistema se ajusta a un modelo M/M/m con pérdidas"
   ]
  },
  {
   "cell_type": "code",
   "execution_count": 63,
   "metadata": {},
   "outputs": [],
   "source": [
    "lambda_ = 51 / 60"
   ]
  },
  {
   "cell_type": "code",
   "execution_count": 64,
   "metadata": {},
   "outputs": [],
   "source": [
    "X = 2.5"
   ]
  },
  {
   "cell_type": "code",
   "execution_count": 65,
   "metadata": {},
   "outputs": [],
   "source": [
    "c = 3"
   ]
  },
  {
   "cell_type": "code",
   "execution_count": 66,
   "metadata": {},
   "outputs": [],
   "source": [
    "p = lambda_ * X"
   ]
  },
  {
   "cell_type": "markdown",
   "metadata": {},
   "source": [
    "¿Cuál es la probabilidad de que la llamada se pierda? "
   ]
  },
  {
   "cell_type": "code",
   "execution_count": 67,
   "metadata": {},
   "outputs": [
    {
     "data": {
      "text/plain": [
       "0.229054967597557"
      ]
     },
     "execution_count": 67,
     "metadata": {},
     "output_type": "execute_result"
    }
   ],
   "source": [
    "p_c = p**c/factorial(c)/(sum([p**j/factorial(j) for j in range(0, c+1)]))\n",
    "p_c"
   ]
  },
  {
   "cell_type": "markdown",
   "metadata": {},
   "source": [
    "¿Qué porcentaje de tiempo están todos los operarios ocupados?"
   ]
  },
  {
   "cell_type": "code",
   "execution_count": 68,
   "metadata": {},
   "outputs": [
    {
     "data": {
      "text/plain": [
       "22.9054967597557"
      ]
     },
     "execution_count": 68,
     "metadata": {},
     "output_type": "execute_result"
    }
   ],
   "source": [
    "p_c * 100"
   ]
  },
  {
   "cell_type": "markdown",
   "metadata": {},
   "source": [
    "¿Qué porcentaje de tiempo están todos los operarios libres?"
   ]
  },
  {
   "cell_type": "code",
   "execution_count": 69,
   "metadata": {},
   "outputs": [
    {
     "data": {
      "text/plain": [
       "14.322346030117952"
      ]
     },
     "execution_count": 69,
     "metadata": {},
     "output_type": "execute_result"
    }
   ],
   "source": [
    "p_empty = 1/sum([p**j/factorial(j) for j in range(0,c+1)])\n",
    "p_empty * 100"
   ]
  },
  {
   "cell_type": "markdown",
   "metadata": {},
   "source": [
    "La empresa quiere aumentar el nivel de servicio, reduciendo la probabilidad de que una llamada se encuentre a todos los operarios ocupados. ¿Cuál es el número mínimo de operarios que garantiza que esta probabilidad es inferior a 0.10? Respuesta operarios"
   ]
  },
  {
   "cell_type": "code",
   "execution_count": 70,
   "metadata": {
    "scrolled": true
   },
   "outputs": [
    {
     "data": {
      "text/plain": [
       "5"
      ]
     },
     "execution_count": 70,
     "metadata": {},
     "output_type": "execute_result"
    }
   ],
   "source": [
    "k = c\n",
    "p_k = p**k/factorial(k)/sum([p**j/factorial(j) for j in range(0, k+1)])\n",
    "while p_k > 0.1:\n",
    "    k += 1\n",
    "    p_k = p**k/factorial(k)/sum([p**j/factorial(j) for j in range(0, k+1)])\n",
    "k"
   ]
  },
  {
   "cell_type": "markdown",
   "metadata": {},
   "source": [
    "## Problema 7"
   ]
  },
  {
   "cell_type": "markdown",
   "metadata": {},
   "source": [
    "En un determinado se ha implantado un nuevo sistema para el control de seguridad de acceso de los viajeros al área de embarque. Se ha dispuesto una puerta que da acceso a dos arcos detectores de metales que deben superar todos los viajeros de la cola. En caso de que el arco detector no señale ninguna incidencia, el viajero pasa directamente a la zona de embarque. En caso de que detecte algo extraño, el viajero debe pasar a un escáner corporal 3D. Este escaner es el mismo para las dos puertas, de forma que hay una única cola con los viajeros precedentes de las dos puertas. En el caso en el que el escaner corporal 3D siga detectando algo extraño, el viajero debe pasar a un tercer control más exhaustivo, para lo que pasa a unas dependencias especiales del aeropuerto.\n",
    "\n",
    "Una vez en los viajeros traspasan la puerta de acceso, se reparten por igual entre los dos arcos de seguridad. El 83% de los viajeros que acceden a la zona de embarque, pasan sin problemas por primer arco detector, independientemente de la puerta que usen. El 11% de los viajeros que pasan por el escaner corporal 3D necesitan pasar por las dependencias especiales, mientras que el resto (89%) pasan directamente a la sala de embarque.\n",
    "\n",
    "Por tanto, se puede considerar que el sistema tiene cinco servidores:\n",
    "\n",
    "S1 : puerta de acceso a la que llegan todos los viajeros con una tasa λ=80 viajeros por minuto. Este servidor atiende a los viajeros con una tasa μ1 =107 viajeros por minuto.\n",
    "\n",
    "S2 : primer arco que recibe a la mitad de los viajeros de la puerta de acceso. Este arco tiene una tasa de inspección de μ2 =52 viajeros por minuto.\n",
    "\n",
    "S3 : segundo arco que recibe a la mitad de los viajeros de la puerta de acceso. Este arco tiene una tasa de inspección de μ3 =52 viajeros por minuto.\n",
    "\n",
    "S4 : escaner corporal 3D, que recibe a los viajeros a los que los arcos anteriores detectan algo extraño. Este escaner trabaja con una tasa de μ4 =18 viajeros por minuto.\n",
    "\n",
    "S5 : dependencias especiales, que recibe a todos los viajeros a los que el escaner visual 3D detecta algo extraño. Una vez que ha pasado por aquí, un viajero pasa a la zona de embarque. Cada viajero invierte un promedio de x5 =30 segundos en pasar este proceso."
   ]
  },
  {
   "cell_type": "markdown",
   "metadata": {},
   "source": [
    "![Diseño de redes](problema7.png)"
   ]
  },
  {
   "cell_type": "markdown",
   "metadata": {},
   "source": [
    "Denotamos por Ii la tasa de llegada al servidor i.\n",
    "Nota: a la hora de realizar los cálculos, es necesario tener en cuenta las unidades eque se utilizan para cada parámetro del problema y las unidades en las que se piden los resultados.\n",
    "Completa adecuadamente las ecuaciones de tráfico:"
   ]
  },
  {
   "cell_type": "code",
   "execution_count": 71,
   "metadata": {},
   "outputs": [],
   "source": [
    "lambda_ = 80\n",
    "mu = np.array([107, 52, 52, 18, 60/30])"
   ]
  },
  {
   "cell_type": "code",
   "execution_count": 72,
   "metadata": {},
   "outputs": [],
   "source": [
    "q12 = 0.5\n",
    "q13 = 0.5\n",
    "q24 = 0.17\n",
    "q34 = 0.17\n",
    "q45 = 0.11"
   ]
  },
  {
   "cell_type": "code",
   "execution_count": 73,
   "metadata": {
    "scrolled": true
   },
   "outputs": [
    {
     "name": "stdout",
     "output_type": "stream",
     "text": [
      "[80.    40.    40.    13.6    1.496]\n"
     ]
    }
   ],
   "source": [
    "I1 = lambda_\n",
    "I2 = q12 * I1\n",
    "I3 = q13 * I1\n",
    "I4 = q24 * I2 + q34 * I3\n",
    "I5 = q45 * I4\n",
    "I = np.array([I1, I2, I3, I4, I5])\n",
    "print(I)"
   ]
  },
  {
   "cell_type": "markdown",
   "metadata": {},
   "source": [
    "El número medio de viajeros en cada servidor Ji es:"
   ]
  },
  {
   "cell_type": "code",
   "execution_count": 74,
   "metadata": {},
   "outputs": [
    {
     "data": {
      "text/plain": [
       "array([2.96296296, 3.33333333, 3.33333333, 3.09090909, 2.96825397])"
      ]
     },
     "execution_count": 74,
     "metadata": {},
     "output_type": "execute_result"
    }
   ],
   "source": [
    "J = I/(mu-I)\n",
    "J"
   ]
  },
  {
   "cell_type": "markdown",
   "metadata": {},
   "source": [
    "Y el número medio de viajeros en todo el sistema J es Respuesta"
   ]
  },
  {
   "cell_type": "code",
   "execution_count": 75,
   "metadata": {},
   "outputs": [
    {
     "data": {
      "text/plain": [
       "15.688792688792692"
      ]
     },
     "execution_count": 75,
     "metadata": {},
     "output_type": "execute_result"
    }
   ],
   "source": [
    "np.sum(J)"
   ]
  },
  {
   "cell_type": "markdown",
   "metadata": {},
   "source": [
    "## Problema 8"
   ]
  },
  {
   "cell_type": "markdown",
   "metadata": {},
   "source": [
    "Una empresa recibe documentos de dos tipos, 1 y 2. Los documentos de tipo 1 deben pasar por el OCR número 1, mientras que los de tipo 2 pasan por el OCR 2. Como resultado de la lectura por el correspondiente OCR, cada documento puede: a) ser rechazado (si la lectura presentó ligeros errores) y sale del sistema, b) pasar a grabación manual (si la lectura fue imposible) o c) pasar directamente al proceso de almacenamiento (distinto para cada tipo de documento). Si un documento pasa por grabación manual, después pasa a cualquiera de los dos procesos de almacenamiento anteriores con la misma probabilidad. Se ha detectado que el 10% de los documentos de tipo 1 son rechazados, el 73% salen correctamente y el 17% restante deben pasar a grabación manual. En el OCR2 (documentos de tipo 2), estos porcentajes son 5%, 74% y 21%, respectivamente.\n",
    "\n",
    "Por tanto, se puede considerar que el sistema tiene cinco servidores:\n",
    "\n",
    "S1 : primer OCR, OCR1, que recibe documentos de tipo 1 sólo del exterior con una tasa λ1 =1000 documentos por hora. Los documentos rechazados en este punto, salen del sistema. Este sistema procesa documentos con una tasa μ1 =1357 documentos por hora.\n",
    "\n",
    "S2 : segundo OCR, OCR2, que recibe documentos de tipo 2 sólo del exterior con una tasa λ2 =550. Los documentos rechazados en este punto, salen del sistema. Este sistema procesa documentos con una tasa μ2 =727 documentos por hora.\n",
    "\n",
    "S3 : grabación manual, que recibe los documentos de tipo 1 y 2 cuya lectura ha resultado defectuosa. Este sistema procesa documentos con una tasa μ3 =375 documentos por hora.\n",
    "\n",
    "S4 : primer almacenamiento, que recibe los documentos de tipo 1 que han sido leídos correctamente en el OCR1 y la mitad de los documentos que han pasado por la grabación manual. Una vez que ha pasado por aquí, un documento sale del sistema. Este sistema procesa documentos con una tasa μ4 =1192 documentos por hora.\n",
    "\n",
    "S5 : primer almacenamiento, que recibe los documentos de tipo 2 que han sido leídos correctamente en el OCR1 y la mitad de los documentos que han pasado por la grabación manual. Una vez que ha pasado por aquí, un documento sale del sistema. Este sistema procesa documentos con una tasa μ5 =666 documentos por hora."
   ]
  },
  {
   "cell_type": "markdown",
   "metadata": {},
   "source": [
    "![Diseño de redes](problema8.png)"
   ]
  },
  {
   "cell_type": "code",
   "execution_count": 76,
   "metadata": {},
   "outputs": [],
   "source": [
    "lambda1 = 1000\n",
    "lambda2 = 550\n",
    "mu = np.array([1357, 727, 375, 1192, 666])\n",
    "q13 = 0.17\n",
    "q23 = 0.21\n",
    "q14 = 0.73\n",
    "q25 = 0.74\n",
    "q34 = 0.5\n",
    "q35 = 0.5"
   ]
  },
  {
   "cell_type": "markdown",
   "metadata": {},
   "source": [
    "Denotamos por Ii la tasa de llegada al servidor i.\n",
    "\n",
    "Nota: a la hora de realizar los cálculos, es necesario tener en cuenta las unidades eque se utilizan para cada parámetro del problema y las unidades en las que se piden los resultados.\n",
    "\n",
    "Completa adecuadamente las ecuaciones de tráfico:"
   ]
  },
  {
   "cell_type": "code",
   "execution_count": 77,
   "metadata": {},
   "outputs": [
    {
     "name": "stdout",
     "output_type": "stream",
     "text": [
      "[1000.    550.    285.5   872.75  549.75]\n"
     ]
    }
   ],
   "source": [
    "I1 = lambda1\n",
    "I2 = lambda2\n",
    "I3 = q13 * I1 + q23 * I2\n",
    "I4 = q14 * I1 + q34 * I3\n",
    "I5 = q25 * I2 + q35 * I3\n",
    "I = np.array([I1, I2, I3, I4, I5])\n",
    "print(I)"
   ]
  },
  {
   "cell_type": "markdown",
   "metadata": {},
   "source": [
    "El tiempo medio de respuesta de cada servidor es:"
   ]
  },
  {
   "cell_type": "code",
   "execution_count": 78,
   "metadata": {},
   "outputs": [
    {
     "data": {
      "text/plain": [
       "array([0.16806723, 0.33898305, 0.67039106, 0.18794049, 0.51612903])"
      ]
     },
     "execution_count": 78,
     "metadata": {},
     "output_type": "execute_result"
    }
   ],
   "source": [
    "R = 1/(mu-I)\n",
    "R * 60"
   ]
  },
  {
   "cell_type": "markdown",
   "metadata": {},
   "source": [
    "Y el tiempo medio de respuesta global es"
   ]
  },
  {
   "cell_type": "code",
   "execution_count": 79,
   "metadata": {},
   "outputs": [
    {
     "data": {
      "text/plain": [
       "0.6410784174947248"
      ]
     },
     "execution_count": 79,
     "metadata": {},
     "output_type": "execute_result"
    }
   ],
   "source": [
    "np.sum(I*R) / (lambda1 + lambda2) * 60"
   ]
  }
 ],
 "metadata": {
  "kernelspec": {
   "display_name": "Python 3",
   "language": "python",
   "name": "python3"
  },
  "language_info": {
   "codemirror_mode": {
    "name": "ipython",
    "version": 3
   },
   "file_extension": ".py",
   "mimetype": "text/x-python",
   "name": "python",
   "nbconvert_exporter": "python",
   "pygments_lexer": "ipython3",
   "version": "3.6.7"
  }
 },
 "nbformat": 4,
 "nbformat_minor": 2
}
