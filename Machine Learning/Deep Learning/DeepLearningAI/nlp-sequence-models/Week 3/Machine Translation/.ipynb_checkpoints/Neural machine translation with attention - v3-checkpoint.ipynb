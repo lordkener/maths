{
 "cells": [
  {
   "cell_type": "markdown",
   "metadata": {},
   "source": [
    "# Neural Machine Translation\n",
    "\n",
    "Welcome to your first programming assignment for this week! \n",
    "\n",
    "You will build a Neural Machine Translation (NMT) model to translate human readable dates (\"25th of June, 2009\") into machine readable dates (\"2009-06-25\"). You will do this using an attention model, one of the most sophisticated sequence to sequence models. \n",
    "\n",
    "This notebook was produced together with NVIDIA's Deep Learning Institute. \n",
    "\n",
    "Let's load all the packages you will need for this assignment."
   ]
  },
  {
   "cell_type": "code",
   "execution_count": 1,
   "metadata": {},
   "outputs": [
    {
     "name": "stderr",
     "output_type": "stream",
     "text": [
      "Using TensorFlow backend.\n"
     ]
    }
   ],
   "source": [
    "from keras.layers import Bidirectional, Concatenate, Permute, Dot, Input, LSTM, Multiply\n",
    "from keras.layers import RepeatVector, Dense, Activation, Lambda\n",
    "from keras.optimizers import Adam\n",
    "from keras.utils import to_categorical\n",
    "from keras.models import load_model, Model\n",
    "import keras.backend as K\n",
    "import numpy as np\n",
    "\n",
    "from faker import Faker\n",
    "import random\n",
    "from tqdm import tqdm\n",
    "from babel.dates import format_date\n",
    "from nmt_utils import *\n",
    "import matplotlib.pyplot as plt\n",
    "%matplotlib inline"
   ]
  },
  {
   "cell_type": "markdown",
   "metadata": {},
   "source": [
    "## 1 - Translating human readable dates into machine readable dates\n",
    "\n",
    "The model you will build here could be used to translate from one language to another, such as translating from English to Hindi. However, language translation requires massive datasets and usually takes days of training on GPUs. To give you a place to experiment with these models even without using massive datasets, we will instead use a simpler \"date translation\" task. \n",
    "\n",
    "The network will input a date written in a variety of possible formats (*e.g. \"the 29th of August 1958\", \"03/30/1968\", \"24 JUNE 1987\"*) and translate them into standardized, machine readable dates (*e.g. \"1958-08-29\", \"1968-03-30\", \"1987-06-24\"*). We will have the network learn to output dates in the common machine-readable format YYYY-MM-DD. \n",
    "\n",
    "\n",
    "\n",
    "<!-- \n",
    "Take a look at [nmt_utils.py](./nmt_utils.py) to see all the formatting. Count and figure out how the formats work, you will need this knowledge later. !--> "
   ]
  },
  {
   "cell_type": "markdown",
   "metadata": {},
   "source": [
    "### 1.1 - Dataset\n",
    "\n",
    "We will train the model on a dataset of 10000 human readable dates and their equivalent, standardized, machine readable dates. Let's run the following cells to load the dataset and print some examples. "
   ]
  },
  {
   "cell_type": "code",
   "execution_count": 2,
   "metadata": {},
   "outputs": [
    {
     "name": "stderr",
     "output_type": "stream",
     "text": [
      "100%|█████████████████████████████████████████████████████████████████████████| 10000/10000 [00:00<00:00, 23072.64it/s]\n"
     ]
    }
   ],
   "source": [
    "m = 10000\n",
    "dataset, human_vocab, machine_vocab, inv_machine_vocab = load_dataset(m)"
   ]
  },
  {
   "cell_type": "code",
   "execution_count": 3,
   "metadata": {},
   "outputs": [
    {
     "data": {
      "text/plain": [
       "[('friday june 16 1978', '1978-06-16'),\n",
       " ('friday june 18 1999', '1999-06-18'),\n",
       " ('8 oct 1987', '1987-10-08'),\n",
       " ('tuesday april 1 2008', '2008-04-01'),\n",
       " ('6 september 2012', '2012-09-06'),\n",
       " ('12 november 1981', '1981-11-12'),\n",
       " ('friday august 19 2011', '2011-08-19'),\n",
       " ('25 08 07', '2007-08-25'),\n",
       " ('18 september 1982', '1982-09-18'),\n",
       " ('friday february 25 1994', '1994-02-25'),\n",
       " ('friday march 19 1976', '1976-03-19'),\n",
       " ('20.02.06', '2006-02-20'),\n",
       " ('17.01.98', '1998-01-17'),\n",
       " ('october 24 2009', '2009-10-24'),\n",
       " ('17 apr 2004', '2004-04-17'),\n",
       " ('03.05.81', '1981-05-03'),\n",
       " ('31 jan 1980', '1980-01-31'),\n",
       " ('01 jan 1984', '1984-01-01'),\n",
       " ('5 dec 2018', '2018-12-05'),\n",
       " ('saturday april 19 1975', '1975-04-19')]"
      ]
     },
     "execution_count": 3,
     "metadata": {},
     "output_type": "execute_result"
    }
   ],
   "source": [
    "dataset[10:30]"
   ]
  },
  {
   "cell_type": "markdown",
   "metadata": {},
   "source": [
    "You've loaded:\n",
    "- `dataset`: a list of tuples of (human readable date, machine readable date)\n",
    "- `human_vocab`: a python dictionary mapping all characters used in the human readable dates to an integer-valued index \n",
    "- `machine_vocab`: a python dictionary mapping all characters used in machine readable dates to an integer-valued index. These indices are not necessarily consistent with `human_vocab`. \n",
    "- `inv_machine_vocab`: the inverse dictionary of `machine_vocab`, mapping from indices back to characters. \n",
    "\n",
    "Let's preprocess the data and map the raw text data into the index values. We will also use Tx=30 (which we assume is the maximum length of the human readable date; if we get a longer input, we would have to truncate it) and Ty=10 (since \"YYYY-MM-DD\" is 10 characters long). "
   ]
  },
  {
   "cell_type": "code",
   "execution_count": 4,
   "metadata": {},
   "outputs": [
    {
     "name": "stdout",
     "output_type": "stream",
     "text": [
      "X.shape: (10000, 30)\n",
      "Y.shape: (10000, 10)\n",
      "Xoh.shape: (10000, 30, 37)\n",
      "Yoh.shape: (10000, 10, 11)\n"
     ]
    }
   ],
   "source": [
    "Tx = 30\n",
    "Ty = 10\n",
    "X, Y, Xoh, Yoh = preprocess_data(dataset, human_vocab, machine_vocab, Tx, Ty)\n",
    "\n",
    "print(\"X.shape:\", X.shape)\n",
    "print(\"Y.shape:\", Y.shape)\n",
    "print(\"Xoh.shape:\", Xoh.shape)\n",
    "print(\"Yoh.shape:\", Yoh.shape)"
   ]
  },
  {
   "cell_type": "markdown",
   "metadata": {},
   "source": [
    "You now have:\n",
    "- `X`: a processed version of the human readable dates in the training set, where each character is replaced by an index mapped to the character via `human_vocab`. Each date is further padded to $T_x$ values with a special character (< pad >). `X.shape = (m, Tx)`\n",
    "- `Y`: a processed version of the machine readable dates in the training set, where each character is replaced by the index it is mapped to in `machine_vocab`. You should have `Y.shape = (m, Ty)`. \n",
    "- `Xoh`: one-hot version of `X`, the \"1\" entry's index is mapped to the character thanks to `human_vocab`. `Xoh.shape = (m, Tx, len(human_vocab))`\n",
    "- `Yoh`: one-hot version of `Y`, the \"1\" entry's index is mapped to the character thanks to `machine_vocab`. `Yoh.shape = (m, Tx, len(machine_vocab))`. Here, `len(machine_vocab) = 11` since there are 11 characters ('-' as well as 0-9). \n"
   ]
  },
  {
   "cell_type": "markdown",
   "metadata": {},
   "source": [
    "Lets also look at some examples of preprocessed training examples. Feel free to play with `index` in the cell below to navigate the dataset and see how source/target dates are preprocessed. "
   ]
  },
  {
   "cell_type": "code",
   "execution_count": 5,
   "metadata": {},
   "outputs": [
    {
     "name": "stdout",
     "output_type": "stream",
     "text": [
      "Source date: 9 may 1998\n",
      "Target date: 1998-05-09\n",
      "\n",
      "Source after preprocessing (indices): [12  0 24 13 34  0  4 12 12 11 36 36 36 36 36 36 36 36 36 36 36 36 36 36\n",
      " 36 36 36 36 36 36]\n",
      "Target after preprocessing (indices): [ 2 10 10  9  0  1  6  0  1 10]\n",
      "\n",
      "Source after preprocessing (one-hot): [[0. 0. 0. ... 0. 0. 0.]\n",
      " [1. 0. 0. ... 0. 0. 0.]\n",
      " [0. 0. 0. ... 0. 0. 0.]\n",
      " ...\n",
      " [0. 0. 0. ... 0. 0. 1.]\n",
      " [0. 0. 0. ... 0. 0. 1.]\n",
      " [0. 0. 0. ... 0. 0. 1.]]\n",
      "Target after preprocessing (one-hot): [[0. 0. 1. 0. 0. 0. 0. 0. 0. 0. 0.]\n",
      " [0. 0. 0. 0. 0. 0. 0. 0. 0. 0. 1.]\n",
      " [0. 0. 0. 0. 0. 0. 0. 0. 0. 0. 1.]\n",
      " [0. 0. 0. 0. 0. 0. 0. 0. 0. 1. 0.]\n",
      " [1. 0. 0. 0. 0. 0. 0. 0. 0. 0. 0.]\n",
      " [0. 1. 0. 0. 0. 0. 0. 0. 0. 0. 0.]\n",
      " [0. 0. 0. 0. 0. 0. 1. 0. 0. 0. 0.]\n",
      " [1. 0. 0. 0. 0. 0. 0. 0. 0. 0. 0.]\n",
      " [0. 1. 0. 0. 0. 0. 0. 0. 0. 0. 0.]\n",
      " [0. 0. 0. 0. 0. 0. 0. 0. 0. 0. 1.]]\n"
     ]
    }
   ],
   "source": [
    "index = 0\n",
    "print(\"Source date:\", dataset[index][0])\n",
    "print(\"Target date:\", dataset[index][1])\n",
    "print()\n",
    "print(\"Source after preprocessing (indices):\", X[index])\n",
    "print(\"Target after preprocessing (indices):\", Y[index])\n",
    "print()\n",
    "print(\"Source after preprocessing (one-hot):\", Xoh[index])\n",
    "print(\"Target after preprocessing (one-hot):\", Yoh[index])"
   ]
  },
  {
   "cell_type": "markdown",
   "metadata": {},
   "source": [
    "## 2 - Neural machine translation with attention\n",
    "\n",
    "If you had to translate a book's paragraph from French to English, you would not read the whole paragraph, then close the book and translate. Even during the translation process, you would read/re-read and focus on the parts of the French paragraph corresponding to the parts of the English you are writing down. \n",
    "\n",
    "The attention mechanism tells a Neural Machine Translation model where it should pay attention to at any step. \n",
    "\n",
    "\n",
    "### 2.1 - Attention mechanism\n",
    "\n",
    "In this part, you will implement the attention mechanism presented in the lecture videos. Here is a figure to remind you how the model works. The diagram on the left shows the attention model. The diagram on the right shows what one \"Attention\" step does to calculate the attention variables $\\alpha^{\\langle t, t' \\rangle}$, which are used to compute the context variable $context^{\\langle t \\rangle}$ for each timestep in the output ($t=1, \\ldots, T_y$). \n",
    "\n",
    "<table>\n",
    "<td> \n",
    "<img src=\"images/attn_model.png\" style=\"width:500;height:500px;\"> <br>\n",
    "</td> \n",
    "<td> \n",
    "<img src=\"images/attn_mechanism.png\" style=\"width:500;height:500px;\"> <br>\n",
    "</td> \n",
    "</table>\n",
    "<caption><center> **Figure 1**: Neural machine translation with attention</center></caption>\n"
   ]
  },
  {
   "cell_type": "markdown",
   "metadata": {},
   "source": [
    "\n",
    "Here are some properties of the model that you may notice: \n",
    "\n",
    "- There are two separate LSTMs in this model (see diagram on the left). Because the one at the bottom of the picture is a Bi-directional LSTM and comes *before* the attention mechanism, we will call it *pre-attention* Bi-LSTM. The LSTM at the top of the diagram comes *after* the attention mechanism, so we will call it the *post-attention* LSTM. The pre-attention Bi-LSTM goes through $T_x$ time steps; the post-attention LSTM goes through $T_y$ time steps. \n",
    "\n",
    "- The post-attention LSTM passes $s^{\\langle t \\rangle}, c^{\\langle t \\rangle}$ from one time step to the next. In the lecture videos, we were using only a basic RNN for the post-activation sequence model, so the state captured by the RNN output activations $s^{\\langle t\\rangle}$. But since we are using an LSTM here, the LSTM has both the output activation $s^{\\langle t\\rangle}$ and the hidden cell state $c^{\\langle t\\rangle}$. However, unlike previous text generation examples (such as Dinosaurus in week 1), in this model the post-activation LSTM at time $t$ does will not take the specific generated $y^{\\langle t-1 \\rangle}$ as input; it only takes $s^{\\langle t\\rangle}$ and $c^{\\langle t\\rangle}$ as input. We have designed the model this way, because (unlike language generation where adjacent characters are highly correlated) there isn't as strong a dependency between the previous character and the next character in a YYYY-MM-DD date. \n",
    "\n",
    "- We use $a^{\\langle t \\rangle} = [\\overrightarrow{a}^{\\langle t \\rangle}; \\overleftarrow{a}^{\\langle t \\rangle}]$ to represent the concatenation of the activations of both the forward-direction and backward-directions of the pre-attention Bi-LSTM. \n",
    "\n",
    "- The diagram on the right uses a `RepeatVector` node to copy $s^{\\langle t-1 \\rangle}$'s value $T_x$ times, and then `Concatenation` to concatenate $s^{\\langle t-1 \\rangle}$ and $a^{\\langle t \\rangle}$ to compute $e^{\\langle t, t'}$, which is then passed through a softmax to compute $\\alpha^{\\langle t, t' \\rangle}$. We'll explain how to use `RepeatVector` and `Concatenation` in Keras below. \n",
    "\n",
    "Lets implement this model. You will start by implementing two functions: `one_step_attention()` and `model()`.\n",
    "\n",
    "**1) `one_step_attention()`**: At step $t$, given all the hidden states of the Bi-LSTM ($[a^{<1>},a^{<2>}, ..., a^{<T_x>}]$) and the previous hidden state of the second LSTM ($s^{<t-1>}$), `one_step_attention()` will compute the attention weights ($[\\alpha^{<t,1>},\\alpha^{<t,2>}, ..., \\alpha^{<t,T_x>}]$) and output the context vector (see Figure  1 (right) for details):\n",
    "$$context^{<t>} = \\sum_{t' = 0}^{T_x} \\alpha^{<t,t'>}a^{<t'>}\\tag{1}$$ \n",
    "\n",
    "Note that we are denoting the attention in this notebook $context^{\\langle t \\rangle}$. In the lecture videos, the context was denoted $c^{\\langle t \\rangle}$, but here we are calling it $context^{\\langle t \\rangle}$ to avoid confusion with the (post-attention) LSTM's internal memory cell variable, which is sometimes also denoted $c^{\\langle t \\rangle}$. \n",
    "  \n",
    "**2) `model()`**: Implements the entire model. It first runs the input through a Bi-LSTM to get back $[a^{<1>},a^{<2>}, ..., a^{<T_x>}]$. Then, it calls `one_step_attention()` $T_y$ times (`for` loop). At each iteration of this loop, it gives the computed context vector $c^{<t>}$ to the second LSTM, and runs the output of the LSTM through a dense layer with softmax activation to generate a prediction $\\hat{y}^{<t>}$. \n",
    "\n",
    "\n",
    "\n",
    "**Exercise**: Implement `one_step_attention()`. The function `model()` will call the layers in `one_step_attention()` $T_y$ using a for-loop, and it is important that all $T_y$ copies have the same weights. I.e., it should not re-initiaiize the weights every time. In other words, all $T_y$ steps should have shared weights. Here's how you can implement layers with shareable weights in Keras:\n",
    "1. Define the layer objects (as global variables for examples).\n",
    "2. Call these objects when propagating the input.\n",
    "\n",
    "We have defined the layers you need as global variables. Please run the following cells to create them. Please check the Keras documentation to make sure you understand what these layers are: [RepeatVector()](https://keras.io/layers/core/#repeatvector), [Concatenate()](https://keras.io/layers/merge/#concatenate), [Dense()](https://keras.io/layers/core/#dense), [Activation()](https://keras.io/layers/core/#activation), [Dot()](https://keras.io/layers/merge/#dot)."
   ]
  },
  {
   "cell_type": "code",
   "execution_count": 6,
   "metadata": {},
   "outputs": [],
   "source": [
    "# Defined shared layers as global variables\n",
    "repeator = RepeatVector(Tx) #<Gema> Repeats the input Tx times.\n",
    "concatenator = Concatenate(axis=-1) #<Gema> Layer that concatenates a list of inputs. axis: Axis along which to concatenate, in this case, on the last axis.\n",
    "densor1 = Dense(10, activation = \"tanh\") #<Gema> Just your regular densely-connected NN layer.\n",
    "#<Gema> Dense implements the operation: output = activation(dot(input, kernel) + bias) where kernel is a weights matrix created by the layer\n",
    "densor2 = Dense(1, activation = \"relu\")\n",
    "activator = Activation(softmax, name='attention_weights') # We are using a custom softmax(axis = 1) loaded in this notebook\n",
    "#<Gema> Applies an activation function to an output.\n",
    "dotor = Dot(axes = 1) \n",
    "#<Gema> Layer that computes a dot product between samples in two tensors."
   ]
  },
  {
   "cell_type": "markdown",
   "metadata": {},
   "source": [
    "Now you can use these layers to implement `one_step_attention()`. In order to propagate a Keras tensor object X through one of these layers, use `layer(X)` (or `layer([X,Y])` if it requires multiple inputs.), e.g. `densor(X)` will propagate X through the `Dense(1)` layer defined above."
   ]
  },
  {
   "cell_type": "code",
   "execution_count": 7,
   "metadata": {},
   "outputs": [],
   "source": [
    "# GRADED FUNCTION: one_step_attention\n",
    "\n",
    "def one_step_attention(a, s_prev):\n",
    "    \"\"\"\n",
    "    Performs one step of attention: Outputs a context vector computed as a dot product of the attention weights\n",
    "    \"alphas\" and the hidden states \"a\" of the Bi-LSTM.\n",
    "    \n",
    "    Arguments:\n",
    "    a -- hidden state output of the Bi-LSTM, numpy-array of shape (m, Tx, 2*n_a)\n",
    "    s_prev -- previous hidden state of the (post-attention) LSTM, numpy-array of shape (m, n_s)\n",
    "    \n",
    "    Returns:\n",
    "    context -- context vector, input of the next (post-attetion) LSTM cell\n",
    "    \"\"\"\n",
    "    \n",
    "    ### START CODE HERE ###\n",
    "    # Use repeator to repeat s_prev to be of shape (m, Tx, n_s) so that you can concatenate it with all hidden states \"a\" (≈ 1 line)\n",
    "    s_prev = repeator(s_prev)\n",
    "    # Use concatenator to concatenate a and s_prev on the last axis (≈ 1 line)\n",
    "    concat = concatenator([a,s_prev])\n",
    "    # Use densor1 to propagate concat through a small fully-connected neural network to compute the \"intermediate energies\" variable e. (≈1 lines)\n",
    "    e = densor1(concat)\n",
    "    # Use densor2 to propagate e through a small fully-connected neural network to compute the \"energies\" variable energies. (≈1 lines)\n",
    "    energies = densor2(e)\n",
    "    # Use \"activator\" on \"energies\" to compute the attention weights \"alphas\" (≈ 1 line)\n",
    "    alphas = activator(energies)\n",
    "    # Use dotor together with \"alphas\" and \"a\" to compute the context vector to be given to the next (post-attention) LSTM-cell (≈ 1 line)\n",
    "    context = dotor([alphas,a])\n",
    "    ### END CODE HERE ###\n",
    "    \n",
    "    return context"
   ]
  },
  {
   "cell_type": "markdown",
   "metadata": {},
   "source": [
    "You will be able to check the expected output of `one_step_attention()` after you've coded the `model()` function."
   ]
  },
  {
   "cell_type": "markdown",
   "metadata": {},
   "source": [
    "**Exercise**: Implement `model()` as explained in figure 2 and the text above. Again, we have defined global layers that will share weights to be used in `model()`."
   ]
  },
  {
   "cell_type": "code",
   "execution_count": 8,
   "metadata": {},
   "outputs": [],
   "source": [
    "n_a = 32\n",
    "n_s = 64\n",
    "post_activation_LSTM_cell = LSTM(n_s, return_state = True)\n",
    "output_layer = Dense(len(machine_vocab), activation=softmax)"
   ]
  },
  {
   "cell_type": "markdown",
   "metadata": {},
   "source": [
    "Now you can use these layers $T_y$ times in a `for` loop to generate the outputs, and their parameters will not be reinitialized. You will have to carry out the following steps: \n",
    "\n",
    "1. Propagate the input into a [Bidirectional](https://keras.io/layers/wrappers/#bidirectional) [LSTM](https://keras.io/layers/recurrent/#lstm)\n",
    "2. Iterate for $t = 0, \\dots, T_y-1$: \n",
    "    1. Call `one_step_attention()` on $[\\alpha^{<t,1>},\\alpha^{<t,2>}, ..., \\alpha^{<t,T_x>}]$ and $s^{<t-1>}$ to get the context vector $context^{<t>}$.\n",
    "    2. Give $context^{<t>}$ to the post-attention LSTM cell. Remember pass in the previous hidden-state $s^{\\langle t-1\\rangle}$ and cell-states $c^{\\langle t-1\\rangle}$ of this LSTM using `initial_state= [previous hidden state, previous cell state]`. Get back the new hidden state $s^{<t>}$ and the new cell state $c^{<t>}$.\n",
    "    3. Apply a softmax layer to $s^{<t>}$, get the output. \n",
    "    4. Save the output by adding it to the list of outputs.\n",
    "\n",
    "3. Create your Keras model instance, it should have three inputs (\"inputs\", $s^{<0>}$ and $c^{<0>}$) and output the list of \"outputs\"."
   ]
  },
  {
   "cell_type": "code",
   "execution_count": 9,
   "metadata": {},
   "outputs": [],
   "source": [
    "# GRADED FUNCTION: model\n",
    "\n",
    "def model(Tx, Ty, n_a, n_s, human_vocab_size, machine_vocab_size):\n",
    "    \"\"\"\n",
    "    Arguments:\n",
    "    Tx -- length of the input sequence\n",
    "    Ty -- length of the output sequence\n",
    "    n_a -- hidden state size of the Bi-LSTM\n",
    "    n_s -- hidden state size of the post-attention LSTM\n",
    "    human_vocab_size -- size of the python dictionary \"human_vocab\"\n",
    "    machine_vocab_size -- size of the python dictionary \"machine_vocab\"\n",
    "\n",
    "    Returns:\n",
    "    model -- Keras model instance\n",
    "    \"\"\"\n",
    "    \n",
    "    # Define the inputs of your model with a shape (Tx,)\n",
    "    # Define s0 and c0, initial hidden state for the decoder LSTM of shape (n_s,)\n",
    "    X = Input(shape=(Tx, human_vocab_size))\n",
    "    s0 = Input(shape=(n_s,), name='s0')\n",
    "    c0 = Input(shape=(n_s,), name='c0')\n",
    "    s = s0\n",
    "    c = c0\n",
    "    \n",
    "    # Initialize empty list of outputs\n",
    "    outputs = []\n",
    "    \n",
    "    ### START CODE HERE ###\n",
    "    \n",
    "    # Step 1: Define your pre-attention Bi-LSTM. Remember to use return_sequences=True. (≈ 1 line)\n",
    "    a = Bidirectional(LSTM(n_a, return_sequences=True))(X)\n",
    "    \n",
    "    # Step 2: Iterate for Ty steps\n",
    "    for t in range(Ty):\n",
    "    \n",
    "        # Step 2.A: Perform one step of the attention mechanism to get back the context vector at step t (≈ 1 line)\n",
    "        context = one_step_attention(a, s)\n",
    "        \n",
    "        # Step 2.B: Apply the post-attention LSTM cell to the \"context\" vector.\n",
    "        # Don't forget to pass: initial_state = [hidden state, cell state] (≈ 1 line)\n",
    "        s, _, c = post_activation_LSTM_cell(context,initial_state=[s, c])\n",
    "        \n",
    "        # Step 2.C: Apply Dense layer to the hidden state output of the post-attention LSTM (≈ 1 line)\n",
    "        out = output_layer(s)\n",
    "        \n",
    "        # Step 2.D: Append \"out\" to the \"outputs\" list (≈ 1 line)\n",
    "        outputs.append(out)\n",
    "    \n",
    "    # Step 3: Create model instance taking three inputs and returning the list of outputs. (≈ 1 line)\n",
    "    model = Model(inputs=[X, s0, c0], outputs=outputs)\n",
    "    \n",
    "    ### END CODE HERE ###\n",
    "    \n",
    "    return model"
   ]
  },
  {
   "cell_type": "markdown",
   "metadata": {},
   "source": [
    "Run the following cell to create your model."
   ]
  },
  {
   "cell_type": "code",
   "execution_count": 10,
   "metadata": {},
   "outputs": [
    {
     "name": "stdout",
     "output_type": "stream",
     "text": [
      "WARNING:tensorflow:From C:\\Anaconda3\\lib\\site-packages\\tensorflow\\python\\framework\\op_def_library.py:263: colocate_with (from tensorflow.python.framework.ops) is deprecated and will be removed in a future version.\n",
      "Instructions for updating:\n",
      "Colocations handled automatically by placer.\n"
     ]
    }
   ],
   "source": [
    "model = model(Tx, Ty, n_a, n_s, len(human_vocab), len(machine_vocab))"
   ]
  },
  {
   "cell_type": "markdown",
   "metadata": {},
   "source": [
    "Let's get a summary of the model to check if it matches the expected output."
   ]
  },
  {
   "cell_type": "code",
   "execution_count": 11,
   "metadata": {},
   "outputs": [
    {
     "name": "stdout",
     "output_type": "stream",
     "text": [
      "__________________________________________________________________________________________________\n",
      "Layer (type)                    Output Shape         Param #     Connected to                     \n",
      "==================================================================================================\n",
      "input_1 (InputLayer)            (None, 30, 37)       0                                            \n",
      "__________________________________________________________________________________________________\n",
      "s0 (InputLayer)                 (None, 64)           0                                            \n",
      "__________________________________________________________________________________________________\n",
      "bidirectional_1 (Bidirectional) (None, 30, 64)       17920       input_1[0][0]                    \n",
      "__________________________________________________________________________________________________\n",
      "repeat_vector_1 (RepeatVector)  (None, 30, 64)       0           s0[0][0]                         \n",
      "                                                                 lstm_1[0][0]                     \n",
      "                                                                 lstm_1[1][0]                     \n",
      "                                                                 lstm_1[2][0]                     \n",
      "                                                                 lstm_1[3][0]                     \n",
      "                                                                 lstm_1[4][0]                     \n",
      "                                                                 lstm_1[5][0]                     \n",
      "                                                                 lstm_1[6][0]                     \n",
      "                                                                 lstm_1[7][0]                     \n",
      "                                                                 lstm_1[8][0]                     \n",
      "__________________________________________________________________________________________________\n",
      "concatenate_1 (Concatenate)     (None, 30, 128)      0           bidirectional_1[0][0]            \n",
      "                                                                 repeat_vector_1[0][0]            \n",
      "                                                                 bidirectional_1[0][0]            \n",
      "                                                                 repeat_vector_1[1][0]            \n",
      "                                                                 bidirectional_1[0][0]            \n",
      "                                                                 repeat_vector_1[2][0]            \n",
      "                                                                 bidirectional_1[0][0]            \n",
      "                                                                 repeat_vector_1[3][0]            \n",
      "                                                                 bidirectional_1[0][0]            \n",
      "                                                                 repeat_vector_1[4][0]            \n",
      "                                                                 bidirectional_1[0][0]            \n",
      "                                                                 repeat_vector_1[5][0]            \n",
      "                                                                 bidirectional_1[0][0]            \n",
      "                                                                 repeat_vector_1[6][0]            \n",
      "                                                                 bidirectional_1[0][0]            \n",
      "                                                                 repeat_vector_1[7][0]            \n",
      "                                                                 bidirectional_1[0][0]            \n",
      "                                                                 repeat_vector_1[8][0]            \n",
      "                                                                 bidirectional_1[0][0]            \n",
      "                                                                 repeat_vector_1[9][0]            \n",
      "__________________________________________________________________________________________________\n",
      "dense_1 (Dense)                 (None, 30, 10)       1290        concatenate_1[0][0]              \n",
      "                                                                 concatenate_1[1][0]              \n",
      "                                                                 concatenate_1[2][0]              \n",
      "                                                                 concatenate_1[3][0]              \n",
      "                                                                 concatenate_1[4][0]              \n",
      "                                                                 concatenate_1[5][0]              \n",
      "                                                                 concatenate_1[6][0]              \n",
      "                                                                 concatenate_1[7][0]              \n",
      "                                                                 concatenate_1[8][0]              \n",
      "                                                                 concatenate_1[9][0]              \n",
      "__________________________________________________________________________________________________\n",
      "dense_2 (Dense)                 (None, 30, 1)        11          dense_1[0][0]                    \n",
      "                                                                 dense_1[1][0]                    \n",
      "                                                                 dense_1[2][0]                    \n",
      "                                                                 dense_1[3][0]                    \n",
      "                                                                 dense_1[4][0]                    \n",
      "                                                                 dense_1[5][0]                    \n",
      "                                                                 dense_1[6][0]                    \n",
      "                                                                 dense_1[7][0]                    \n",
      "                                                                 dense_1[8][0]                    \n",
      "                                                                 dense_1[9][0]                    \n",
      "__________________________________________________________________________________________________\n",
      "attention_weights (Activation)  (None, 30, 1)        0           dense_2[0][0]                    \n",
      "                                                                 dense_2[1][0]                    \n",
      "                                                                 dense_2[2][0]                    \n",
      "                                                                 dense_2[3][0]                    \n",
      "                                                                 dense_2[4][0]                    \n",
      "                                                                 dense_2[5][0]                    \n",
      "                                                                 dense_2[6][0]                    \n",
      "                                                                 dense_2[7][0]                    \n",
      "                                                                 dense_2[8][0]                    \n",
      "                                                                 dense_2[9][0]                    \n",
      "__________________________________________________________________________________________________\n",
      "dot_1 (Dot)                     (None, 1, 64)        0           attention_weights[0][0]          \n",
      "                                                                 bidirectional_1[0][0]            \n",
      "                                                                 attention_weights[1][0]          \n",
      "                                                                 bidirectional_1[0][0]            \n",
      "                                                                 attention_weights[2][0]          \n",
      "                                                                 bidirectional_1[0][0]            \n",
      "                                                                 attention_weights[3][0]          \n",
      "                                                                 bidirectional_1[0][0]            \n"
     ]
    },
    {
     "name": "stdout",
     "output_type": "stream",
     "text": [
      "                                                                 attention_weights[4][0]          \n",
      "                                                                 bidirectional_1[0][0]            \n",
      "                                                                 attention_weights[5][0]          \n",
      "                                                                 bidirectional_1[0][0]            \n",
      "                                                                 attention_weights[6][0]          \n",
      "                                                                 bidirectional_1[0][0]            \n",
      "                                                                 attention_weights[7][0]          \n",
      "                                                                 bidirectional_1[0][0]            \n",
      "                                                                 attention_weights[8][0]          \n",
      "                                                                 bidirectional_1[0][0]            \n",
      "                                                                 attention_weights[9][0]          \n",
      "                                                                 bidirectional_1[0][0]            \n",
      "__________________________________________________________________________________________________\n",
      "c0 (InputLayer)                 (None, 64)           0                                            \n",
      "__________________________________________________________________________________________________\n",
      "lstm_1 (LSTM)                   [(None, 64), (None,  33024       dot_1[0][0]                      \n",
      "                                                                 s0[0][0]                         \n",
      "                                                                 c0[0][0]                         \n",
      "                                                                 dot_1[1][0]                      \n",
      "                                                                 lstm_1[0][0]                     \n",
      "                                                                 lstm_1[0][2]                     \n",
      "                                                                 dot_1[2][0]                      \n",
      "                                                                 lstm_1[1][0]                     \n",
      "                                                                 lstm_1[1][2]                     \n",
      "                                                                 dot_1[3][0]                      \n",
      "                                                                 lstm_1[2][0]                     \n",
      "                                                                 lstm_1[2][2]                     \n",
      "                                                                 dot_1[4][0]                      \n",
      "                                                                 lstm_1[3][0]                     \n",
      "                                                                 lstm_1[3][2]                     \n",
      "                                                                 dot_1[5][0]                      \n",
      "                                                                 lstm_1[4][0]                     \n",
      "                                                                 lstm_1[4][2]                     \n",
      "                                                                 dot_1[6][0]                      \n",
      "                                                                 lstm_1[5][0]                     \n",
      "                                                                 lstm_1[5][2]                     \n",
      "                                                                 dot_1[7][0]                      \n",
      "                                                                 lstm_1[6][0]                     \n",
      "                                                                 lstm_1[6][2]                     \n",
      "                                                                 dot_1[8][0]                      \n",
      "                                                                 lstm_1[7][0]                     \n",
      "                                                                 lstm_1[7][2]                     \n",
      "                                                                 dot_1[9][0]                      \n",
      "                                                                 lstm_1[8][0]                     \n",
      "                                                                 lstm_1[8][2]                     \n",
      "__________________________________________________________________________________________________\n",
      "dense_3 (Dense)                 (None, 11)           715         lstm_1[0][0]                     \n",
      "                                                                 lstm_1[1][0]                     \n",
      "                                                                 lstm_1[2][0]                     \n",
      "                                                                 lstm_1[3][0]                     \n",
      "                                                                 lstm_1[4][0]                     \n",
      "                                                                 lstm_1[5][0]                     \n",
      "                                                                 lstm_1[6][0]                     \n",
      "                                                                 lstm_1[7][0]                     \n",
      "                                                                 lstm_1[8][0]                     \n",
      "                                                                 lstm_1[9][0]                     \n",
      "==================================================================================================\n",
      "Total params: 52,960\n",
      "Trainable params: 52,960\n",
      "Non-trainable params: 0\n",
      "__________________________________________________________________________________________________\n"
     ]
    }
   ],
   "source": [
    "model.summary()"
   ]
  },
  {
   "cell_type": "markdown",
   "metadata": {},
   "source": [
    "**Expected Output**:\n",
    "\n",
    "Here is the summary you should see\n",
    "<table>\n",
    "    <tr>\n",
    "        <td>\n",
    "            **Total params:**\n",
    "        </td>\n",
    "        <td>\n",
    "         52,960\n",
    "        </td>\n",
    "    </tr>\n",
    "        <tr>\n",
    "        <td>\n",
    "            **Trainable params:**\n",
    "        </td>\n",
    "        <td>\n",
    "         52,960\n",
    "        </td>\n",
    "    </tr>\n",
    "            <tr>\n",
    "        <td>\n",
    "            **Non-trainable params:**\n",
    "        </td>\n",
    "        <td>\n",
    "         0\n",
    "        </td>\n",
    "    </tr>\n",
    "                    <tr>\n",
    "        <td>\n",
    "            **bidirectional_1's output shape **\n",
    "        </td>\n",
    "        <td>\n",
    "         (None, 30, 64)  \n",
    "        </td>\n",
    "    </tr>\n",
    "    <tr>\n",
    "        <td>\n",
    "            **repeat_vector_1's output shape **\n",
    "        </td>\n",
    "        <td>\n",
    "         (None, 30, 64) \n",
    "        </td>\n",
    "    </tr>\n",
    "                <tr>\n",
    "        <td>\n",
    "            **concatenate_1's output shape **\n",
    "        </td>\n",
    "        <td>\n",
    "         (None, 30, 128) \n",
    "        </td>\n",
    "    </tr>\n",
    "            <tr>\n",
    "        <td>\n",
    "            **attention_weights's output shape **\n",
    "        </td>\n",
    "        <td>\n",
    "         (None, 30, 1)  \n",
    "        </td>\n",
    "    </tr>\n",
    "        <tr>\n",
    "        <td>\n",
    "            **dot_1's output shape **\n",
    "        </td>\n",
    "        <td>\n",
    "         (None, 1, 64)\n",
    "        </td>\n",
    "    </tr>\n",
    "           <tr>\n",
    "        <td>\n",
    "            **dense_3's output shape **\n",
    "        </td>\n",
    "        <td>\n",
    "         (None, 11) \n",
    "        </td>\n",
    "    </tr>\n",
    "</table>\n"
   ]
  },
  {
   "cell_type": "markdown",
   "metadata": {},
   "source": [
    "As usual, after creating your model in Keras, you need to compile it and define what loss, optimizer and metrics your are want to use. Compile your model using `categorical_crossentropy` loss, a custom [Adam](https://keras.io/optimizers/#adam) [optimizer](https://keras.io/optimizers/#usage-of-optimizers) (`learning rate = 0.005`, $\\beta_1 = 0.9$, $\\beta_2 = 0.999$, `decay = 0.01`)  and `['accuracy']` metrics:"
   ]
  },
  {
   "cell_type": "code",
   "execution_count": 12,
   "metadata": {},
   "outputs": [],
   "source": [
    "### START CODE HERE ### (≈2 lines)\n",
    "opt = Adam(lr=0.005, beta_1=0.9, beta_2=0.999, decay=0.01)\n",
    "model.compile(optimizer=opt, loss='categorical_crossentropy', metrics=['accuracy'])\n",
    "### END CODE HERE ###"
   ]
  },
  {
   "cell_type": "markdown",
   "metadata": {},
   "source": [
    "The last step is to define all your inputs and outputs to fit the model:\n",
    "- You already have X of shape $(m = 10000, T_x = 30)$ containing the training examples.\n",
    "- You need to create `s0` and `c0` to initialize your `post_activation_LSTM_cell` with 0s.\n",
    "- Given the `model()` you coded, you need the \"outputs\" to be a list of 11 elements of shape (m, T_y). So that: `outputs[i][0], ..., outputs[i][Ty]` represent the true labels (characters) corresponding to the $i^{th}$ training example (`X[i]`). More generally, `outputs[i][j]` is the true label of the $j^{th}$ character in the $i^{th}$ training example."
   ]
  },
  {
   "cell_type": "code",
   "execution_count": 13,
   "metadata": {},
   "outputs": [],
   "source": [
    "s0 = np.zeros((m, n_s))\n",
    "c0 = np.zeros((m, n_s))\n",
    "outputs = list(Yoh.swapaxes(0,1))"
   ]
  },
  {
   "cell_type": "markdown",
   "metadata": {},
   "source": [
    "Let's now fit the model and run it for one epoch."
   ]
  },
  {
   "cell_type": "code",
   "execution_count": 14,
   "metadata": {},
   "outputs": [
    {
     "name": "stdout",
     "output_type": "stream",
     "text": [
      "WARNING:tensorflow:From C:\\Anaconda3\\lib\\site-packages\\tensorflow\\python\\ops\\math_ops.py:3066: to_int32 (from tensorflow.python.ops.math_ops) is deprecated and will be removed in a future version.\n",
      "Instructions for updating:\n",
      "Use tf.cast instead.\n",
      "WARNING:tensorflow:From C:\\Anaconda3\\lib\\site-packages\\tensorflow\\python\\ops\\math_grad.py:102: div (from tensorflow.python.ops.math_ops) is deprecated and will be removed in a future version.\n",
      "Instructions for updating:\n",
      "Deprecated in favor of operator or tf.math.divide.\n",
      "Epoch 1/1\n"
     ]
    },
    {
     "name": "stdout",
     "output_type": "stream",
     "text": [
      " 2900/10000 [=======>......................] - ETA: 23:24 - loss: 23.9975 - dense_3_loss: 2.3969 - dense_3_acc: 0.0400 - dense_3_acc_1: 0.0200 - dense_3_acc_2: 0.2300 - dense_3_acc_3: 0.1800 - dense_3_acc_4: 0.0000e+00 - dense_3_acc_5: 0.0200 - dense_3_acc_6: 0.1000 - dense_3_acc_7: 0.0000e+00 - dense_3_acc_8: 0.0200 - dense_3_acc_9: 0.07 - ETA: 11:39 - loss: 23.8108 - dense_3_loss: 2.4054 - dense_3_acc: 0.0250 - dense_3_acc_1: 0.0100 - dense_3_acc_2: 0.1150 - dense_3_acc_3: 0.0950 - dense_3_acc_4: 0.4750 - dense_3_acc_5: 0.0400 - dense_3_acc_6: 0.0600 - dense_3_acc_7: 0.4500 - dense_3_acc_8: 0.0250 - dense_3_acc_9: 0.0550       - ETA: 7:43 - loss: 23.5740 - dense_3_loss: 2.4163 - dense_3_acc: 0.0167 - dense_3_acc_1: 0.0067 - dense_3_acc_2: 0.0767 - dense_3_acc_3: 0.0633 - dense_3_acc_4: 0.6500 - dense_3_acc_5: 0.0267 - dense_3_acc_6: 0.0400 - dense_3_acc_7: 0.6333 - dense_3_acc_8: 0.0167 - dense_3_acc_9: 0.0367 - ETA: 5:46 - loss: 23.3107 - dense_3_loss: 2.4496 - dense_3_acc: 0.0125 - dense_3_acc_1: 0.0050 - dense_3_acc_2: 0.0575 - dense_3_acc_3: 0.0475 - dense_3_acc_4: 0.7375 - dense_3_acc_5: 0.0200 - dense_3_acc_6: 0.0300 - dense_3_acc_7: 0.7250 - dense_3_acc_8: 0.0125 - dense_3_acc_9: 0.027 - ETA: 4:35 - loss: 23.0440 - dense_3_loss: 2.5420 - dense_3_acc: 0.0100 - dense_3_acc_1: 0.0040 - dense_3_acc_2: 0.0460 - dense_3_acc_3: 0.0380 - dense_3_acc_4: 0.7900 - dense_3_acc_5: 0.0160 - dense_3_acc_6: 0.0240 - dense_3_acc_7: 0.7800 - dense_3_acc_8: 0.0100 - dense_3_acc_9: 0.022 - ETA: 3:48 - loss: 22.8666 - dense_3_loss: 2.6549 - dense_3_acc: 0.0083 - dense_3_acc_1: 0.0033 - dense_3_acc_2: 0.0383 - dense_3_acc_3: 0.0317 - dense_3_acc_4: 0.8250 - dense_3_acc_5: 0.0133 - dense_3_acc_6: 0.0200 - dense_3_acc_7: 0.8167 - dense_3_acc_8: 0.0083 - dense_3_acc_9: 0.018 - ETA: 3:14 - loss: 22.7206 - dense_3_loss: 2.7493 - dense_3_acc: 0.0071 - dense_3_acc_1: 0.0157 - dense_3_acc_2: 0.0357 - dense_3_acc_3: 0.0271 - dense_3_acc_4: 0.8500 - dense_3_acc_5: 0.0114 - dense_3_acc_6: 0.0171 - dense_3_acc_7: 0.8429 - dense_3_acc_8: 0.0071 - dense_3_acc_9: 0.015 - ETA: 2:49 - loss: 22.5854 - dense_3_loss: 2.7975 - dense_3_acc: 0.0062 - dense_3_acc_1: 0.0650 - dense_3_acc_2: 0.0612 - dense_3_acc_3: 0.0300 - dense_3_acc_4: 0.7437 - dense_3_acc_5: 0.0938 - dense_3_acc_6: 0.0312 - dense_3_acc_7: 0.7500 - dense_3_acc_8: 0.0288 - dense_3_acc_9: 0.017 - ETA: 2:29 - loss: 22.4332 - dense_3_loss: 2.7873 - dense_3_acc: 0.0056 - dense_3_acc_1: 0.1078 - dense_3_acc_2: 0.0767 - dense_3_acc_3: 0.0367 - dense_3_acc_4: 0.6611 - dense_3_acc_5: 0.1678 - dense_3_acc_6: 0.0344 - dense_3_acc_7: 0.6822 - dense_3_acc_8: 0.0489 - dense_3_acc_9: 0.028 - ETA: 2:14 - loss: 22.3347 - dense_3_loss: 2.7968 - dense_3_acc: 0.0050 - dense_3_acc_1: 0.1390 - dense_3_acc_2: 0.0880 - dense_3_acc_3: 0.0390 - dense_3_acc_4: 0.6570 - dense_3_acc_5: 0.1540 - dense_3_acc_6: 0.0310 - dense_3_acc_7: 0.7140 - dense_3_acc_8: 0.0440 - dense_3_acc_9: 0.026 - ETA: 2:01 - loss: 22.2499 - dense_3_loss: 2.7985 - dense_3_acc: 0.0045 - dense_3_acc_1: 0.1664 - dense_3_acc_2: 0.0991 - dense_3_acc_3: 0.0355 - dense_3_acc_4: 0.6882 - dense_3_acc_5: 0.1400 - dense_3_acc_6: 0.0282 - dense_3_acc_7: 0.7400 - dense_3_acc_8: 0.0400 - dense_3_acc_9: 0.023 - ETA: 1:50 - loss: 22.1631 - dense_3_loss: 2.7991 - dense_3_acc: 0.0042 - dense_3_acc_1: 0.1917 - dense_3_acc_2: 0.1050 - dense_3_acc_3: 0.0325 - dense_3_acc_4: 0.7142 - dense_3_acc_5: 0.1283 - dense_3_acc_6: 0.0258 - dense_3_acc_7: 0.7617 - dense_3_acc_8: 0.0367 - dense_3_acc_9: 0.021 - ETA: 1:41 - loss: 22.0875 - dense_3_loss: 2.7954 - dense_3_acc: 0.0038 - dense_3_acc_1: 0.2062 - dense_3_acc_2: 0.0977 - dense_3_acc_3: 0.0300 - dense_3_acc_4: 0.7362 - dense_3_acc_5: 0.1185 - dense_3_acc_6: 0.0238 - dense_3_acc_7: 0.7800 - dense_3_acc_8: 0.0338 - dense_3_acc_9: 0.020 - ETA: 1:33 - loss: 22.0170 - dense_3_loss: 2.7950 - dense_3_acc: 0.0036 - dense_3_acc_1: 0.2157 - dense_3_acc_2: 0.1000 - dense_3_acc_3: 0.0279 - dense_3_acc_4: 0.7550 - dense_3_acc_5: 0.1100 - dense_3_acc_6: 0.0221 - dense_3_acc_7: 0.7957 - dense_3_acc_8: 0.0314 - dense_3_acc_9: 0.018 - ETA: 1:26 - loss: 21.9652 - dense_3_loss: 2.8013 - dense_3_acc: 0.0033 - dense_3_acc_1: 0.2260 - dense_3_acc_2: 0.1080 - dense_3_acc_3: 0.0260 - dense_3_acc_4: 0.7713 - dense_3_acc_5: 0.1027 - dense_3_acc_6: 0.0207 - dense_3_acc_7: 0.8093 - dense_3_acc_8: 0.0293 - dense_3_acc_9: 0.017 - ETA: 1:20 - loss: 21.9034 - dense_3_loss: 2.8052 - dense_3_acc: 0.0031 - dense_3_acc_1: 0.2369 - dense_3_acc_2: 0.1181 - dense_3_acc_3: 0.0306 - dense_3_acc_4: 0.7856 - dense_3_acc_5: 0.0963 - dense_3_acc_6: 0.0194 - dense_3_acc_7: 0.8212 - dense_3_acc_8: 0.0275 - dense_3_acc_9: 0.016 - ETA: 1:15 - loss: 21.8417 - dense_3_loss: 2.8091 - dense_3_acc: 0.0029 - dense_3_acc_1: 0.2441 - dense_3_acc_2: 0.1235 - dense_3_acc_3: 0.0359 - dense_3_acc_4: 0.7982 - dense_3_acc_5: 0.0906 - dense_3_acc_6: 0.0182 - dense_3_acc_7: 0.8318 - dense_3_acc_8: 0.0259 - dense_3_acc_9: 0.015 - ETA: 1:10 - loss: 21.7748 - dense_3_loss: 2.8001 - dense_3_acc: 0.0028 - dense_3_acc_1: 0.2556 - dense_3_acc_2: 0.1283 - dense_3_acc_3: 0.0372 - dense_3_acc_4: 0.8094 - dense_3_acc_5: 0.0856 - dense_3_acc_6: 0.0172 - dense_3_acc_7: 0.8411 - dense_3_acc_8: 0.0244 - dense_3_acc_9: 0.014 - ETA: 1:06 - loss: 21.7092 - dense_3_loss: 2.7974 - dense_3_acc: 0.0026 - dense_3_acc_1: 0.2611 - dense_3_acc_2: 0.1300 - dense_3_acc_3: 0.0395 - dense_3_acc_4: 0.8195 - dense_3_acc_5: 0.0811 - dense_3_acc_6: 0.0163 - dense_3_acc_7: 0.8495 - dense_3_acc_8: 0.0232 - dense_3_acc_9: 0.013 - ETA: 1:02 - loss: 21.6507 - dense_3_loss: 2.7976 - dense_3_acc: 0.0025 - dense_3_acc_1: 0.2695 - dense_3_acc_2: 0.1345 - dense_3_acc_3: 0.0400 - dense_3_acc_4: 0.8285 - dense_3_acc_5: 0.0770 - dense_3_acc_6: 0.0155 - dense_3_acc_7: 0.8570 - dense_3_acc_8: 0.0220 - dense_3_acc_9: 0.013 - ETA: 59s - loss: 21.5864 - dense_3_loss: 2.7937 - dense_3_acc: 0.0024 - dense_3_acc_1: 0.2933 - dense_3_acc_2: 0.1410 - dense_3_acc_3: 0.0424 - dense_3_acc_4: 0.8367 - dense_3_acc_5: 0.0733 - dense_3_acc_6: 0.0148 - dense_3_acc_7: 0.8638 - dense_3_acc_8: 0.0210 - dense_3_acc_9: 0.012 - ETA: 56s - loss: 21.5118 - dense_3_loss: 2.7868 - dense_3_acc: 0.0023 - dense_3_acc_1: 0.3073 - dense_3_acc_2: 0.1441 - dense_3_acc_3: 0.0459 - dense_3_acc_4: 0.8441 - dense_3_acc_5: 0.0700 - dense_3_acc_6: 0.0141 - dense_3_acc_7: 0.8700 - dense_3_acc_8: 0.0200 - dense_3_acc_9: 0.01 - ETA: 53s - loss: 21.4501 - dense_3_loss: 2.7929 - dense_3_acc: 0.0022 - dense_3_acc_1: 0.3239 - dense_3_acc_2: 0.1491 - dense_3_acc_3: 0.0491 - dense_3_acc_4: 0.8509 - dense_3_acc_5: 0.0670 - dense_3_acc_6: 0.0135 - dense_3_acc_7: 0.8757 - dense_3_acc_8: 0.0191 - dense_3_acc_9: 0.01 - ETA: 50s - loss: 21.3840 - dense_3_loss: 2.7892 - dense_3_acc: 0.0021 - dense_3_acc_1: 0.3400 - dense_3_acc_2: 0.1529 - dense_3_acc_3: 0.0529 - dense_3_acc_4: 0.8571 - dense_3_acc_5: 0.0642 - dense_3_acc_6: 0.0129 - dense_3_acc_7: 0.8808 - dense_3_acc_8: 0.0183 - dense_3_acc_9: 0.01 - ETA: 48s - loss: 21.3252 - dense_3_loss: 2.7849 - dense_3_acc: 0.0020 - dense_3_acc_1: 0.3532 - dense_3_acc_2: 0.1584 - dense_3_acc_3: 0.0508 - dense_3_acc_4: 0.8628 - dense_3_acc_5: 0.0616 - dense_3_acc_6: 0.0124 - dense_3_acc_7: 0.8856 - dense_3_acc_8: 0.0316 - dense_3_acc_9: 0.01 - ETA: 46s - loss: 21.2649 - dense_3_loss: 2.7783 - dense_3_acc: 0.0019 - dense_3_acc_1: 0.3658 - dense_3_acc_2: 0.1585 - dense_3_acc_3: 0.0488 - dense_3_acc_4: 0.8681 - dense_3_acc_5: 0.0592 - dense_3_acc_6: 0.0119 - dense_3_acc_7: 0.8900 - dense_3_acc_8: 0.0431 - dense_3_acc_9: 0.01 - ETA: 44s - loss: 21.2126 - dense_3_loss: 2.7751 - dense_3_acc: 0.0019 - dense_3_acc_1: 0.3756 - dense_3_acc_2: 0.1604 - dense_3_acc_3: 0.0470 - dense_3_acc_4: 0.8730 - dense_3_acc_5: 0.0570 - dense_3_acc_6: 0.0115 - dense_3_acc_7: 0.8941 - dense_3_acc_8: 0.0474 - dense_3_acc_9: 0.02 - ETA: 42s - loss: 21.1552 - dense_3_loss: 2.7725 - dense_3_acc: 0.0018 - dense_3_acc_1: 0.3850 - dense_3_acc_2: 0.1621 - dense_3_acc_3: 0.0454 - dense_3_acc_4: 0.8775 - dense_3_acc_5: 0.0550 - dense_3_acc_6: 0.0111 - dense_3_acc_7: 0.8979 - dense_3_acc_8: 0.0461 - dense_3_acc_9: 0.02 - ETA: 40s - loss: 21.0987 - dense_3_loss: 2.7695 - dense_3_acc: 0.0017 - dense_3_acc_1: 0.3924 - dense_3_acc_2: 0.1652 - dense_3_acc_3: 0.0438 - dense_3_acc_4: 0.8817 - dense_3_acc_5: 0.0531 - dense_3_acc_6: 0.0107 - dense_3_acc_7: 0.9014 - dense_3_acc_8: 0.0445 - dense_3_acc_9: 0.0286"
     ]
    },
    {
     "name": "stdout",
     "output_type": "stream",
     "text": [
      " 5800/10000 [================>.............] - ETA: 38s - loss: 21.0397 - dense_3_loss: 2.7636 - dense_3_acc: 0.0017 - dense_3_acc_1: 0.4000 - dense_3_acc_2: 0.1680 - dense_3_acc_3: 0.0423 - dense_3_acc_4: 0.8857 - dense_3_acc_5: 0.0513 - dense_3_acc_6: 0.0103 - dense_3_acc_7: 0.9047 - dense_3_acc_8: 0.0573 - dense_3_acc_9: 0.03 - ETA: 36s - loss: 20.9963 - dense_3_loss: 2.7656 - dense_3_acc: 0.0016 - dense_3_acc_1: 0.4042 - dense_3_acc_2: 0.1687 - dense_3_acc_3: 0.0410 - dense_3_acc_4: 0.8894 - dense_3_acc_5: 0.0497 - dense_3_acc_6: 0.0100 - dense_3_acc_7: 0.9077 - dense_3_acc_8: 0.0681 - dense_3_acc_9: 0.03 - ETA: 35s - loss: 20.9412 - dense_3_loss: 2.7593 - dense_3_acc: 0.0016 - dense_3_acc_1: 0.4128 - dense_3_acc_2: 0.1697 - dense_3_acc_3: 0.0397 - dense_3_acc_4: 0.8928 - dense_3_acc_5: 0.0481 - dense_3_acc_6: 0.0097 - dense_3_acc_7: 0.9106 - dense_3_acc_8: 0.0716 - dense_3_acc_9: 0.03 - ETA: 34s - loss: 20.9019 - dense_3_loss: 2.7574 - dense_3_acc: 0.0015 - dense_3_acc_1: 0.4164 - dense_3_acc_2: 0.1703 - dense_3_acc_3: 0.0412 - dense_3_acc_4: 0.8961 - dense_3_acc_5: 0.0467 - dense_3_acc_6: 0.0094 - dense_3_acc_7: 0.9133 - dense_3_acc_8: 0.0697 - dense_3_acc_9: 0.04 - ETA: 32s - loss: 20.8437 - dense_3_loss: 2.7559 - dense_3_acc: 0.0015 - dense_3_acc_1: 0.4232 - dense_3_acc_2: 0.1712 - dense_3_acc_3: 0.0429 - dense_3_acc_4: 0.8991 - dense_3_acc_5: 0.0453 - dense_3_acc_6: 0.0091 - dense_3_acc_7: 0.9159 - dense_3_acc_8: 0.0779 - dense_3_acc_9: 0.04 - ETA: 31s - loss: 20.7961 - dense_3_loss: 2.7588 - dense_3_acc: 0.0014 - dense_3_acc_1: 0.4306 - dense_3_acc_2: 0.1760 - dense_3_acc_3: 0.0429 - dense_3_acc_4: 0.9020 - dense_3_acc_5: 0.0440 - dense_3_acc_6: 0.0089 - dense_3_acc_7: 0.9180 - dense_3_acc_8: 0.0834 - dense_3_acc_9: 0.04 - ETA: 30s - loss: 20.7502 - dense_3_loss: 2.7629 - dense_3_acc: 0.0014 - dense_3_acc_1: 0.4347 - dense_3_acc_2: 0.1794 - dense_3_acc_3: 0.0419 - dense_3_acc_4: 0.9047 - dense_3_acc_5: 0.0428 - dense_3_acc_6: 0.0086 - dense_3_acc_7: 0.9203 - dense_3_acc_8: 0.0847 - dense_3_acc_9: 0.04 - ETA: 29s - loss: 20.7071 - dense_3_loss: 2.7649 - dense_3_acc: 0.0014 - dense_3_acc_1: 0.4395 - dense_3_acc_2: 0.1805 - dense_3_acc_3: 0.0432 - dense_3_acc_4: 0.9073 - dense_3_acc_5: 0.0416 - dense_3_acc_6: 0.0084 - dense_3_acc_7: 0.9224 - dense_3_acc_8: 0.0827 - dense_3_acc_9: 0.04 - ETA: 27s - loss: 20.6580 - dense_3_loss: 2.7681 - dense_3_acc: 0.0142 - dense_3_acc_1: 0.4447 - dense_3_acc_2: 0.1874 - dense_3_acc_3: 0.0450 - dense_3_acc_4: 0.9097 - dense_3_acc_5: 0.0405 - dense_3_acc_6: 0.0082 - dense_3_acc_7: 0.9245 - dense_3_acc_8: 0.0847 - dense_3_acc_9: 0.04 - ETA: 26s - loss: 20.6099 - dense_3_loss: 2.7713 - dense_3_acc: 0.0308 - dense_3_acc_1: 0.4503 - dense_3_acc_2: 0.1926 - dense_3_acc_3: 0.0469 - dense_3_acc_4: 0.9121 - dense_3_acc_5: 0.0395 - dense_3_acc_6: 0.0079 - dense_3_acc_7: 0.9264 - dense_3_acc_8: 0.0900 - dense_3_acc_9: 0.04 - ETA: 25s - loss: 20.5608 - dense_3_loss: 2.7754 - dense_3_acc: 0.0458 - dense_3_acc_1: 0.4547 - dense_3_acc_2: 0.1967 - dense_3_acc_3: 0.0488 - dense_3_acc_4: 0.9142 - dense_3_acc_5: 0.0385 - dense_3_acc_6: 0.0077 - dense_3_acc_7: 0.9282 - dense_3_acc_8: 0.0950 - dense_3_acc_9: 0.04 - ETA: 25s - loss: 20.5163 - dense_3_loss: 2.7769 - dense_3_acc: 0.0583 - dense_3_acc_1: 0.4573 - dense_3_acc_2: 0.1973 - dense_3_acc_3: 0.0507 - dense_3_acc_4: 0.9163 - dense_3_acc_5: 0.0376 - dense_3_acc_6: 0.0076 - dense_3_acc_7: 0.9300 - dense_3_acc_8: 0.0951 - dense_3_acc_9: 0.05 - ETA: 24s - loss: 20.4645 - dense_3_loss: 2.7777 - dense_3_acc: 0.0712 - dense_3_acc_1: 0.4607 - dense_3_acc_2: 0.1983 - dense_3_acc_3: 0.0536 - dense_3_acc_4: 0.9183 - dense_3_acc_5: 0.0367 - dense_3_acc_6: 0.0074 - dense_3_acc_7: 0.9317 - dense_3_acc_8: 0.0948 - dense_3_acc_9: 0.05 - ETA: 23s - loss: 20.4199 - dense_3_loss: 2.7782 - dense_3_acc: 0.0837 - dense_3_acc_1: 0.4642 - dense_3_acc_2: 0.2005 - dense_3_acc_3: 0.0547 - dense_3_acc_4: 0.9202 - dense_3_acc_5: 0.0358 - dense_3_acc_6: 0.0072 - dense_3_acc_7: 0.9333 - dense_3_acc_8: 0.0947 - dense_3_acc_9: 0.05 - ETA: 22s - loss: 20.3762 - dense_3_loss: 2.7785 - dense_3_acc: 0.0957 - dense_3_acc_1: 0.4675 - dense_3_acc_2: 0.2009 - dense_3_acc_3: 0.0555 - dense_3_acc_4: 0.9220 - dense_3_acc_5: 0.0350 - dense_3_acc_6: 0.0070 - dense_3_acc_7: 0.9348 - dense_3_acc_8: 0.0950 - dense_3_acc_9: 0.05 - ETA: 21s - loss: 20.3323 - dense_3_loss: 2.7809 - dense_3_acc: 0.1067 - dense_3_acc_1: 0.4702 - dense_3_acc_2: 0.2022 - dense_3_acc_3: 0.0562 - dense_3_acc_4: 0.9238 - dense_3_acc_5: 0.0342 - dense_3_acc_6: 0.0069 - dense_3_acc_7: 0.9362 - dense_3_acc_8: 0.0953 - dense_3_acc_9: 0.05 - ETA: 20s - loss: 20.2862 - dense_3_loss: 2.7810 - dense_3_acc: 0.1174 - dense_3_acc_1: 0.4730 - dense_3_acc_2: 0.2020 - dense_3_acc_3: 0.0561 - dense_3_acc_4: 0.9254 - dense_3_acc_5: 0.0335 - dense_3_acc_6: 0.0067 - dense_3_acc_7: 0.9376 - dense_3_acc_8: 0.0941 - dense_3_acc_9: 0.05 - ETA: 20s - loss: 20.2402 - dense_3_loss: 2.7806 - dense_3_acc: 0.1302 - dense_3_acc_1: 0.4783 - dense_3_acc_2: 0.2028 - dense_3_acc_3: 0.0549 - dense_3_acc_4: 0.9270 - dense_3_acc_5: 0.0328 - dense_3_acc_6: 0.0066 - dense_3_acc_7: 0.9389 - dense_3_acc_8: 0.0930 - dense_3_acc_9: 0.05 - ETA: 19s - loss: 20.1908 - dense_3_loss: 2.7817 - dense_3_acc: 0.1429 - dense_3_acc_1: 0.4838 - dense_3_acc_2: 0.2037 - dense_3_acc_3: 0.0538 - dense_3_acc_4: 0.9285 - dense_3_acc_5: 0.0321 - dense_3_acc_6: 0.0065 - dense_3_acc_7: 0.9402 - dense_3_acc_8: 0.0925 - dense_3_acc_9: 0.05 - ETA: 18s - loss: 20.1466 - dense_3_loss: 2.7794 - dense_3_acc: 0.1529 - dense_3_acc_1: 0.4867 - dense_3_acc_2: 0.2041 - dense_3_acc_3: 0.0529 - dense_3_acc_4: 0.9300 - dense_3_acc_5: 0.0314 - dense_3_acc_6: 0.0063 - dense_3_acc_7: 0.9414 - dense_3_acc_8: 0.0947 - dense_3_acc_9: 0.05 - ETA: 18s - loss: 20.0988 - dense_3_loss: 2.7745 - dense_3_acc: 0.1624 - dense_3_acc_1: 0.4896 - dense_3_acc_2: 0.2036 - dense_3_acc_3: 0.0524 - dense_3_acc_4: 0.9314 - dense_3_acc_5: 0.0308 - dense_3_acc_6: 0.0062 - dense_3_acc_7: 0.9424 - dense_3_acc_8: 0.0972 - dense_3_acc_9: 0.05 - ETA: 17s - loss: 20.0438 - dense_3_loss: 2.7695 - dense_3_acc: 0.1727 - dense_3_acc_1: 0.4935 - dense_3_acc_2: 0.2055 - dense_3_acc_3: 0.0516 - dense_3_acc_4: 0.9327 - dense_3_acc_5: 0.0302 - dense_3_acc_6: 0.0061 - dense_3_acc_7: 0.9414 - dense_3_acc_8: 0.1016 - dense_3_acc_9: 0.06 - ETA: 16s - loss: 19.9915 - dense_3_loss: 2.7657 - dense_3_acc: 0.1823 - dense_3_acc_1: 0.4969 - dense_3_acc_2: 0.2056 - dense_3_acc_3: 0.0513 - dense_3_acc_4: 0.9340 - dense_3_acc_5: 0.0304 - dense_3_acc_6: 0.0065 - dense_3_acc_7: 0.9408 - dense_3_acc_8: 0.1035 - dense_3_acc_9: 0.06 - ETA: 16s - loss: 19.9466 - dense_3_loss: 2.7627 - dense_3_acc: 0.1894 - dense_3_acc_1: 0.4981 - dense_3_acc_2: 0.2072 - dense_3_acc_3: 0.0513 - dense_3_acc_4: 0.9353 - dense_3_acc_5: 0.0330 - dense_3_acc_6: 0.0081 - dense_3_acc_7: 0.9411 - dense_3_acc_8: 0.1034 - dense_3_acc_9: 0.06 - ETA: 15s - loss: 19.9003 - dense_3_loss: 2.7600 - dense_3_acc: 0.1969 - dense_3_acc_1: 0.4998 - dense_3_acc_2: 0.2091 - dense_3_acc_3: 0.0506 - dense_3_acc_4: 0.9365 - dense_3_acc_5: 0.0381 - dense_3_acc_6: 0.0080 - dense_3_acc_7: 0.9422 - dense_3_acc_8: 0.1056 - dense_3_acc_9: 0.06 - ETA: 15s - loss: 19.8507 - dense_3_loss: 2.7596 - dense_3_acc: 0.2035 - dense_3_acc_1: 0.5009 - dense_3_acc_2: 0.2120 - dense_3_acc_3: 0.0502 - dense_3_acc_4: 0.9376 - dense_3_acc_5: 0.0456 - dense_3_acc_6: 0.0078 - dense_3_acc_7: 0.9431 - dense_3_acc_8: 0.1105 - dense_3_acc_9: 0.06 - ETA: 14s - loss: 19.8027 - dense_3_loss: 2.7569 - dense_3_acc: 0.2113 - dense_3_acc_1: 0.5034 - dense_3_acc_2: 0.2132 - dense_3_acc_3: 0.0518 - dense_3_acc_4: 0.9387 - dense_3_acc_5: 0.0491 - dense_3_acc_6: 0.0084 - dense_3_acc_7: 0.9432 - dense_3_acc_8: 0.1114 - dense_3_acc_9: 0.06 - ETA: 14s - loss: 19.7541 - dense_3_loss: 2.7557 - dense_3_acc: 0.2174 - dense_3_acc_1: 0.5044 - dense_3_acc_2: 0.2161 - dense_3_acc_3: 0.0511 - dense_3_acc_4: 0.9398 - dense_3_acc_5: 0.0523 - dense_3_acc_6: 0.0082 - dense_3_acc_7: 0.9442 - dense_3_acc_8: 0.1168 - dense_3_acc_9: 0.06 - ETA: 13s - loss: 19.7076 - dense_3_loss: 2.7545 - dense_3_acc: 0.2222 - dense_3_acc_1: 0.5043 - dense_3_acc_2: 0.2181 - dense_3_acc_3: 0.0502 - dense_3_acc_4: 0.9409 - dense_3_acc_5: 0.0536 - dense_3_acc_6: 0.0081 - dense_3_acc_7: 0.9452 - dense_3_acc_8: 0.1214 - dense_3_acc_9: 0.0674"
     ]
    },
    {
     "name": "stdout",
     "output_type": "stream",
     "text": [
      " 8700/10000 [=========================>....] - ETA: 13s - loss: 19.6605 - dense_3_loss: 2.7522 - dense_3_acc: 0.2292 - dense_3_acc_1: 0.5064 - dense_3_acc_2: 0.2164 - dense_3_acc_3: 0.0510 - dense_3_acc_4: 0.9419 - dense_3_acc_5: 0.0566 - dense_3_acc_6: 0.0097 - dense_3_acc_7: 0.9458 - dense_3_acc_8: 0.1198 - dense_3_acc_9: 0.06 - ETA: 12s - loss: 19.6114 - dense_3_loss: 2.7504 - dense_3_acc: 0.2352 - dense_3_acc_1: 0.5080 - dense_3_acc_2: 0.2177 - dense_3_acc_3: 0.0513 - dense_3_acc_4: 0.9428 - dense_3_acc_5: 0.0668 - dense_3_acc_6: 0.0097 - dense_3_acc_7: 0.9467 - dense_3_acc_8: 0.1183 - dense_3_acc_9: 0.07 - ETA: 12s - loss: 19.5591 - dense_3_loss: 2.7480 - dense_3_acc: 0.2426 - dense_3_acc_1: 0.5118 - dense_3_acc_2: 0.2207 - dense_3_acc_3: 0.0508 - dense_3_acc_4: 0.9438 - dense_3_acc_5: 0.0779 - dense_3_acc_6: 0.0095 - dense_3_acc_7: 0.9475 - dense_3_acc_8: 0.1192 - dense_3_acc_9: 0.07 - ETA: 11s - loss: 19.5032 - dense_3_loss: 2.7447 - dense_3_acc: 0.2498 - dense_3_acc_1: 0.5147 - dense_3_acc_2: 0.2221 - dense_3_acc_3: 0.0510 - dense_3_acc_4: 0.9447 - dense_3_acc_5: 0.0892 - dense_3_acc_6: 0.0102 - dense_3_acc_7: 0.9484 - dense_3_acc_8: 0.1194 - dense_3_acc_9: 0.07 - ETA: 11s - loss: 19.4481 - dense_3_loss: 2.7403 - dense_3_acc: 0.2556 - dense_3_acc_1: 0.5162 - dense_3_acc_2: 0.2225 - dense_3_acc_3: 0.0513 - dense_3_acc_4: 0.9456 - dense_3_acc_5: 0.0984 - dense_3_acc_6: 0.0119 - dense_3_acc_7: 0.9489 - dense_3_acc_8: 0.1187 - dense_3_acc_9: 0.07 - ETA: 10s - loss: 19.3908 - dense_3_loss: 2.7374 - dense_3_acc: 0.2609 - dense_3_acc_1: 0.5175 - dense_3_acc_2: 0.2225 - dense_3_acc_3: 0.0511 - dense_3_acc_4: 0.9464 - dense_3_acc_5: 0.1084 - dense_3_acc_6: 0.0119 - dense_3_acc_7: 0.9497 - dense_3_acc_8: 0.1217 - dense_3_acc_9: 0.07 - ETA: 10s - loss: 19.3330 - dense_3_loss: 2.7336 - dense_3_acc: 0.2674 - dense_3_acc_1: 0.5200 - dense_3_acc_2: 0.2231 - dense_3_acc_3: 0.0505 - dense_3_acc_4: 0.9472 - dense_3_acc_5: 0.1183 - dense_3_acc_6: 0.0117 - dense_3_acc_7: 0.9505 - dense_3_acc_8: 0.1257 - dense_3_acc_9: 0.07 - ETA: 10s - loss: 19.2704 - dense_3_loss: 2.7299 - dense_3_acc: 0.2733 - dense_3_acc_1: 0.5221 - dense_3_acc_2: 0.2236 - dense_3_acc_3: 0.0506 - dense_3_acc_4: 0.9480 - dense_3_acc_5: 0.1268 - dense_3_acc_6: 0.0117 - dense_3_acc_7: 0.9512 - dense_3_acc_8: 0.1261 - dense_3_acc_9: 0.07 - ETA: 9s - loss: 19.2087 - dense_3_loss: 2.7263 - dense_3_acc: 0.2796 - dense_3_acc_1: 0.5246 - dense_3_acc_2: 0.2242 - dense_3_acc_3: 0.0516 - dense_3_acc_4: 0.9488 - dense_3_acc_5: 0.1358 - dense_3_acc_6: 0.0125 - dense_3_acc_7: 0.9519 - dense_3_acc_8: 0.1246 - dense_3_acc_9: 0.0734 - ETA: 9s - loss: 19.1462 - dense_3_loss: 2.7233 - dense_3_acc: 0.2847 - dense_3_acc_1: 0.5262 - dense_3_acc_2: 0.2251 - dense_3_acc_3: 0.0513 - dense_3_acc_4: 0.9496 - dense_3_acc_5: 0.1453 - dense_3_acc_6: 0.0126 - dense_3_acc_7: 0.9526 - dense_3_acc_8: 0.1274 - dense_3_acc_9: 0.073 - ETA: 8s - loss: 19.0843 - dense_3_loss: 2.7190 - dense_3_acc: 0.2888 - dense_3_acc_1: 0.5268 - dense_3_acc_2: 0.2264 - dense_3_acc_3: 0.0510 - dense_3_acc_4: 0.9503 - dense_3_acc_5: 0.1541 - dense_3_acc_6: 0.0128 - dense_3_acc_7: 0.9533 - dense_3_acc_8: 0.1313 - dense_3_acc_9: 0.074 - ETA: 8s - loss: 19.0143 - dense_3_loss: 2.7149 - dense_3_acc: 0.2939 - dense_3_acc_1: 0.5289 - dense_3_acc_2: 0.2270 - dense_3_acc_3: 0.0529 - dense_3_acc_4: 0.9510 - dense_3_acc_5: 0.1623 - dense_3_acc_6: 0.0143 - dense_3_acc_7: 0.9540 - dense_3_acc_8: 0.1346 - dense_3_acc_9: 0.075 - ETA: 8s - loss: 18.9479 - dense_3_loss: 2.7120 - dense_3_acc: 0.2973 - dense_3_acc_1: 0.5294 - dense_3_acc_2: 0.2275 - dense_3_acc_3: 0.0531 - dense_3_acc_4: 0.9517 - dense_3_acc_5: 0.1706 - dense_3_acc_6: 0.0149 - dense_3_acc_7: 0.9546 - dense_3_acc_8: 0.1368 - dense_3_acc_9: 0.076 - ETA: 7s - loss: 18.8717 - dense_3_loss: 2.7068 - dense_3_acc: 0.3035 - dense_3_acc_1: 0.5325 - dense_3_acc_2: 0.2283 - dense_3_acc_3: 0.0529 - dense_3_acc_4: 0.9524 - dense_3_acc_5: 0.1790 - dense_3_acc_6: 0.0151 - dense_3_acc_7: 0.9553 - dense_3_acc_8: 0.1394 - dense_3_acc_9: 0.077 - ETA: 7s - loss: 18.7973 - dense_3_loss: 2.7031 - dense_3_acc: 0.3079 - dense_3_acc_1: 0.5348 - dense_3_acc_2: 0.2285 - dense_3_acc_3: 0.0529 - dense_3_acc_4: 0.9530 - dense_3_acc_5: 0.1856 - dense_3_acc_6: 0.0151 - dense_3_acc_7: 0.9559 - dense_3_acc_8: 0.1425 - dense_3_acc_9: 0.076 - ETA: 7s - loss: 18.7211 - dense_3_loss: 2.6987 - dense_3_acc: 0.3116 - dense_3_acc_1: 0.5373 - dense_3_acc_2: 0.2301 - dense_3_acc_3: 0.0538 - dense_3_acc_4: 0.9536 - dense_3_acc_5: 0.1934 - dense_3_acc_6: 0.0155 - dense_3_acc_7: 0.9565 - dense_3_acc_8: 0.1469 - dense_3_acc_9: 0.076 - ETA: 6s - loss: 18.6454 - dense_3_loss: 2.6941 - dense_3_acc: 0.3157 - dense_3_acc_1: 0.5411 - dense_3_acc_2: 0.2329 - dense_3_acc_3: 0.0540 - dense_3_acc_4: 0.9543 - dense_3_acc_5: 0.2017 - dense_3_acc_6: 0.0157 - dense_3_acc_7: 0.9571 - dense_3_acc_8: 0.1492 - dense_3_acc_9: 0.076 - ETA: 6s - loss: 18.5694 - dense_3_loss: 2.6906 - dense_3_acc: 0.3192 - dense_3_acc_1: 0.5453 - dense_3_acc_2: 0.2341 - dense_3_acc_3: 0.0554 - dense_3_acc_4: 0.9549 - dense_3_acc_5: 0.2088 - dense_3_acc_6: 0.0167 - dense_3_acc_7: 0.9576 - dense_3_acc_8: 0.1521 - dense_3_acc_9: 0.076 - ETA: 6s - loss: 18.4935 - dense_3_loss: 2.6866 - dense_3_acc: 0.3223 - dense_3_acc_1: 0.5488 - dense_3_acc_2: 0.2364 - dense_3_acc_3: 0.0561 - dense_3_acc_4: 0.9555 - dense_3_acc_5: 0.2158 - dense_3_acc_6: 0.0166 - dense_3_acc_7: 0.9582 - dense_3_acc_8: 0.1545 - dense_3_acc_9: 0.076 - ETA: 5s - loss: 18.4166 - dense_3_loss: 2.6816 - dense_3_acc: 0.3262 - dense_3_acc_1: 0.5531 - dense_3_acc_2: 0.2381 - dense_3_acc_3: 0.0564 - dense_3_acc_4: 0.9560 - dense_3_acc_5: 0.2235 - dense_3_acc_6: 0.0165 - dense_3_acc_7: 0.9587 - dense_3_acc_8: 0.1565 - dense_3_acc_9: 0.077 - ETA: 5s - loss: 18.3421 - dense_3_loss: 2.6771 - dense_3_acc: 0.3289 - dense_3_acc_1: 0.5575 - dense_3_acc_2: 0.2401 - dense_3_acc_3: 0.0573 - dense_3_acc_4: 0.9566 - dense_3_acc_5: 0.2292 - dense_3_acc_6: 0.0184 - dense_3_acc_7: 0.9592 - dense_3_acc_8: 0.1592 - dense_3_acc_9: 0.077 - ETA: 5s - loss: 18.2676 - dense_3_loss: 2.6721 - dense_3_acc: 0.3324 - dense_3_acc_1: 0.5614 - dense_3_acc_2: 0.2415 - dense_3_acc_3: 0.0579 - dense_3_acc_4: 0.9571 - dense_3_acc_5: 0.2360 - dense_3_acc_6: 0.0190 - dense_3_acc_7: 0.9598 - dense_3_acc_8: 0.1611 - dense_3_acc_9: 0.079 - ETA: 4s - loss: 18.1890 - dense_3_loss: 2.6674 - dense_3_acc: 0.3351 - dense_3_acc_1: 0.5664 - dense_3_acc_2: 0.2437 - dense_3_acc_3: 0.0593 - dense_3_acc_4: 0.9577 - dense_3_acc_5: 0.2430 - dense_3_acc_6: 0.0196 - dense_3_acc_7: 0.9602 - dense_3_acc_8: 0.1638 - dense_3_acc_9: 0.079 - ETA: 4s - loss: 18.1125 - dense_3_loss: 2.6629 - dense_3_acc: 0.3380 - dense_3_acc_1: 0.5705 - dense_3_acc_2: 0.2450 - dense_3_acc_3: 0.0595 - dense_3_acc_4: 0.9582 - dense_3_acc_5: 0.2494 - dense_3_acc_6: 0.0213 - dense_3_acc_7: 0.9607 - dense_3_acc_8: 0.1668 - dense_3_acc_9: 0.079 - ETA: 4s - loss: 18.0367 - dense_3_loss: 2.6581 - dense_3_acc: 0.3413 - dense_3_acc_1: 0.5751 - dense_3_acc_2: 0.2466 - dense_3_acc_3: 0.0602 - dense_3_acc_4: 0.9587 - dense_3_acc_5: 0.2551 - dense_3_acc_6: 0.0228 - dense_3_acc_7: 0.9612 - dense_3_acc_8: 0.1688 - dense_3_acc_9: 0.080 - ETA: 3s - loss: 17.9626 - dense_3_loss: 2.6545 - dense_3_acc: 0.3439 - dense_3_acc_1: 0.5794 - dense_3_acc_2: 0.2494 - dense_3_acc_3: 0.0604 - dense_3_acc_4: 0.9592 - dense_3_acc_5: 0.2612 - dense_3_acc_6: 0.0244 - dense_3_acc_7: 0.9617 - dense_3_acc_8: 0.1707 - dense_3_acc_9: 0.080 - ETA: 3s - loss: 17.8903 - dense_3_loss: 2.6506 - dense_3_acc: 0.3474 - dense_3_acc_1: 0.5836 - dense_3_acc_2: 0.2508 - dense_3_acc_3: 0.0607 - dense_3_acc_4: 0.9596 - dense_3_acc_5: 0.2676 - dense_3_acc_6: 0.0251 - dense_3_acc_7: 0.9621 - dense_3_acc_8: 0.1724 - dense_3_acc_9: 0.080 - ETA: 3s - loss: 17.8169 - dense_3_loss: 2.6466 - dense_3_acc: 0.3509 - dense_3_acc_1: 0.5873 - dense_3_acc_2: 0.2522 - dense_3_acc_3: 0.0612 - dense_3_acc_4: 0.9601 - dense_3_acc_5: 0.2736 - dense_3_acc_6: 0.0269 - dense_3_acc_7: 0.9626 - dense_3_acc_8: 0.1752 - dense_3_acc_9: 0.081 - ETA: 3s - loss: 17.7448 - dense_3_loss: 2.6425 - dense_3_acc: 0.3543 - dense_3_acc_1: 0.5914 - dense_3_acc_2: 0.2540 - dense_3_acc_3: 0.0611 - dense_3_acc_4: 0.9606 - dense_3_acc_5: 0.2798 - dense_3_acc_6: 0.0282 - dense_3_acc_7: 0.9630 - dense_3_acc_8: 0.1771 - dense_3_acc_9: 0.0817"
     ]
    },
    {
     "name": "stdout",
     "output_type": "stream",
     "text": [
      "10000/10000 [==============================] - ETA: 2s - loss: 17.6747 - dense_3_loss: 2.6394 - dense_3_acc: 0.3591 - dense_3_acc_1: 0.5950 - dense_3_acc_2: 0.2551 - dense_3_acc_3: 0.0619 - dense_3_acc_4: 0.9610 - dense_3_acc_5: 0.2847 - dense_3_acc_6: 0.0299 - dense_3_acc_7: 0.9634 - dense_3_acc_8: 0.1802 - dense_3_acc_9: 0.082 - ETA: 2s - loss: 17.6041 - dense_3_loss: 2.6355 - dense_3_acc: 0.3642 - dense_3_acc_1: 0.5987 - dense_3_acc_2: 0.2570 - dense_3_acc_3: 0.0618 - dense_3_acc_4: 0.9615 - dense_3_acc_5: 0.2894 - dense_3_acc_6: 0.0319 - dense_3_acc_7: 0.9638 - dense_3_acc_8: 0.1826 - dense_3_acc_9: 0.083 - ETA: 2s - loss: 17.5356 - dense_3_loss: 2.6317 - dense_3_acc: 0.3702 - dense_3_acc_1: 0.6008 - dense_3_acc_2: 0.2571 - dense_3_acc_3: 0.0621 - dense_3_acc_4: 0.9619 - dense_3_acc_5: 0.2948 - dense_3_acc_6: 0.0339 - dense_3_acc_7: 0.9642 - dense_3_acc_8: 0.1843 - dense_3_acc_9: 0.083 - ETA: 2s - loss: 17.4696 - dense_3_loss: 2.6280 - dense_3_acc: 0.3741 - dense_3_acc_1: 0.6037 - dense_3_acc_2: 0.2576 - dense_3_acc_3: 0.0634 - dense_3_acc_4: 0.9623 - dense_3_acc_5: 0.2987 - dense_3_acc_6: 0.0359 - dense_3_acc_7: 0.9646 - dense_3_acc_8: 0.1864 - dense_3_acc_9: 0.083 - ETA: 1s - loss: 17.4039 - dense_3_loss: 2.6244 - dense_3_acc: 0.3777 - dense_3_acc_1: 0.6063 - dense_3_acc_2: 0.2585 - dense_3_acc_3: 0.0639 - dense_3_acc_4: 0.9627 - dense_3_acc_5: 0.3042 - dense_3_acc_6: 0.0376 - dense_3_acc_7: 0.9650 - dense_3_acc_8: 0.1876 - dense_3_acc_9: 0.084 - ETA: 1s - loss: 17.3412 - dense_3_loss: 2.6209 - dense_3_acc: 0.3832 - dense_3_acc_1: 0.6078 - dense_3_acc_2: 0.2591 - dense_3_acc_3: 0.0644 - dense_3_acc_4: 0.9631 - dense_3_acc_5: 0.3084 - dense_3_acc_6: 0.0392 - dense_3_acc_7: 0.9654 - dense_3_acc_8: 0.1891 - dense_3_acc_9: 0.086 - ETA: 1s - loss: 17.2772 - dense_3_loss: 2.6172 - dense_3_acc: 0.3890 - dense_3_acc_1: 0.6090 - dense_3_acc_2: 0.2597 - dense_3_acc_3: 0.0657 - dense_3_acc_4: 0.9635 - dense_3_acc_5: 0.3122 - dense_3_acc_6: 0.0412 - dense_3_acc_7: 0.9657 - dense_3_acc_8: 0.1911 - dense_3_acc_9: 0.087 - ETA: 1s - loss: 17.2139 - dense_3_loss: 2.6133 - dense_3_acc: 0.3933 - dense_3_acc_1: 0.6124 - dense_3_acc_2: 0.2615 - dense_3_acc_3: 0.0662 - dense_3_acc_4: 0.9639 - dense_3_acc_5: 0.3168 - dense_3_acc_6: 0.0422 - dense_3_acc_7: 0.9661 - dense_3_acc_8: 0.1928 - dense_3_acc_9: 0.087 - ETA: 0s - loss: 17.1539 - dense_3_loss: 2.6099 - dense_3_acc: 0.3955 - dense_3_acc_1: 0.6145 - dense_3_acc_2: 0.2629 - dense_3_acc_3: 0.0664 - dense_3_acc_4: 0.9643 - dense_3_acc_5: 0.3211 - dense_3_acc_6: 0.0443 - dense_3_acc_7: 0.9665 - dense_3_acc_8: 0.1940 - dense_3_acc_9: 0.088 - ETA: 0s - loss: 17.0962 - dense_3_loss: 2.6066 - dense_3_acc: 0.3975 - dense_3_acc_1: 0.6162 - dense_3_acc_2: 0.2645 - dense_3_acc_3: 0.0673 - dense_3_acc_4: 0.9646 - dense_3_acc_5: 0.3262 - dense_3_acc_6: 0.0456 - dense_3_acc_7: 0.9668 - dense_3_acc_8: 0.1961 - dense_3_acc_9: 0.089 - ETA: 0s - loss: 17.0327 - dense_3_loss: 2.6036 - dense_3_acc: 0.4015 - dense_3_acc_1: 0.6194 - dense_3_acc_2: 0.2654 - dense_3_acc_3: 0.0681 - dense_3_acc_4: 0.9650 - dense_3_acc_5: 0.3307 - dense_3_acc_6: 0.0474 - dense_3_acc_7: 0.9671 - dense_3_acc_8: 0.1978 - dense_3_acc_9: 0.089 - ETA: 0s - loss: 16.9717 - dense_3_loss: 2.6005 - dense_3_acc: 0.4072 - dense_3_acc_1: 0.6218 - dense_3_acc_2: 0.2668 - dense_3_acc_3: 0.0683 - dense_3_acc_4: 0.9654 - dense_3_acc_5: 0.3351 - dense_3_acc_6: 0.0487 - dense_3_acc_7: 0.9675 - dense_3_acc_8: 0.1999 - dense_3_acc_9: 0.089 - 22s 2ms/step - loss: 16.9160 - dense_3_loss: 2.5970 - dense_3_acc: 0.4127 - dense_3_acc_1: 0.6231 - dense_3_acc_2: 0.2673 - dense_3_acc_3: 0.0685 - dense_3_acc_4: 0.9657 - dense_3_acc_5: 0.3388 - dense_3_acc_6: 0.0502 - dense_3_acc_7: 0.9678 - dense_3_acc_8: 0.2021 - dense_3_acc_9: 0.0901\n"
     ]
    },
    {
     "data": {
      "text/plain": [
       "<keras.callbacks.History at 0x2595843e4a8>"
      ]
     },
     "execution_count": 14,
     "metadata": {},
     "output_type": "execute_result"
    }
   ],
   "source": [
    "model.fit([Xoh, s0, c0], outputs, epochs=1, batch_size=100)"
   ]
  },
  {
   "cell_type": "markdown",
   "metadata": {},
   "source": [
    "While training you can see the loss as well as the accuracy on each of the 10 positions of the output. The table below gives you an example of what the accuracies could be if the batch had 2 examples: \n",
    "\n",
    "<img src=\"images/table.png\" style=\"width:700;height:200px;\"> <br>\n",
    "<caption><center>Thus, `dense_2_acc_8: 0.89` means that you are predicting the 7th character of the output correctly 89% of the time in the current batch of data. </center></caption>\n",
    "\n",
    "\n",
    "We have run this model for longer, and saved the weights. Run the next cell to load our weights. (By training a model for several minutes, you should be able to obtain a model of similar accuracy, but loading our model will save you time.) "
   ]
  },
  {
   "cell_type": "code",
   "execution_count": 15,
   "metadata": {},
   "outputs": [],
   "source": [
    "model.load_weights('models/model.h5')"
   ]
  },
  {
   "cell_type": "markdown",
   "metadata": {},
   "source": [
    "You can now see the results on new examples."
   ]
  },
  {
   "cell_type": "code",
   "execution_count": 16,
   "metadata": {},
   "outputs": [
    {
     "ename": "ValueError",
     "evalue": "Error when checking input: expected input_1 to have 3 dimensions, but got array with shape (37, 30)",
     "output_type": "error",
     "traceback": [
      "\u001b[1;31m---------------------------------------------------------------------------\u001b[0m",
      "\u001b[1;31mValueError\u001b[0m                                Traceback (most recent call last)",
      "\u001b[1;32m<ipython-input-16-ac7ef602615d>\u001b[0m in \u001b[0;36m<module>\u001b[1;34m\u001b[0m\n\u001b[0;32m      4\u001b[0m     \u001b[0msource\u001b[0m \u001b[1;33m=\u001b[0m \u001b[0mstring_to_int\u001b[0m\u001b[1;33m(\u001b[0m\u001b[0mexample\u001b[0m\u001b[1;33m,\u001b[0m \u001b[0mTx\u001b[0m\u001b[1;33m,\u001b[0m \u001b[0mhuman_vocab\u001b[0m\u001b[1;33m)\u001b[0m\u001b[1;33m\u001b[0m\u001b[1;33m\u001b[0m\u001b[0m\n\u001b[0;32m      5\u001b[0m     \u001b[0msource\u001b[0m \u001b[1;33m=\u001b[0m \u001b[0mnp\u001b[0m\u001b[1;33m.\u001b[0m\u001b[0marray\u001b[0m\u001b[1;33m(\u001b[0m\u001b[0mlist\u001b[0m\u001b[1;33m(\u001b[0m\u001b[0mmap\u001b[0m\u001b[1;33m(\u001b[0m\u001b[1;32mlambda\u001b[0m \u001b[0mx\u001b[0m\u001b[1;33m:\u001b[0m \u001b[0mto_categorical\u001b[0m\u001b[1;33m(\u001b[0m\u001b[0mx\u001b[0m\u001b[1;33m,\u001b[0m \u001b[0mnum_classes\u001b[0m\u001b[1;33m=\u001b[0m\u001b[0mlen\u001b[0m\u001b[1;33m(\u001b[0m\u001b[0mhuman_vocab\u001b[0m\u001b[1;33m)\u001b[0m\u001b[1;33m)\u001b[0m\u001b[1;33m,\u001b[0m \u001b[0msource\u001b[0m\u001b[1;33m)\u001b[0m\u001b[1;33m)\u001b[0m\u001b[1;33m)\u001b[0m\u001b[1;33m.\u001b[0m\u001b[0mswapaxes\u001b[0m\u001b[1;33m(\u001b[0m\u001b[1;36m0\u001b[0m\u001b[1;33m,\u001b[0m\u001b[1;36m1\u001b[0m\u001b[1;33m)\u001b[0m\u001b[1;33m\u001b[0m\u001b[1;33m\u001b[0m\u001b[0m\n\u001b[1;32m----> 6\u001b[1;33m     \u001b[0mprediction\u001b[0m \u001b[1;33m=\u001b[0m \u001b[0mmodel\u001b[0m\u001b[1;33m.\u001b[0m\u001b[0mpredict\u001b[0m\u001b[1;33m(\u001b[0m\u001b[1;33m[\u001b[0m\u001b[0msource\u001b[0m\u001b[1;33m,\u001b[0m \u001b[0ms0\u001b[0m\u001b[1;33m,\u001b[0m \u001b[0mc0\u001b[0m\u001b[1;33m]\u001b[0m\u001b[1;33m)\u001b[0m\u001b[1;33m\u001b[0m\u001b[1;33m\u001b[0m\u001b[0m\n\u001b[0m\u001b[0;32m      7\u001b[0m     \u001b[0mprediction\u001b[0m \u001b[1;33m=\u001b[0m \u001b[0mnp\u001b[0m\u001b[1;33m.\u001b[0m\u001b[0margmax\u001b[0m\u001b[1;33m(\u001b[0m\u001b[0mprediction\u001b[0m\u001b[1;33m,\u001b[0m \u001b[0maxis\u001b[0m \u001b[1;33m=\u001b[0m \u001b[1;33m-\u001b[0m\u001b[1;36m1\u001b[0m\u001b[1;33m)\u001b[0m\u001b[1;33m\u001b[0m\u001b[1;33m\u001b[0m\u001b[0m\n\u001b[0;32m      8\u001b[0m     \u001b[0moutput\u001b[0m \u001b[1;33m=\u001b[0m \u001b[1;33m[\u001b[0m\u001b[0minv_machine_vocab\u001b[0m\u001b[1;33m[\u001b[0m\u001b[0mint\u001b[0m\u001b[1;33m(\u001b[0m\u001b[0mi\u001b[0m\u001b[1;33m)\u001b[0m\u001b[1;33m]\u001b[0m \u001b[1;32mfor\u001b[0m \u001b[0mi\u001b[0m \u001b[1;32min\u001b[0m \u001b[0mprediction\u001b[0m\u001b[1;33m]\u001b[0m\u001b[1;33m\u001b[0m\u001b[1;33m\u001b[0m\u001b[0m\n",
      "\u001b[1;32mC:\\Anaconda3\\lib\\site-packages\\keras\\engine\\training.py\u001b[0m in \u001b[0;36mpredict\u001b[1;34m(self, x, batch_size, verbose, steps)\u001b[0m\n\u001b[0;32m   1147\u001b[0m                              'argument.')\n\u001b[0;32m   1148\u001b[0m         \u001b[1;31m# Validate user data.\u001b[0m\u001b[1;33m\u001b[0m\u001b[1;33m\u001b[0m\u001b[1;33m\u001b[0m\u001b[0m\n\u001b[1;32m-> 1149\u001b[1;33m         \u001b[0mx\u001b[0m\u001b[1;33m,\u001b[0m \u001b[0m_\u001b[0m\u001b[1;33m,\u001b[0m \u001b[0m_\u001b[0m \u001b[1;33m=\u001b[0m \u001b[0mself\u001b[0m\u001b[1;33m.\u001b[0m\u001b[0m_standardize_user_data\u001b[0m\u001b[1;33m(\u001b[0m\u001b[0mx\u001b[0m\u001b[1;33m)\u001b[0m\u001b[1;33m\u001b[0m\u001b[1;33m\u001b[0m\u001b[0m\n\u001b[0m\u001b[0;32m   1150\u001b[0m         \u001b[1;32mif\u001b[0m \u001b[0mself\u001b[0m\u001b[1;33m.\u001b[0m\u001b[0mstateful\u001b[0m\u001b[1;33m:\u001b[0m\u001b[1;33m\u001b[0m\u001b[1;33m\u001b[0m\u001b[0m\n\u001b[0;32m   1151\u001b[0m             \u001b[1;32mif\u001b[0m \u001b[0mx\u001b[0m\u001b[1;33m[\u001b[0m\u001b[1;36m0\u001b[0m\u001b[1;33m]\u001b[0m\u001b[1;33m.\u001b[0m\u001b[0mshape\u001b[0m\u001b[1;33m[\u001b[0m\u001b[1;36m0\u001b[0m\u001b[1;33m]\u001b[0m \u001b[1;33m>\u001b[0m \u001b[0mbatch_size\u001b[0m \u001b[1;32mand\u001b[0m \u001b[0mx\u001b[0m\u001b[1;33m[\u001b[0m\u001b[1;36m0\u001b[0m\u001b[1;33m]\u001b[0m\u001b[1;33m.\u001b[0m\u001b[0mshape\u001b[0m\u001b[1;33m[\u001b[0m\u001b[1;36m0\u001b[0m\u001b[1;33m]\u001b[0m \u001b[1;33m%\u001b[0m \u001b[0mbatch_size\u001b[0m \u001b[1;33m!=\u001b[0m \u001b[1;36m0\u001b[0m\u001b[1;33m:\u001b[0m\u001b[1;33m\u001b[0m\u001b[1;33m\u001b[0m\u001b[0m\n",
      "\u001b[1;32mC:\\Anaconda3\\lib\\site-packages\\keras\\engine\\training.py\u001b[0m in \u001b[0;36m_standardize_user_data\u001b[1;34m(self, x, y, sample_weight, class_weight, check_array_lengths, batch_size)\u001b[0m\n\u001b[0;32m    749\u001b[0m             \u001b[0mfeed_input_shapes\u001b[0m\u001b[1;33m,\u001b[0m\u001b[1;33m\u001b[0m\u001b[1;33m\u001b[0m\u001b[0m\n\u001b[0;32m    750\u001b[0m             \u001b[0mcheck_batch_axis\u001b[0m\u001b[1;33m=\u001b[0m\u001b[1;32mFalse\u001b[0m\u001b[1;33m,\u001b[0m  \u001b[1;31m# Don't enforce the batch size.\u001b[0m\u001b[1;33m\u001b[0m\u001b[1;33m\u001b[0m\u001b[0m\n\u001b[1;32m--> 751\u001b[1;33m             exception_prefix='input')\n\u001b[0m\u001b[0;32m    752\u001b[0m \u001b[1;33m\u001b[0m\u001b[0m\n\u001b[0;32m    753\u001b[0m         \u001b[1;32mif\u001b[0m \u001b[0my\u001b[0m \u001b[1;32mis\u001b[0m \u001b[1;32mnot\u001b[0m \u001b[1;32mNone\u001b[0m\u001b[1;33m:\u001b[0m\u001b[1;33m\u001b[0m\u001b[1;33m\u001b[0m\u001b[0m\n",
      "\u001b[1;32mC:\\Anaconda3\\lib\\site-packages\\keras\\engine\\training_utils.py\u001b[0m in \u001b[0;36mstandardize_input_data\u001b[1;34m(data, names, shapes, check_batch_axis, exception_prefix)\u001b[0m\n\u001b[0;32m    126\u001b[0m                         \u001b[1;34m': expected '\u001b[0m \u001b[1;33m+\u001b[0m \u001b[0mnames\u001b[0m\u001b[1;33m[\u001b[0m\u001b[0mi\u001b[0m\u001b[1;33m]\u001b[0m \u001b[1;33m+\u001b[0m \u001b[1;34m' to have '\u001b[0m \u001b[1;33m+\u001b[0m\u001b[1;33m\u001b[0m\u001b[1;33m\u001b[0m\u001b[0m\n\u001b[0;32m    127\u001b[0m                         \u001b[0mstr\u001b[0m\u001b[1;33m(\u001b[0m\u001b[0mlen\u001b[0m\u001b[1;33m(\u001b[0m\u001b[0mshape\u001b[0m\u001b[1;33m)\u001b[0m\u001b[1;33m)\u001b[0m \u001b[1;33m+\u001b[0m \u001b[1;34m' dimensions, but got array '\u001b[0m\u001b[1;33m\u001b[0m\u001b[1;33m\u001b[0m\u001b[0m\n\u001b[1;32m--> 128\u001b[1;33m                         'with shape ' + str(data_shape))\n\u001b[0m\u001b[0;32m    129\u001b[0m                 \u001b[1;32mif\u001b[0m \u001b[1;32mnot\u001b[0m \u001b[0mcheck_batch_axis\u001b[0m\u001b[1;33m:\u001b[0m\u001b[1;33m\u001b[0m\u001b[1;33m\u001b[0m\u001b[0m\n\u001b[0;32m    130\u001b[0m                     \u001b[0mdata_shape\u001b[0m \u001b[1;33m=\u001b[0m \u001b[0mdata_shape\u001b[0m\u001b[1;33m[\u001b[0m\u001b[1;36m1\u001b[0m\u001b[1;33m:\u001b[0m\u001b[1;33m]\u001b[0m\u001b[1;33m\u001b[0m\u001b[1;33m\u001b[0m\u001b[0m\n",
      "\u001b[1;31mValueError\u001b[0m: Error when checking input: expected input_1 to have 3 dimensions, but got array with shape (37, 30)"
     ]
    }
   ],
   "source": [
    "EXAMPLES = ['3 May 1979', '5 April 09', '21th of August 2016', 'Tue 10 Jul 2007', 'Saturday May 9 2018', 'March 3 2001', 'March 3rd 2001', '1 March 2001']\n",
    "for example in EXAMPLES:\n",
    "    \n",
    "    source = string_to_int(example, Tx, human_vocab)\n",
    "    source = np.array(list(map(lambda x: to_categorical(x, num_classes=len(human_vocab)), source))).swapaxes(0,1)\n",
    "    prediction = model.predict([source, s0, c0])\n",
    "    prediction = np.argmax(prediction, axis = -1)\n",
    "    output = [inv_machine_vocab[int(i)] for i in prediction]\n",
    "    \n",
    "    print(\"source:\", example)\n",
    "    print(\"output:\", ''.join(output))"
   ]
  },
  {
   "cell_type": "markdown",
   "metadata": {},
   "source": [
    "You can also change these examples to test with your own examples. The next part will give you a better sense on what the attention mechanism is doing--i.e., what part of the input the network is paying attention to when generating a particular output character. "
   ]
  },
  {
   "cell_type": "markdown",
   "metadata": {},
   "source": [
    "## 3 - Visualizing Attention (Optional / Ungraded)\n",
    "\n",
    "Since the problem has a fixed output length of 10, it is also possible to carry out this task using 10 different softmax units to generate the 10 characters of the output. But one advantage of the attention model is that each part of the output (say the month) knows it needs to depend only on a small part of the input (the characters in the input giving the month). We can  visualize what part of the output is looking at what part of the input.\n",
    "\n",
    "Consider the task of translating \"Saturday 9 May 2018\" to \"2018-05-09\". If we visualize the computed $\\alpha^{\\langle t, t' \\rangle}$ we get this: \n",
    "\n",
    "<img src=\"images/date_attention.png\" style=\"width:600;height:300px;\"> <br>\n",
    "<caption><center> **Figure 8**: Full Attention Map</center></caption>\n",
    "\n",
    "Notice how the output ignores the \"Saturday\" portion of the input. None of the output timesteps are paying much attention to that portion of the input. We see also that 9 has been translated as 09 and May has been correctly translated into 05, with the output paying attention to the parts of the input it needs to to make the translation. The year mostly requires it to pay attention to the input's \"18\" in order to generate \"2018.\" \n",
    "\n"
   ]
  },
  {
   "cell_type": "markdown",
   "metadata": {},
   "source": [
    "### 3.1 - Getting the activations from the network\n",
    "\n",
    "Lets now visualize the attention values in your network. We'll propagate an example through the network, then visualize the values of $\\alpha^{\\langle t, t' \\rangle}$. \n",
    "\n",
    "To figure out where the attention values are located, let's start by printing a summary of the model ."
   ]
  },
  {
   "cell_type": "code",
   "execution_count": null,
   "metadata": {},
   "outputs": [],
   "source": [
    "model.summary()"
   ]
  },
  {
   "cell_type": "markdown",
   "metadata": {},
   "source": [
    "Navigate through the output of `model.summary()` above. You can see that the layer named `attention_weights` outputs the `alphas` of shape (m, 30, 1) before `dot_2` computes the context vector for every time step $t = 0, \\ldots, T_y-1$. Lets get the activations from this layer.\n",
    "\n",
    "The function `attention_map()` pulls out the attention values from your model and plots them."
   ]
  },
  {
   "cell_type": "code",
   "execution_count": null,
   "metadata": {
    "scrolled": false
   },
   "outputs": [],
   "source": [
    "attention_map = plot_attention_map(model, human_vocab, inv_machine_vocab, \"Tuesday 09 Oct 1993\", num = 7, n_s = 64)"
   ]
  },
  {
   "cell_type": "markdown",
   "metadata": {},
   "source": [
    "On the generated plot you can observe the values of the attention weights for each character of the predicted output. Examine this plot and check that where the network is paying attention makes sense to you.\n",
    "\n",
    "In the date translation application, you will observe that most of the time attention helps predict the year, and hasn't much impact on predicting the day/month."
   ]
  },
  {
   "cell_type": "markdown",
   "metadata": {},
   "source": [
    "### Congratulations!\n",
    "\n",
    "\n",
    "You have come to the end of this assignment \n",
    "\n",
    "<font color='blue'> **Here's what you should remember from this notebook**:\n",
    "\n",
    "- Machine translation models can be used to map from one sequence to another. They are useful not just for translating human languages (like French->English) but also for tasks like date format translation. \n",
    "- An attention mechanism allows a network to focus on the most relevant parts of the input when producing a specific part of the output. \n",
    "- A network using an attention mechanism can translate from inputs of length $T_x$ to outputs of length $T_y$, where $T_x$ and $T_y$ can be different. \n",
    "- You can visualize attention weights $\\alpha^{\\langle t,t' \\rangle}$ to see what the network is paying attention to while generating each output."
   ]
  },
  {
   "cell_type": "markdown",
   "metadata": {},
   "source": [
    "Congratulations on finishing this assignment! You are now able to implement an attention model and use it to learn complex mappings from one sequence to another. "
   ]
  }
 ],
 "metadata": {
  "coursera": {
   "course_slug": "nlp-sequence-models",
   "graded_item_id": "n16CQ",
   "launcher_item_id": "npjGi"
  },
  "kernelspec": {
   "display_name": "Python 3",
   "language": "python",
   "name": "python3"
  },
  "language_info": {
   "codemirror_mode": {
    "name": "ipython",
    "version": 3
   },
   "file_extension": ".py",
   "mimetype": "text/x-python",
   "name": "python",
   "nbconvert_exporter": "python",
   "pygments_lexer": "ipython3",
   "version": "3.7.3"
  }
 },
 "nbformat": 4,
 "nbformat_minor": 2
}
