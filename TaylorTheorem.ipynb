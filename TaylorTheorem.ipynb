{
 "cells": [
  {
   "cell_type": "markdown",
   "metadata": {},
   "source": [
    "# Extreme value theorem"
   ]
  },
  {
   "cell_type": "markdown",
   "metadata": {},
   "source": [
    "If a real-valued function $f$ is continuous in the closed and bounded interval [a, b], then $f$ must attain a maximum and minimum, each at least once. There exist numbers $c$ and $d$ in $[a,b]$ such that"
   ]
  },
  {
   "cell_type": "markdown",
   "metadata": {},
   "source": [
    "$$f(c) \\geq f(x) \\geq f(d), \\text{for all} x \\in [a,b]$$"
   ]
  },
  {
   "cell_type": "markdown",
   "metadata": {},
   "source": [
    "# Intermediate value theorem"
   ]
  },
  {
   "cell_type": "markdown",
   "metadata": {},
   "source": [
    "If a continuous function $f$, with an interval, $[a, b]$ as its domain, takes value $f(a)$ and $f(b)$ at each end of the interval, then it also takes any value between $f(a)$ and $f(b)$ at some point within the interval."
   ]
  },
  {
   "cell_type": "markdown",
   "metadata": {},
   "source": [
    "# Mean value therorems for definite integrals"
   ]
  },
  {
   "cell_type": "markdown",
   "metadata": {},
   "source": [
    "If $f:[a, b]\\mapsto \\textbf{R}$ is continuoous and $g$ is an integrable function that does not change sign on $[a,b]$, then there exists c in $(a,b)$ such that"
   ]
  },
  {
   "cell_type": "markdown",
   "metadata": {},
   "source": [
    "$$\\int_a^b{f(x)\\,g(x)\\,dx} = f(c)\\int_a^b{g(x)\\,dx}$$"
   ]
  },
  {
   "cell_type": "markdown",
   "metadata": {},
   "source": [
    "Suppose $f:[a, b]\\mapsto \\textbf{R}$ is continuoous and $g$ is a nonnegative integrable function on $[a,b]$. By the [extreme value theorem](#Extreme-value-theorem), there exists $m$ and $M$ such that for each $x$ in $[a,b]$, $m \\leq f(x) \\leq M$ and $f[a, b] = [m, M]$. Since $g$ is nonnegative."
   ]
  },
  {
   "cell_type": "markdown",
   "metadata": {},
   "source": [
    "$$m\\int_a^b{g(x)\\,dx} \\leq \\int_a^b{f(x)\\,g(x)\\,dx} \\leq M\\int_a^b{g(x)\\,dx}$$"
   ]
  },
  {
   "cell_type": "markdown",
   "metadata": {},
   "source": [
    "If $I = 0$, then for any c in $(a, b)$"
   ]
  },
  {
   "cell_type": "markdown",
   "metadata": {},
   "source": [
    "$$\n",
    "\\begin{split}\n",
    "I = \\int_a^b{g(x)\\,dx}\\\\\n",
    "0 \\leq \\int_a^b{f(x)\\,g(x)\\,dx} \\leq 0\\\\\n",
    "\\int_a^b{f(x)\\,g(x)\\,dx} = f(c)\\,I =0\\\\\n",
    "\\end{split}\n",
    "$$"
   ]
  },
  {
   "cell_type": "markdown",
   "metadata": {},
   "source": [
    "If $I \\neq 0$, then by the [intermediate value theorem](#Intermediate-value-theorem), $f$ attains every value of the interval $[m, M]$. so for some $c$ in $[a, b]$"
   ]
  },
  {
   "cell_type": "markdown",
   "metadata": {},
   "source": [
    "$$\n",
    "\\begin{split}\n",
    "m \\leq \\frac{1}{I}\\int_a^b{f(x)\\,g(x)\\,dx} \\leq M\\\\\n",
    "f(c) = \\frac{1}{I}\\int_a^b{f(x)\\,g(x)\\,dx}\\\\\n",
    "\\int_a^b{f(x)\\,g(x)\\,dx} = f(c)\\,\\int_a^b{g(x)\\,dx}\n",
    "\\end{split}\n",
    "$$"
   ]
  },
  {
   "cell_type": "markdown",
   "metadata": {},
   "source": [
    "If $g$ is negative on $[a, b]$, then follow the same procedure, we can still get the same result as above."
   ]
  },
  {
   "cell_type": "markdown",
   "metadata": {},
   "source": [
    "$$M\\int_a^b{g(x)\\,dx} \\leq \\int_a^b{f(x)\\,g(x)\\,dx} \\leq m\\int_a^b{g(x)\\,dx}$$"
   ]
  },
  {
   "cell_type": "markdown",
   "metadata": {},
   "source": [
    "# Taylor's series"
   ]
  },
  {
   "cell_type": "markdown",
   "metadata": {},
   "source": [
    "The Taylor series of a real function $f(x)$ that is infinitely differentiable at $a$ is the power series."
   ]
  },
  {
   "cell_type": "markdown",
   "metadata": {},
   "source": [
    "$$\n",
    "\\sum_{n = 0}^{\\infty}{\\frac{f^{(n)}(a)}{n!}(x - a)^n}\n",
    "$$"
   ]
  },
  {
   "cell_type": "markdown",
   "metadata": {
    "collapsed": true
   },
   "source": [
    "# Taylor's theorem"
   ]
  },
  {
   "cell_type": "markdown",
   "metadata": {},
   "source": [
    "Taylor's theorem gives an approximation of a k-times differentiable function around a given point by a k-th order **Taylor polynomial**. For analytic functions the Talylor polynomials at a given point are finite order truncations of its **Taylor series**."
   ]
  },
  {
   "cell_type": "markdown",
   "metadata": {},
   "source": [
    "Let $k \\geq 1$ be an integer and let the function $f$: $\\textbf{R} \\mapsto \\textbf{R}$ be $k$ times differentiable at the point $a \\in \\textbf{R}$. Then there exists a function $h_{k}$:$\\textbf{R} \\mapsto \\textbf{R}$ such that"
   ]
  },
  {
   "cell_type": "markdown",
   "metadata": {},
   "source": [
    "$$\n",
    "P_{k}(x) = f(a) + \\frac{f^{\\prime}(a)}{1!}(x-a) + \\frac{f^{\\prime\\prime}(a)}{2!}(x-a)^{2} + \\dots + \\frac{f^{k}(a)}{k!}(x-a)^{k}\n",
    "$$"
   ]
  },
  {
   "cell_type": "markdown",
   "metadata": {},
   "source": [
    "$$\n",
    "f(x) = P_{k}(x) + h_{k}(x)(x - a)^{k}\n",
    "$$"
   ]
  },
  {
   "cell_type": "markdown",
   "metadata": {},
   "source": [
    "$$\n",
    "\\lim_{x \\to a}h_{k}(x) = 0\n",
    "$$"
   ]
  },
  {
   "cell_type": "markdown",
   "metadata": {},
   "source": [
    "Taylor's theorem tell us that the error $R_k$ in an approximation by a k-th order Taylor polynomial $P_k$ tends to zero faster than any nonzero k-th degree polynomial as $x \\to a$, it ensures that the Taylor polynomial of higher degree is, in a sufficiently small neighborhood of the point $a$, a better approximation."
   ]
  },
  {
   "cell_type": "markdown",
   "metadata": {},
   "source": [
    "$$\n",
    "R_{k}(x) = f(x) - P_{k}(x) = o(\\left|x - a\\right|^{k}),\\, x \\to a\n",
    "$$"
   ]
  },
  {
   "cell_type": "markdown",
   "metadata": {},
   "source": [
    "### Derivation for the integral form of the remainder"
   ]
  },
  {
   "cell_type": "markdown",
   "metadata": {},
   "source": [
    "$$\n",
    "\\begin{equation}\n",
    "\\begin{split}\n",
    "R_k(x) & = \\int_a^x{\\frac{f^{(k + 1)}(t)}{k!}(x - t)^k\\,dt}\n",
    "\\end{split}\n",
    "\\end{equation}\n",
    "$$"
   ]
  },
  {
   "cell_type": "markdown",
   "metadata": {},
   "source": [
    "Prove that the equality holds for the base case $k = 1$"
   ]
  },
  {
   "cell_type": "markdown",
   "metadata": {},
   "source": [
    "$$\n",
    "\\begin{equation}\n",
    "\\begin{split}\n",
    "f(x)\n",
    "& = f(a) + \\int_{a}^{x}{f^{\\prime}(t) \\, dt}\\\\\n",
    "& = f(a) + t \\, f^{\\prime}(t) \\, \\Big|_a^x - \\int_{a}^{x}{t \\, f^{\\prime\\prime}(t) \\, dt}\\\\\n",
    "& = f(a) + \\Big(x\\,f^{\\prime}(x) - a\\,f^{\\prime}(a)\\Big) - \\int_a^x{t\\,f^{\\prime\\prime}(t)\\,dt}\\\\\n",
    "& = f(a) + x\\Big(f^{\\prime}(a) + \\int_a^x{f^{\\prime\\prime}(t)\\,dt}\\Big) - a\\,f^{\\prime}(a) - \\int_a^x{t\\,f^{\\prime\\prime}(t)\\,dt}\\\\\n",
    "& = f(a) + (x - a)\\,f^{\\prime}(a) + \\int_a^x{(x - t)\\,f^{\\prime\\prime}(t)\\,dt}\\\\\n",
    "& = P_1(x) + \\int_a^x{\\frac{f^{\\prime\\prime}(t)}{1!}(x - t)^1\\,dt}\\\\\n",
    "R_1(x) & = \\int_a^x{\\frac{f^{\\prime\\prime}(t)}{1!}(x - t)^1\\,dt}\\\\\n",
    "\\end{split}\n",
    "\\end{equation}\n",
    "$$"
   ]
  },
  {
   "cell_type": "markdown",
   "metadata": {},
   "source": [
    "Suppose that"
   ]
  },
  {
   "cell_type": "markdown",
   "metadata": {},
   "source": [
    "$$\n",
    "R_k(x) = \\int_a^x{\\frac{f^{(k + 1)}(t)}{k!}(x - t)^k\\,dt} \\tag{*}\n",
    "$$"
   ]
  },
  {
   "cell_type": "markdown",
   "metadata": {},
   "source": [
    "Prove that if the statement holds for some k, then it must also hold for $k + 1$"
   ]
  },
  {
   "cell_type": "markdown",
   "metadata": {},
   "source": [
    "$$\n",
    "\\begin{equation}\n",
    "\\begin{split}\n",
    "\\int_a^x{\\frac{f^{(k + 1)}(t)}{k!}(x - t)^k\\,dt}\n",
    "& = -\\Bigg[\\frac{f^{(k + 1)}(t)}{k!}\\frac{(x - t)^{k + 1}}{k + 1}\\Bigg]_a^x + \\int_a^x{\\frac{f^{(k + 2)}(t)}{k!}\\frac{(x - t)^{k + 1}}{k + 1}\\,dt}\\\\\n",
    "& = -\\frac{1}{(k + 1)!}\\Bigg(f^{(k + 1)}(x) * (x - x)^{k + 1} - f^{(k + 1)}(a) * (x - a)^{k + 1}\\Bigg) + \\int_a^x{\\frac{f^{(k + 2)}(t)}{(k + 1)!}(x - t)^{k + 1}\\,dt}\\\\\n",
    "& = \\frac{f^{(k + 1)}(a)}{(k + 1)!}(x - a)^{k + 1} + \\int_a^x{\\frac{f^{(k + 2)}(t)}{(k + 1)!}(x - t)^{k + 1}\\,dt}\\\\\n",
    "\\end{split}\n",
    "\\end{equation}\n",
    "$$"
   ]
  },
  {
   "cell_type": "markdown",
   "metadata": {},
   "source": [
    "The general statement is porved using induction, since it holds for k = 1, and if it holds for the value $k$, it also hold for the value $k + 1$. Therefore, it must hold for every positive integer $k$."
   ]
  },
  {
   "cell_type": "markdown",
   "metadata": {},
   "source": [
    "$$\n",
    "\\begin{equation}\n",
    "\\begin{split}\n",
    "f(x)\n",
    "& = P_k(x) + R_k(x)\\\\\n",
    "& = P_k(x) + \\int_a^x{\\frac{f^{(k + 1)}(t)}{k!}(x - t)^k\\,dt}\\\\\n",
    "& = P_k(x) + \\frac{f^{(k + 1)}(a)}{(k + 1)!}(x - a)^{k + 1} + \\int_a^x{\\frac{f^{(k + 2)}(t)}{(k + 1)!}(x - t)^{k + 1}\\,dt}\\\\\n",
    "& = P_{k + 1}(x) + \\int_a^x{\\frac{f^{(k + 2)}(t)}{(k + 1)!}(x - t)^{k + 1}\\,dt}\\\\\n",
    "R_{k + 1}(x) & = \\int_a^x{\\frac{f^{(k + 2)}(t)}{(k + 1)!}(x - t)^{k + 1}\\,dt}\\\\\n",
    "\\end{split}\n",
    "\\end{equation}\n",
    "$$"
   ]
  },
  {
   "cell_type": "markdown",
   "metadata": {},
   "source": [
    "#### Cauchy remainder"
   ]
  },
  {
   "cell_type": "markdown",
   "metadata": {},
   "source": [
    "Given the integral form of the remainder, we can apply [mean value theorem](#Mean-value-therorems-for-definite-integrals), choosing $g(x) = 1$"
   ]
  },
  {
   "cell_type": "markdown",
   "metadata": {
    "collapsed": true
   },
   "source": [
    "$$\n",
    "R_k^C(x) = \\frac{f^{(k + 1)}(\\xi_C)}{k!}(x - \\xi_C)^k \\int_a^x{dt} = \\frac{f^{(k + 1)}(\\xi_C)}{k!}(x - \\xi_C)^k\\,(x - a)\n",
    "$$"
   ]
  },
  {
   "cell_type": "markdown",
   "metadata": {},
   "source": [
    "#### Lagrange remainder"
   ]
  },
  {
   "cell_type": "markdown",
   "metadata": {},
   "source": [
    "On the other hand, by using the fact that the function $g(x) = (x - t)^n$ is nonnegative for $a \\leq t \\leq x$, then for some $a < \\xi_L < x$"
   ]
  },
  {
   "cell_type": "markdown",
   "metadata": {},
   "source": [
    "$$\n",
    "\\begin{equation}\n",
    "\\begin{split}\n",
    "R_k^L(x) \n",
    "& = \\frac{f^{k + 1}(\\xi_L)}{k!} \\int_a^x{(x - t)^k\\,dt}\\\\\n",
    "& = - \\frac{f^{k + 1}(\\xi_L)}{k!} \\frac{(x - t)^{k + 1}}{k + 1}\\Bigg|_a^x\\\\\n",
    "& = \\frac{f^{k + 1}(\\xi_L)}{(k + 1)!}(x - a)^{k + 1}\n",
    "\\end{split}\n",
    "\\end{equation}\n",
    "$$"
   ]
  },
  {
   "cell_type": "code",
   "execution_count": 1,
   "metadata": {
    "collapsed": true
   },
   "outputs": [],
   "source": [
    "import matplotlib.pyplot as plt\n",
    "import numpy as np\n",
    "import sympy as sp\n",
    "% matplotlib inline\n"
   ]
  },
  {
   "cell_type": "code",
   "execution_count": 2,
   "metadata": {
    "collapsed": true
   },
   "outputs": [],
   "source": [
    "def taylorExpand(f, a, degree, symbol):\n",
    "    taylor_serie = f.subs(symbol, a)\n",
    "    derivative = [f]\n",
    "    for k in range(1, degree + 1):\n",
    "        derivative.append(derivative[k - 1].diff(symbol))\n",
    "        taylor_serie += sp.Rational(derivative[k].subs(symbol, a), sp.factorial(k)) * (symbol - a) ** (k)\n",
    "    return taylor_serie\n"
   ]
  },
  {
   "cell_type": "code",
   "execution_count": 3,
   "metadata": {
    "collapsed": true
   },
   "outputs": [],
   "source": [
    "def plotFunc(expr, symbol, label=\"original function\"):\n",
    "    X = np.linspace(-5, 5, 5000)\n",
    "    f = sp.lambdify(symbol, expr, \"numpy\")\n",
    "    plt.rcParams[\"figure.figsize\"] = (12, 8)\n",
    "    plt.plot(X, f(X), label=label)\n",
    "    plt.legend()\n"
   ]
  },
  {
   "cell_type": "code",
   "execution_count": 4,
   "metadata": {
    "collapsed": true
   },
   "outputs": [],
   "source": [
    "x = sp.Symbol('x')\n",
    "f = sp.sin(x)\n"
   ]
  },
  {
   "cell_type": "code",
   "execution_count": 5,
   "metadata": {},
   "outputs": [
    {
     "name": "stdout",
     "output_type": "stream",
     "text": [
      "1 order taylor serie at point 0.5: 494035062339541*x/562949953421312 + 0.0406342576590166\n",
      "2 order taylor serie at point 0.5: 494035062339541*x/562949953421312 - 539785169252447*(x - 0.5)**2/2251799813685248 + 0.0406342576590166\n",
      "3 order taylor serie at point 0.5: 494035062339541*x/562949953421312 - 494035062339541*(x - 0.5)**3/3377699720527872 - 539785169252447*(x - 0.5)**2/2251799813685248 + 0.0406342576590166\n",
      "4 order taylor serie at point 0.5: 494035062339541*x/562949953421312 + 539785169252447*(x - 0.5)**4/27021597764222976 - 494035062339541*(x - 0.5)**3/3377699720527872 - 539785169252447*(x - 0.5)**2/2251799813685248 + 0.0406342576590166\n",
      "5 order taylor serie at point 0.5: 494035062339541*x/562949953421312 + 494035062339541*(x - 0.5)**5/67553994410557440 + 539785169252447*(x - 0.5)**4/27021597764222976 - 494035062339541*(x - 0.5)**3/3377699720527872 - 539785169252447*(x - 0.5)**2/2251799813685248 + 0.0406342576590166\n",
      "6 order taylor serie at point 0.5: 494035062339541*x/562949953421312 - 539785169252447*(x - 0.5)**6/810647932926689280 + 494035062339541*(x - 0.5)**5/67553994410557440 + 539785169252447*(x - 0.5)**4/27021597764222976 - 494035062339541*(x - 0.5)**3/3377699720527872 - 539785169252447*(x - 0.5)**2/2251799813685248 + 0.0406342576590166\n",
      "7 order taylor serie at point 0.5: 494035062339541*x/562949953421312 - 494035062339541*(x - 0.5)**7/2837267765243412480 - 539785169252447*(x - 0.5)**6/810647932926689280 + 494035062339541*(x - 0.5)**5/67553994410557440 + 539785169252447*(x - 0.5)**4/27021597764222976 - 494035062339541*(x - 0.5)**3/3377699720527872 - 539785169252447*(x - 0.5)**2/2251799813685248 + 0.0406342576590166\n",
      "8 order taylor serie at point 0.5: 494035062339541*x/562949953421312 + 539785169252447*(x - 0.5)**8/45396284243894599680 - 494035062339541*(x - 0.5)**7/2837267765243412480 - 539785169252447*(x - 0.5)**6/810647932926689280 + 494035062339541*(x - 0.5)**5/67553994410557440 + 539785169252447*(x - 0.5)**4/27021597764222976 - 494035062339541*(x - 0.5)**3/3377699720527872 - 539785169252447*(x - 0.5)**2/2251799813685248 + 0.0406342576590166\n"
     ]
    },
    {
     "data": {
      "image/png": "[encoded data removed]",
      "text/plain": [
       "<matplotlib.figure.Figure at 0x175642c19b0>"
      ]
     },
     "metadata": {},
     "output_type": "display_data"
    }
   ],
   "source": [
    "plotFunc(f, x)\n",
    "for k in range(1, 9):\n",
    "    a = 0.5\n",
    "    t_serie = taylorExpand(f, a, k, x)\n",
    "    print(f\"{k} order taylor serie at point {a}:\", t_serie)\n",
    "    plotFunc(t_serie, x, f\"{k} order approximation\")\n"
   ]
  },
  {
   "cell_type": "markdown",
   "metadata": {},
   "source": [
    "# Analytic function"
   ]
  },
  {
   "cell_type": "markdown",
   "metadata": {},
   "source": [
    "Let $I \\subset \\textbf{R}$ be an open interval. A function $f:I \\mapsto \\textbf{R}$ is real analytic if it is locally defined by a convergent power series. This means that for every $a \\in I$ there exists some $r > 0$ and a sequece of coefficients $c_k \\in \\textbf{R}$ such that $(a - r, a + r) \\subset I$ and the Taylor series of f will converge to $f$."
   ]
  },
  {
   "cell_type": "markdown",
   "metadata": {},
   "source": [
    "$$f(x) = \\sum_{k = 0}^{\\infty}{c_k(x - a)^k},\\,\\left|x - a\\right| < r$$"
   ]
  },
  {
   "cell_type": "markdown",
   "metadata": {},
   "source": [
    "In case of an infinitely many times differentiable function $f$ has a Taylor series at $a$ which converges on some open neighborhood of $a$, but the limit function $T_f$ is different from $f$, the function $f$ is then said to be non-analytic."
   ]
  },
  {
   "cell_type": "code",
   "execution_count": null,
   "metadata": {
    "collapsed": true
   },
   "outputs": [],
   "source": []
  }
 ],
 "metadata": {
  "kernelspec": {
   "display_name": "Python 3",
   "language": "python",
   "name": "python3"
  },
  "language_info": {
   "codemirror_mode": {
    "name": "ipython",
    "version": 3
   },
   "file_extension": ".py",
   "mimetype": "text/x-python",
   "name": "python",
   "nbconvert_exporter": "python",
   "pygments_lexer": "ipython3",
   "version": "3.6.3"
  }
 },
 "nbformat": 4,
 "nbformat_minor": 1
}
