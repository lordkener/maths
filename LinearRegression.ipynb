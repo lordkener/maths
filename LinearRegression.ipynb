{
 "cells": [
  {
   "cell_type": "markdown",
   "metadata": {
    "collapsed": true
   },
   "source": [
    "# Programming Exercise 1 - Linear Regression\n",
    "\n",
    "1. [warmUpExercise](#1.-warmUpExercise)\n",
    "2. [Linear regression with one variable](#2.-Linear-regression-with-one-variable)\n",
    "    1. [Plotting the Data](#2.1-Plotting-the-Data)\n",
    "    2. [Gradient Descent](#2.2-Gradient-Descent)\n",
    "        1. [Update Equation](#2.2.1-Update-Equation)\n",
    "        2. [Implementatioin](#2.2.2-Implementatioin)\n",
    "        3. [Computing the cost J](#2.2.3-Computing-the-cost-J)\n",
    "        4. [Implementation of Gradient descent](#2.2.4-Gradient-descent)\n",
    "    3. [Debugging](#2.3-Debugging)\n",
    "    4. [Visualizing J](#2.4-Visualizing-J)\n",
    "3. [Linear regression with multiple variables](#3.-Linear-regression-with-multiple-variables)\n",
    "    1. [Feature Normalization](#3.1-Feature-Normalization)\n",
    "    2. [Implementation of Gradient descent](#3.2-Gradient-Descent)\n",
    "        1. [Selecting learning rates](#3.2.1-Selecting-learning-rates)\n",
    "    3. [Normal Equations](#3.3-Normal-Equations)"
   ]
  },
  {
   "cell_type": "code",
   "execution_count": 1,
   "metadata": {
    "collapsed": true
   },
   "outputs": [],
   "source": [
    "import pandas as pd\n",
    "import numpy as np\n",
    "import matplotlib.pyplot as plt\n",
    "from mpl_toolkits.mplot3d import Axes3D\n",
    "from sklearn.linear_model import LinearRegression\n",
    "% matplotlib inline\n"
   ]
  },
  {
   "cell_type": "markdown",
   "metadata": {},
   "source": [
    "## 1. warmUpExercise"
   ]
  },
  {
   "cell_type": "code",
   "execution_count": 2,
   "metadata": {
    "collapsed": true
   },
   "outputs": [],
   "source": [
    "def warmUpExercise():\n",
    "    return np.identity(5)"
   ]
  },
  {
   "cell_type": "code",
   "execution_count": 3,
   "metadata": {},
   "outputs": [
    {
     "data": {
      "text/plain": [
       "array([[ 1.,  0.,  0.,  0.,  0.],\n       [ 0.,  1.,  0.,  0.,  0.],\n       [ 0.,  0.,  1.,  0.,  0.],\n       [ 0.,  0.,  0.,  1.,  0.],\n       [ 0.,  0.,  0.,  0.,  1.]])"
      ]
     },
     "execution_count": 3,
     "metadata": {},
     "output_type": "execute_result"
    }
   ],
   "source": [
    "warmUpExercise()"
   ]
  },
  {
   "cell_type": "markdown",
   "metadata": {},
   "source": [
    "## 2. Linear regression with one variable"
   ]
  },
  {
   "cell_type": "code",
   "execution_count": 4,
   "metadata": {
    "collapsed": true
   },
   "outputs": [],
   "source": [
    "# load the dataset\n",
    "# read comma separated data\n",
    "data = np.loadtxt(\"./machine-learning-ex1/ex1/ex1data1.txt\", delimiter=\",\")\n",
    "\n",
    "# y is a vector\n",
    "X, y = np.hsplit(data, 2)\n",
    "# number of training examples\n",
    "m = y.size\n"
   ]
  },
  {
   "cell_type": "markdown",
   "metadata": {},
   "source": [
    "### 2.1 Plotting the Data"
   ]
  },
  {
   "cell_type": "code",
   "execution_count": 5,
   "metadata": {},
   "outputs": [
    {
     "data": {
      "text/plain": [
       "<matplotlib.legend.Legend at 0x1de5d1b7160>"
      ]
     },
     "execution_count": 5,
     "metadata": {},
     "output_type": "execute_result"
    },
    {
     "data": {
      "image/png": "[encoded data removed]",
      "text/plain": [
       "<matplotlib.figure.Figure at 0x1de5cfd49e8>"
      ]
     },
     "metadata": {},
     "output_type": "display_data"
    }
   ],
   "source": [
    "# Before starting on any task,\n",
    "# it is often useful to understand the data by visualizing it\n",
    "figure = plt.figure()\n",
    "ax1 = figure.add_subplot(1, 1, 1)\n",
    "# For this dataset, you can use a scatter plot to visualize the data\n",
    "ax1.scatter(X, y, c=\"r\", marker='x', label=\"Training data\")\n",
    "# Set the y-axis label\n",
    "ax1.set_ylabel('Profit in $10,000s')\n",
    "# Set the x-axis label\n",
    "ax1.set_xlabel('Population of City in 10,000s')\n",
    "\n",
    "# show label\n",
    "ax1.legend(loc='lower right')\n"
   ]
  },
  {
   "cell_type": "markdown",
   "metadata": {},
   "source": [
    "### 2.2 Gradient Descent"
   ]
  },
  {
   "cell_type": "markdown",
   "metadata": {},
   "source": [
    "#### 2.2.1 Update Equation"
   ]
  },
  {
   "cell_type": "markdown",
   "metadata": {},
   "source": [
    "$$\n",
    "\\begin{gather*}\n",
    "w_{t+1} = w_{t} - \\gamma\\nabla_{w}\\ell(f_{w}(x),y)\\\\\n",
    "\\theta_{j} := \\theta_{j} - \\alpha\\frac{1}{m}\\sum_{i=1}^{m}(h_{\\theta}(x^{(i)})-y^{(i)})x_{j}^{(i)}\\\\\n",
    "\\theta := \\theta - \\frac{\\alpha}{m}X^{\\mathbf{T}}(X\\theta-\\vec{y})\n",
    "\\end{gather*}\n",
    "$$"
   ]
  },
  {
   "cell_type": "markdown",
   "metadata": {},
   "source": [
    "#### 2.2.2 Implementatioin"
   ]
  },
  {
   "cell_type": "code",
   "execution_count": 6,
   "metadata": {
    "collapsed": true
   },
   "outputs": [],
   "source": [
    "def updateTheta(theta, X_with_1stc_Ones, y, alpha):\n",
    "    return theta - (alpha / m) * X_with_1stc_Ones.T.dot((X_with_1stc_Ones.dot(theta) - y))\n"
   ]
  },
  {
   "cell_type": "markdown",
   "metadata": {},
   "source": [
    "#### 2.2.3 Computing the cost J"
   ]
  },
  {
   "cell_type": "markdown",
   "metadata": {},
   "source": [
    "The objectiev of linear regression is to minimize the cost function\n",
    "$$\n",
    "\\begin{gather*}\n",
    "J(\\theta) = \\frac{1}{2m}\\sum_{i=1}^{m}(h_{\\theta}(x^{(i)})-y^{(i)})^{2}\\\\\n",
    "h_{\\theta}(x) = \\theta^{\\mathbf{T}}x\n",
    "\\end{gather*}\n",
    "$$"
   ]
  },
  {
   "cell_type": "code",
   "execution_count": 7,
   "metadata": {
    "collapsed": true
   },
   "outputs": [],
   "source": [
    "# receive X without first coloum initialize as ones\n",
    "def computeCost(X, y, theta):\n",
    "    m = y.size\n",
    "    theta0, weight_v = np.vsplit(theta, (1,))\n",
    "    return np.sum(np.square((theta0 + X.dot(weight_v)) - y)) / (m * 2)\n",
    "\n",
    "theta = np.zeros((2, 1))  # initialize fitting parameter\n",
    "# You should expect to see a cost of 32.07\n",
    "assert round(computeCost(X, y, theta), 2) == 32.07\n"
   ]
  },
  {
   "cell_type": "markdown",
   "metadata": {
    "collapsed": true
   },
   "source": [
    "#### 2.2.4 Gradient descent"
   ]
  },
  {
   "cell_type": "code",
   "execution_count": 8,
   "metadata": {
    "collapsed": true
   },
   "outputs": [],
   "source": [
    "def gradient_descent(X, y, theta=None, iterations=1500, alpha=0.01):\n",
    "    # Add a column of ones to x\n",
    "    X_with_Ones = np.column_stack((np.ones(y.size), X))\n",
    "    m = y.size\n",
    "    # initialize fitting parameters\n",
    "    if theta is None:\n",
    "        theta = np.zeros((X_with_Ones.shape[1], 1))\n",
    "    j_cost_history = np.empty((iterations,))\n",
    "    for i in np.arange(iterations):\n",
    "        theta = updateTheta(theta, X_with_Ones, y, alpha)\n",
    "        # calls computeCost on every iteration\n",
    "        j_cost_history[i] = computeCost(X, y, theta)\n",
    "    return theta, j_cost_history\n"
   ]
  },
  {
   "cell_type": "code",
   "execution_count": 9,
   "metadata": {},
   "outputs": [
    {
     "name": "stdout",
     "output_type": "stream",
     "text": [
      "theta:  [-3.63029144  1.16636235]\n"
     ]
    },
    {
     "data": {
      "image/png": "[encoded data removed]",
      "text/plain": [
       "<matplotlib.figure.Figure at 0x1de5bf79898>"
      ]
     },
     "metadata": {},
     "output_type": "display_data"
    }
   ],
   "source": [
    "theta, j_cost_history = gradient_descent(X, y)\n",
    "print('theta: ', theta.ravel())\n",
    "\n",
    "# if you have implemented gradient descent and computeCost correctly\n",
    "# your value of J(theta) should never increase,\n",
    "# and should converge to a steady value by the end of the algorithm\n",
    "plt.plot(j_cost_history)\n",
    "plt.ylabel('Cost J')\n",
    "plt.xlabel('Iterations');\n"
   ]
  },
  {
   "cell_type": "markdown",
   "metadata": {},
   "source": [
    "### 2.3 Debugging"
   ]
  },
  {
   "cell_type": "code",
   "execution_count": 10,
   "metadata": {},
   "outputs": [
    {
     "data": {
      "image/png": "[encoded data removed]",
      "text/plain": [
       "<matplotlib.figure.Figure at 0x1de5cfd49e8>"
      ]
     },
     "metadata": {},
     "output_type": "display_data"
    }
   ],
   "source": [
    "# reuse the previous figure\n",
    "ax = figure.add_subplot(1, 1, 1)\n",
    "\n",
    "max_x, max_y = data.max(axis=0)\n",
    "min_x, min_y = data.min(axis=0)\n",
    "\n",
    "# Plot gradient descent\n",
    "simulate_x = np.linspace(min_x, max_x)\n",
    "simulate_y = theta[0] + simulate_x * theta[1]\n",
    "ax.plot(simulate_x, simulate_y, c='b', label='Linear regression (Gradient descent)')\n",
    "\n",
    "# Compare with Scikit-learn Linear regression\n",
    "reg = LinearRegression()\n",
    "# LinearRegression will take in its fit method arrays X, y \n",
    "# and will store the coefficients w of the linear model in its coef_ member\n",
    "reg.fit(X, y.ravel())\n",
    "# the vector w = (w1,..., wj) as coef_and w_0 as intercept_.\n",
    "linear_aprox_skilearn_y = reg.intercept_ + reg.coef_ * simulate_x\n",
    "ax.plot(simulate_x, linear_aprox_skilearn_y, c='orange', label='Linear regression (Scikit-learn GLM)')\n",
    "\n",
    "# Now add the legend with some customizations.\n",
    "ax.legend(loc='lower right')\n",
    "figure"
   ]
  },
  {
   "cell_type": "code",
   "execution_count": 11,
   "metadata": {},
   "outputs": [
    {
     "name": "stdout",
     "output_type": "stream",
     "text": [
      "[ 0.45197679] [ 4.53424501]\n"
     ]
    }
   ],
   "source": [
    "# Predict profit for a city with population of 35000 and 70000\n",
    "predict1 = np.array([1, 3.5]).dot(theta)\n",
    "predict2 = np.array([1, 7]).dot(theta)\n",
    "print(predict1, predict2)"
   ]
  },
  {
   "cell_type": "markdown",
   "metadata": {},
   "source": [
    "### 2.4 Visualizing J"
   ]
  },
  {
   "cell_type": "code",
   "execution_count": 12,
   "metadata": {},
   "outputs": [],
   "source": [
    "# Create grid coordinates for plotting\n",
    "T0 = np.linspace(-10, 10)\n",
    "T1 = np.linspace(-1, 4)\n",
    "xx, yy = np.meshgrid(T0, T1, indexing='xy')\n",
    "# initialize J vals to a matrix of 0's\n",
    "Z = np.zeros((T0.size, T1.size))\n",
    "# Calculate Z-values (Cost) based on grid of coefficients\n",
    "# Fill out J.vals\n",
    "for (i, j), v in np.ndenumerate(Z):\n",
    "    Z[i, j] = computeCost(X, y, theta=[[xx[i, j]], [yy[i, j]]])\n",
    "\n",
    "cost_fig = plt.figure(figsize=(15, 6))\n",
    "ax1 = cost_fig.add_subplot(121)\n",
    "ax2 = cost_fig.add_subplot(122, projection='3d')\n",
    "\n",
    "# Left plot\n",
    "CS = ax1.contour(xx, yy, Z, np.logspace(-2, 3, 20), cmap=plt.cm.jet)\n",
    "ax1.scatter(reg.intercept_, reg.coef_, c='orange', label='Linear regression (Scikit-learn GLM)')\n",
    "ax1.scatter(theta[0], theta[1], c='b', label='Linear regression (Gradient descent)')\n",
    "ax1.legend(loc='lower right')\n",
    "\n",
    "# Right plot\n",
    "ax2.plot_surface(xx, yy, Z, rstride=1, cstride=1, alpha=0.6, cmap=plt.cm.jet)\n",
    "ax2.set_zlabel('Cost')\n",
    "ax2.set_zlim(Z.min(), Z.max())\n",
    "ax2.view_init(elev=15, azim=230)\n",
    "\n",
    "# settings common to both plots\n",
    "for ax in cost_fig.axes:\n",
    "    ax.set_xlabel(r'$\\theta_0$', fontsize=17)\n",
    "    ax.set_ylabel(r'$\\theta_1$', fontsize=17)"
   ]
  },
  {
   "cell_type": "markdown",
   "metadata": {
    "collapsed": true
   },
   "source": [
    "## 3. Linear regression with multiple variables"
   ]
  },
  {
   "cell_type": "code",
   "execution_count": 13,
   "metadata": {
    "collapsed": true
   },
   "outputs": [],
   "source": [
    "# read comma separated data\n",
    "data = np.loadtxt(\"./machine-learning-ex1/ex1/ex1data2.txt\", delimiter=\",\")\n",
    "\n",
    "# The first column is the size of the house (in square feet),\n",
    "# the second column is the number of bedrooms, \n",
    "# and the third column is the price of the house.\n",
    "X, y = np.hsplit(data, (2,))\n"
   ]
  },
  {
   "cell_type": "markdown",
   "metadata": {},
   "source": [
    "### 3.1 Feature Normalization"
   ]
  },
  {
   "cell_type": "code",
   "execution_count": 14,
   "metadata": {
    "collapsed": true
   },
   "outputs": [],
   "source": [
    "def feature_normalize(X):\n",
    "    # Subtract the mean value of each feature from the dataset\n",
    "    features_mean = np.mean(X, axis=0)\n",
    "\n",
    "    # Calculate their respective “standard deviations\".\n",
    "    features_std = np.std(X, axis=0)\n",
    "\n",
    "    # After subtracting the mean, additionally scale (divide) the feature values by std\n",
    "    # numpy Broadcasting operation\n",
    "    scaled_X = (X - features_mean) / features_std\n",
    "    # When normalizing the features, it is important to store the values used for normalization\n",
    "    # when predict a new x value, we must first normalize x using the mean and standard deviation \n",
    "    # that we had previously computed from the training set.\n",
    "    return scaled_X, features_mean, features_std\n"
   ]
  },
  {
   "cell_type": "code",
   "execution_count": 15,
   "metadata": {},
   "outputs": [
    {
     "data": {
      "text/plain": [
       "<matplotlib.collections.PathCollection at 0x1de5da92748>"
      ]
     },
     "execution_count": 15,
     "metadata": {},
     "output_type": "execute_result"
    },
    {
     "data": {
      "image/png": "[encoded data removed]",
      "text/plain": [
       "<matplotlib.figure.Figure at 0x1de5d50d160>"
      ]
     },
     "metadata": {},
     "output_type": "display_data"
    }
   ],
   "source": [
    "scaled_X, features_mean, features_std = feature_normalize(X)\n",
    "# most data points will lie within ± 2 standard deviations of the mean\n",
    "plt.scatter(*np.hsplit(scaled_X, 2))\n"
   ]
  },
  {
   "cell_type": "markdown",
   "metadata": {
    "collapsed": true
   },
   "source": [
    "### 3.2 Gradient Descent"
   ]
  },
  {
   "cell_type": "markdown",
   "metadata": {},
   "source": [
    "**Implementation Note:** In the multivariate case, the cost function can also be written in the following vectorized form\n",
    "$$\n",
    "\\begin{equation}\n",
    "J(\\theta) = \\frac{1}{2m}(X\\theta-\\vec{y})^{\\mathbf{T}}(X\\theta-\\vec{y})\n",
    "\\end{equation}\n",
    "$$"
   ]
  },
  {
   "cell_type": "code",
   "execution_count": 16,
   "metadata": {},
   "outputs": [
    {
     "name": "stdout",
     "output_type": "stream",
     "text": [
      "[ 340412.65956481] [ 109446.45138847] [-6577.00977299]\n"
     ]
    }
   ],
   "source": [
    "# uses the previously defined function\n",
    "theta_sol, j_his = gradient_descent(scaled_X, y, iterations=5000)\n",
    "\n",
    "print(*theta_sol)\n"
   ]
  },
  {
   "cell_type": "code",
   "execution_count": 17,
   "metadata": {},
   "outputs": [
    {
     "name": "stdout",
     "output_type": "stream",
     "text": [
      "340412.659574 109447.79647 -6578.35485416\n"
     ]
    }
   ],
   "source": [
    "reg = LinearRegression()\n",
    "reg.fit(scaled_X, y.ravel())\n",
    "print(reg.intercept_, *reg.coef_)"
   ]
  },
  {
   "cell_type": "markdown",
   "metadata": {},
   "source": [
    "#### 3.2.1 Selecting learning rates"
   ]
  },
  {
   "cell_type": "code",
   "execution_count": 18,
   "metadata": {
    "scrolled": false
   },
   "outputs": [
    {
     "data": {
      "text/plain": [
       "<matplotlib.legend.Legend at 0x1de5dc5e630>"
      ]
     },
     "execution_count": 18,
     "metadata": {},
     "output_type": "execute_result"
    }
   ],
   "source": [
    "alpha_choice = plt.figure(figsize=(10, 5))\n",
    "ax = alpha_choice.add_subplot(1, 1, 1)\n",
    "for i in np.logspace(-3, 0.428, 10):\n",
    "    # run gradient descent for about 50 iterations at the chosen learning rate\n",
    "    _____theta, his = gradient_descent(scaled_X, y, alpha=i, iterations=50)\n",
    "    ax.plot(his, label=str(i))\n",
    "\n",
    "ax.set_xlabel(\"iteration\")\n",
    "ax.set_ylabel(\"cost\")\n",
    "ax.legend(loc='upper right')\n"
   ]
  },
  {
   "cell_type": "code",
   "execution_count": 19,
   "metadata": {},
   "outputs": [
    {
     "data": {
      "text/plain": [
       "array([ 293081.76017651])"
      ]
     },
     "execution_count": 19,
     "metadata": {},
     "output_type": "execute_result"
    }
   ],
   "source": [
    "# predict the price of a house with 1650 square feet and 3 bedrooms\n",
    "x = (np.array([1650, 3]) - features_mean) / features_std\n",
    "# you will use value later to check your implementation of the normal equation\n",
    "np.concatenate((np.array([1]), x)).dot(theta_sol)\n"
   ]
  },
  {
   "cell_type": "markdown",
   "metadata": {},
   "source": [
    "### 3.3 Normal Equations"
   ]
  },
  {
   "cell_type": "code",
   "execution_count": 20,
   "metadata": {
    "collapsed": true
   },
   "outputs": [],
   "source": [
    "# Using this formula does not require any feature scaling,\n",
    "# and you will get an exact solution in one calculation\n",
    "def normal_equations(X, y):\n",
    "    # you will still need to add a column of 1's to the X\n",
    "    X_with_Ones = np.column_stack((np.ones(y.size), X))\n",
    "    # it uses the pseudo-inverse rather then real inverse\n",
    "    return np.linalg.pinv(X_with_Ones.T.dot(X_with_Ones)).dot(X_with_Ones.T).dot(y)\n"
   ]
  },
  {
   "cell_type": "code",
   "execution_count": 21,
   "metadata": {},
   "outputs": [
    {
     "data": {
      "text/plain": [
       "array([ 293081.46433499])"
      ]
     },
     "execution_count": 21,
     "metadata": {},
     "output_type": "execute_result"
    }
   ],
   "source": [
    "theta_sol_by_ne = normal_equations(X, y)\n",
    "# You should find that gives the almost same predicted price \n",
    "# as the value you obtained using the model fit with gradient descent\n",
    "np.array([1, 1650, 3]).dot(theta_sol_by_ne)\n"
   ]
  },
  {
   "cell_type": "code",
   "execution_count": 22,
   "metadata": {
    "collapsed": true
   },
   "outputs": [],
   "source": []
  }
 ],
 "metadata": {
  "kernelspec": {
   "display_name": "Python 3",
   "language": "python",
   "name": "python3"
  },
  "language_info": {
   "codemirror_mode": {
    "name": "ipython",
    "version": 3
   },
   "file_extension": ".py",
   "mimetype": "text/x-python",
   "name": "python",
   "nbconvert_exporter": "python",
   "pygments_lexer": "ipython3",
   "version": "3.6.2"
  }
 },
 "nbformat": 4,
 "nbformat_minor": 1
}
